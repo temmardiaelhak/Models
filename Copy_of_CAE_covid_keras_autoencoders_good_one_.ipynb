{
  "cells": [
    {
      "cell_type": "markdown",
      "metadata": {
        "id": "view-in-github",
        "colab_type": "text"
      },
      "source": [
        "<a href=\"https://colab.research.google.com/github/temmardiaelhak/ModelsPaperASRM/blob/main/Copy_of_CAE_covid_keras_autoencoders_good_one_.ipynb\" target=\"_parent\"><img src=\"https://colab.research.google.com/assets/colab-badge.svg\" alt=\"Open In Colab\"/></a>"
      ]
    },
    {
      "cell_type": "markdown",
      "metadata": {
        "id": "2w_4Xg4oTOYY"
      },
      "source": [
        "# Enable connect to drive google"
      ]
    },
    {
      "cell_type": "code",
      "execution_count": null,
      "metadata": {
        "colab": {
          "base_uri": "https://localhost:8080/"
        },
        "id": "IMWACcvQryFV",
        "outputId": "58863d2f-7aaa-4d97-85ab-f897d475e7c8"
      },
      "outputs": [
        {
          "output_type": "stream",
          "name": "stdout",
          "text": [
            "Mounted at /content/drive\n"
          ]
        }
      ],
      "source": [
        "from google.colab import drive\n",
        "drive.mount('/content/drive')"
      ]
    },
    {
      "cell_type": "markdown",
      "metadata": {
        "id": "8kpIi0dTS4sk"
      },
      "source": [
        "# Convert dataset image to array"
      ]
    },
    {
      "cell_type": "code",
      "execution_count": null,
      "metadata": {
        "id": "9XSGnam0UDq4"
      },
      "outputs": [],
      "source": [
        "import numpy as np\n",
        "import cv2\n",
        "from keras.preprocessing.image import img_to_array\n",
        "\n",
        "import os\n",
        "from keras.models import Model\n",
        "from matplotlib import pyplot as plt\n",
        "SIZE=256\n",
        "from tqdm import tqdm"
      ]
    },
    {
      "cell_type": "code",
      "execution_count": null,
      "metadata": {
        "id": "0yAzjYuaWbu4"
      },
      "outputs": [],
      "source": [
        "img_array1=[]\n",
        "img_data1=[]\n",
        "path1 = '/content/drive/MyDrive/datasetv1/train/COVID/'\n",
        "#COVID'\n",
        "#path1 = '/content/drive/MyDrive/datasetv1/train/'\n",
        "SIZE=256\n",
        "files=os.listdir(path1)\n",
        "for i in tqdm(files):\n",
        "    img1=cv2.imread(path1+'/'+i,1)   #Change 0 to 1 for color images\n",
        "    img1 = cv2.cvtColor(img1, cv2.COLOR_BGR2GRAY) #Changing BGR to GRAY to show images in true colors\n",
        "    img1=cv2.resize(img1,(SIZE, SIZE),1)\n",
        "    img_data1.append(img_to_array(img1))\n",
        "\n",
        "\n",
        "img1=np.reshape(img1, ( SIZE, SIZE,1))\n",
        "img_array1 = np.reshape(img_data1, (len(img_data1), SIZE, SIZE,1))\n",
        "img_array1 = img_array1.astype('float32') / 255.0\n",
        "\n"
      ]
    },
    {
      "cell_type": "code",
      "execution_count": null,
      "metadata": {
        "id": "CNUX-GbWWbu5"
      },
      "outputs": [],
      "source": [
        "img_array1.shape"
      ]
    },
    {
      "cell_type": "code",
      "execution_count": null,
      "metadata": {
        "id": "C_S1LfaRWbu6"
      },
      "outputs": [],
      "source": [
        "import pickle\n",
        "\n",
        "pickle_out = open(\"/content/drive/MyDrive/good Model/featurimg_arrayesseclast.pickle\",\"wb\")\n",
        "pickle.dump(img_array1, pickle_out)\n",
        "pickle_out.close()\n"
      ]
    },
    {
      "cell_type": "code",
      "execution_count": null,
      "metadata": {
        "id": "aShiGM_bAGoN"
      },
      "outputs": [],
      "source": [
        "img_array1=[]\n",
        "img_data1=[]\n",
        "path1 = '/content/drive/MyDrive/datasetv1/train/Normal'\n",
        "#COVID'\n",
        "#path1 = '/content/drive/MyDrive/datasetv1/train/'\n",
        "\n",
        "files=os.listdir(path1)\n",
        "for i in tqdm(files):\n",
        "    img1=cv2.imread(path1+'/'+i,1)   #Change 0 to 1 for color images\n",
        "    img1 = cv2.cvtColor(img1, cv2.COLOR_BGR2GRAY) #Changing BGR to GRAY to show images in true colors\n",
        "    img1=cv2.resize(img1,(SIZE, SIZE),1)\n",
        "    img_data1.append(img_to_array(img1))\n",
        "\n",
        "\n",
        "img1=np.reshape(img1, ( SIZE, SIZE,1))\n",
        "img_array1 = np.reshape(img_data1, (len(img_data1), SIZE, SIZE,1))\n",
        "img_array1 = img_array1.astype('float32') / 255.0\n",
        "\n"
      ]
    },
    {
      "cell_type": "code",
      "execution_count": null,
      "metadata": {
        "id": "ChPm-Ss8WX92"
      },
      "outputs": [],
      "source": [
        "import pickle\n",
        "\n",
        "pickle_out = open(\"/content/drive/MyDrive/good Model/normalfeaturimg_arrayesseclast.pickle\",\"wb\")\n",
        "pickle.dump(img_array1, pickle_out)\n",
        "pickle_out.close()\n"
      ]
    },
    {
      "cell_type": "code",
      "execution_count": null,
      "metadata": {
        "id": "S0ODvgjhRohE"
      },
      "outputs": [],
      "source": [
        "img_array1=[]\n",
        "img_data1=[]\n",
        "path1 = '/content/drive/MyDrive/datasetv1/train/Viral Pneumonia'\n",
        "#COVID'\n",
        "#path1 = '/content/drive/MyDrive/datasetv1/train/'\n",
        "\n",
        "files=os.listdir(path1)\n",
        "for i in tqdm(files):\n",
        "    img1=cv2.imread(path1+'/'+i,1)   #Change 0 to 1 for color images\n",
        "    img1 = cv2.cvtColor(img1, cv2.COLOR_BGR2GRAY) #Changing BGR to GRAY to show images in true colors\n",
        "    img1=cv2.resize(img1,(SIZE, SIZE),1)\n",
        "    img_data1.append(img_to_array(img1))\n",
        "\n",
        "\n",
        "img1=np.reshape(img1, ( SIZE, SIZE,1))\n",
        "img_array1 = np.reshape(img_data1, (len(img_data1), SIZE, SIZE,1))\n",
        "img_array1 = img_array1.astype('float32') / 255.0\n"
      ]
    },
    {
      "cell_type": "code",
      "execution_count": null,
      "metadata": {
        "id": "RN23dInzTIw0"
      },
      "outputs": [],
      "source": [
        "len(img_array1)"
      ]
    },
    {
      "cell_type": "code",
      "execution_count": null,
      "metadata": {
        "id": "G8adtoCwRp2D"
      },
      "outputs": [],
      "source": [
        "import pickle\n",
        "\n",
        "pickle_out = open(\"/content/drive/MyDrive/good Model/Pneumoniafeaturimg_arrayesseclast.pickle\",\"wb\")\n",
        "pickle.dump(img_array1, pickle_out)\n",
        "pickle_out.close()"
      ]
    },
    {
      "cell_type": "code",
      "execution_count": null,
      "metadata": {
        "id": "mr2wWVvPFh-b"
      },
      "outputs": [],
      "source": [
        "import pickle\n",
        "pickle_in = open(\"/content/drive/MyDrive/good Model/featurimg_arrayesseclast.pickle\",\"rb\")\n",
        "img_array= pickle.load(pickle_in)"
      ]
    },
    {
      "cell_type": "code",
      "execution_count": null,
      "metadata": {
        "id": "iFGtIXAXTeWz"
      },
      "outputs": [],
      "source": [
        "len(img_array)"
      ]
    },
    {
      "cell_type": "code",
      "execution_count": null,
      "metadata": {
        "id": "vH86W2c1Sd9z"
      },
      "outputs": [],
      "source": [
        "\n",
        "import pickle\n",
        "pickle_in = open(\"/content/drive/MyDrive/good Model/Pneumoniafeaturimg_arrayesseclast.pickle\",\"rb\")\n",
        "img_arrayPneumonia= pickle.load(pickle_in)\n",
        "len(img_arrayPneumonia)\n"
      ]
    },
    {
      "cell_type": "code",
      "execution_count": null,
      "metadata": {
        "id": "WusnXUV7SiKU"
      },
      "outputs": [],
      "source": [
        "\n",
        "import pickle\n",
        "pickle_in = open(\"/content/drive/MyDrive/good Model/normalfeaturimg_arrayesseclast.pickle\",\"rb\")\n",
        "img_arraynormal= pickle.load(pickle_in)\n",
        "len(img_arraynormal)"
      ]
    },
    {
      "cell_type": "code",
      "execution_count": null,
      "metadata": {
        "id": "ds5XJrOiFV7N"
      },
      "outputs": [],
      "source": [
        "2169\n",
        "807"
      ]
    },
    {
      "cell_type": "code",
      "execution_count": null,
      "metadata": {
        "id": "OqJfiFxvTZOS"
      },
      "outputs": [],
      "source": [
        "all=[]\n",
        "all=np.insert(img_array,len(img_array)-1,img_arraynormal[0:1000],axis=0)\n",
        "len(all)"
      ]
    },
    {
      "cell_type": "code",
      "execution_count": null,
      "metadata": {
        "id": "esWGNnbmU6JD"
      },
      "outputs": [],
      "source": [
        "all=np.insert(all,len(all)-1,img_arrayPneumonia,axis=0)#img_arraynormal\n",
        "len(all)"
      ]
    },
    {
      "cell_type": "code",
      "execution_count": null,
      "metadata": {
        "id": "Zx_KbhUtW4Tz"
      },
      "outputs": [],
      "source": [
        "all.shape"
      ]
    },
    {
      "cell_type": "markdown",
      "metadata": {
        "id": "_lYISUZUYpsH"
      },
      "source": [
        "# **REload dataset train**"
      ]
    },
    {
      "cell_type": "code",
      "execution_count": null,
      "metadata": {
        "colab": {
          "base_uri": "https://localhost:8080/"
        },
        "id": "BRjFGsMJQZ_I",
        "outputId": "60ff3243-da29-4ad6-a8ca-bee4dd6ffd2c"
      },
      "outputs": [
        {
          "data": {
            "text/plain": [
              "9091"
            ]
          },
          "execution_count": 4,
          "metadata": {},
          "output_type": "execute_result"
        }
      ],
      "source": [
        "import pickle\n",
        "pickle_in = open(\"/content/drive/MyDrive/test CAE/p_10lastallfeaturimg_arrayesseclast.pickle\",\"rb\")\n",
        "all= pickle.load(pickle_in)\n",
        "len(all)"
      ]
    },
    {
      "cell_type": "markdown",
      "metadata": {
        "id": "5fERtf8yMVJm"
      },
      "source": []
    },
    {
      "cell_type": "code",
      "execution_count": null,
      "metadata": {
        "id": "NPcLW1iWWn87"
      },
      "outputs": [],
      "source": [
        "import pickle\n",
        "\n",
        "pickle_out = open(\"/content/drive/MyDrive/good Model/10lastallfeaturimg_arrayesseclast.pickle\",\"wb\")\n",
        "pickle.dump(all, pickle_out)\n",
        "pickle_out.close()"
      ]
    },
    {
      "cell_type": "markdown",
      "metadata": {
        "id": "fTufZLwElc7m"
      },
      "source": [
        "# test data prepare"
      ]
    },
    {
      "cell_type": "code",
      "execution_count": null,
      "metadata": {
        "id": "WWlC9Oc6lr0W"
      },
      "outputs": [],
      "source": [
        "import numpy as np\n",
        "import cv2\n",
        "from keras.preprocessing.image import img_to_array\n",
        "\n",
        "import os\n",
        "from keras.models import Model\n",
        "from matplotlib import pyplot as plt\n",
        "SIZE=256\n",
        "from tqdm import tqdm"
      ]
    },
    {
      "cell_type": "code",
      "execution_count": null,
      "metadata": {
        "colab": {
          "base_uri": "https://localhost:8080/"
        },
        "id": "4BVHjVialr0Z",
        "outputId": "60de2a29-710c-406b-a87b-8cf12f2d6372"
      },
      "outputs": [
        {
          "name": "stderr",
          "output_type": "stream",
          "text": [
            "100%|██████████| 724/724 [00:09<00:00, 76.07it/s] \n"
          ]
        }
      ],
      "source": [
        "img_array1=[]\n",
        "img_data1=[]\n",
        "path1 = '/content/drive/MyDrive/datasetv1/test/COVID/'\n",
        "#COVID'\n",
        "#path1 = '/content/drive/MyDrive/datasetv1/train/'\n",
        "SIZE=256\n",
        "files=os.listdir(path1)\n",
        "for i in tqdm(files):\n",
        "    img1=cv2.imread(path1+'/'+i,1)   #Change 0 to 1 for color images\n",
        "    img1 = cv2.cvtColor(img1, cv2.COLOR_BGR2GRAY) #Changing BGR to GRAY to show images in true colors\n",
        "    img1=cv2.resize(img1,(SIZE, SIZE),1)\n",
        "    img_data1.append(img_to_array(img1))\n",
        "\n",
        "\n",
        "img1=np.reshape(img1, ( SIZE, SIZE,1))\n",
        "img_array1 = np.reshape(img_data1, (len(img_data1), SIZE, SIZE,1))\n",
        "img_array1 = img_array1.astype('float32') / 255.0\n",
        "\n"
      ]
    },
    {
      "cell_type": "code",
      "execution_count": null,
      "metadata": {
        "colab": {
          "base_uri": "https://localhost:8080/"
        },
        "id": "imm7S3K-lr0Z",
        "outputId": "015ced7f-0da5-4480-8b30-dc390bdfdf54"
      },
      "outputs": [
        {
          "data": {
            "text/plain": [
              "(724, 256, 256, 1)"
            ]
          },
          "execution_count": 49,
          "metadata": {},
          "output_type": "execute_result"
        }
      ],
      "source": [
        "img_array1.shape"
      ]
    },
    {
      "cell_type": "code",
      "execution_count": null,
      "metadata": {
        "id": "MN-yaTzVlr0a"
      },
      "outputs": [],
      "source": [
        "import pickle\n",
        "\n",
        "pickle_out = open(\"/content/drive/MyDrive/good Model/testfeaturimg_arrayesseclast.pickle\",\"wb\")\n",
        "pickle.dump(img_array1, pickle_out)\n",
        "pickle_out.close()\n"
      ]
    },
    {
      "cell_type": "code",
      "execution_count": null,
      "metadata": {
        "colab": {
          "base_uri": "https://localhost:8080/"
        },
        "id": "cVCUkl3mlr0a",
        "outputId": "316c9401-78b5-47c4-a969-60d5f9986b9d"
      },
      "outputs": [
        {
          "name": "stderr",
          "output_type": "stream",
          "text": [
            "100%|██████████| 2039/2039 [00:15<00:00, 128.83it/s]\n"
          ]
        }
      ],
      "source": [
        "img_array1=[]\n",
        "img_data1=[]\n",
        "path1 = '/content/drive/MyDrive/datasetv1/test/Normal'\n",
        "#COVID'\n",
        "#path1 = '/content/drive/MyDrive/datasetv1/train/'\n",
        "\n",
        "files=os.listdir(path1)\n",
        "for i in tqdm(files):\n",
        "    img1=cv2.imread(path1+'/'+i,1)   #Change 0 to 1 for color images\n",
        "    img1 = cv2.cvtColor(img1, cv2.COLOR_BGR2GRAY) #Changing BGR to GRAY to show images in true colors\n",
        "    img1=cv2.resize(img1,(SIZE, SIZE),1)\n",
        "    img_data1.append(img_to_array(img1))\n",
        "\n",
        "\n",
        "img1=np.reshape(img1, ( SIZE, SIZE,1))\n",
        "img_array1 = np.reshape(img_data1, (len(img_data1), SIZE, SIZE,1))\n",
        "img_array1 = img_array1.astype('float32') / 255.0\n",
        "\n"
      ]
    },
    {
      "cell_type": "code",
      "execution_count": null,
      "metadata": {
        "id": "4hq1FOkhlr0b"
      },
      "outputs": [],
      "source": [
        "import pickle\n",
        "\n",
        "pickle_out = open(\"/content/drive/MyDrive/good Model/testnormalfeaturimg_arrayesseclast.pickle\",\"wb\")\n",
        "pickle.dump(img_array1, pickle_out)\n",
        "pickle_out.close()\n"
      ]
    },
    {
      "cell_type": "code",
      "execution_count": null,
      "metadata": {
        "colab": {
          "base_uri": "https://localhost:8080/"
        },
        "id": "9X7tePgGlr0b",
        "outputId": "62e77149-cc83-4d8f-ac6c-9cf23e24c51b"
      },
      "outputs": [
        {
          "name": "stderr",
          "output_type": "stream",
          "text": [
            "100%|██████████| 269/269 [00:02<00:00, 114.03it/s]\n"
          ]
        }
      ],
      "source": [
        "img_array1=[]\n",
        "img_data1=[]\n",
        "path1 = '/content/drive/MyDrive/datasetv1/test/Viral Pneumonia'\n",
        "#COVID'\n",
        "#path1 = '/content/drive/MyDrive/datasetv1/train/'\n",
        "\n",
        "files=os.listdir(path1)\n",
        "for i in tqdm(files):\n",
        "    img1=cv2.imread(path1+'/'+i,1)   #Change 0 to 1 for color images\n",
        "    img1 = cv2.cvtColor(img1, cv2.COLOR_BGR2GRAY) #Changing BGR to GRAY to show images in true colors\n",
        "    img1=cv2.resize(img1,(SIZE, SIZE),1)\n",
        "    img_data1.append(img_to_array(img1))\n",
        "\n",
        "\n",
        "img1=np.reshape(img1, ( SIZE, SIZE,1))\n",
        "img_array1 = np.reshape(img_data1, (len(img_data1), SIZE, SIZE,1))\n",
        "img_array1 = img_array1.astype('float32') / 255.0\n"
      ]
    },
    {
      "cell_type": "code",
      "execution_count": null,
      "metadata": {
        "colab": {
          "base_uri": "https://localhost:8080/"
        },
        "id": "eleXHcUmlr0c",
        "outputId": "857f5b79-f819-45c1-bed8-af39e26c9ced"
      },
      "outputs": [
        {
          "data": {
            "text/plain": [
              "269"
            ]
          },
          "execution_count": 14,
          "metadata": {},
          "output_type": "execute_result"
        }
      ],
      "source": [
        "len(img_array1)"
      ]
    },
    {
      "cell_type": "code",
      "execution_count": null,
      "metadata": {
        "id": "7EmfbXnklr0c"
      },
      "outputs": [],
      "source": [
        "import pickle\n",
        "\n",
        "pickle_out = open(\"/content/drive/MyDrive/good Model/testPneumoniafeaturimg_arrayesseclast.pickle\",\"wb\")\n",
        "pickle.dump(img_array1, pickle_out)\n",
        "pickle_out.close()"
      ]
    },
    {
      "cell_type": "code",
      "execution_count": null,
      "metadata": {
        "id": "mmaH5mb8lr0c"
      },
      "outputs": [],
      "source": [
        "import pickle\n",
        "pickle_in = open(\"/content/drive/MyDrive/good Model/testfeaturimg_arrayesseclast.pickle\",\"rb\")\n",
        "img_array= pickle.load(pickle_in)"
      ]
    },
    {
      "cell_type": "code",
      "execution_count": null,
      "metadata": {
        "colab": {
          "base_uri": "https://localhost:8080/"
        },
        "id": "i_NBVVVzlr0d",
        "outputId": "80427dab-7501-41c0-98f7-15437a3edb12"
      },
      "outputs": [
        {
          "data": {
            "text/plain": [
              "724"
            ]
          },
          "execution_count": 17,
          "metadata": {},
          "output_type": "execute_result"
        }
      ],
      "source": [
        "len(img_array)"
      ]
    },
    {
      "cell_type": "code",
      "execution_count": null,
      "metadata": {
        "colab": {
          "base_uri": "https://localhost:8080/"
        },
        "id": "1IKI0JgElr0d",
        "outputId": "cb21260a-e48b-442a-f4f2-247bfd147981"
      },
      "outputs": [
        {
          "data": {
            "text/plain": [
              "269"
            ]
          },
          "execution_count": 18,
          "metadata": {},
          "output_type": "execute_result"
        }
      ],
      "source": [
        "\n",
        "import pickle\n",
        "pickle_in = open(\"/content/drive/MyDrive/good Model/testPneumoniafeaturimg_arrayesseclast.pickle\",\"rb\")\n",
        "img_arrayPneumonia= pickle.load(pickle_in)\n",
        "len(img_arrayPneumonia)\n"
      ]
    },
    {
      "cell_type": "code",
      "execution_count": null,
      "metadata": {
        "colab": {
          "base_uri": "https://localhost:8080/"
        },
        "id": "H47hGEa9lr0d",
        "outputId": "0b266272-0ad0-4b89-ea54-4623bd1b213f"
      },
      "outputs": [
        {
          "data": {
            "text/plain": [
              "2039"
            ]
          },
          "execution_count": 19,
          "metadata": {},
          "output_type": "execute_result"
        }
      ],
      "source": [
        "\n",
        "import pickle\n",
        "pickle_in = open(\"/content/drive/MyDrive/good Model/testnormalfeaturimg_arrayesseclast.pickle\",\"rb\")\n",
        "img_arraynormal= pickle.load(pickle_in)\n",
        "len(img_arraynormal)"
      ]
    },
    {
      "cell_type": "code",
      "execution_count": null,
      "metadata": {
        "colab": {
          "base_uri": "https://localhost:8080/"
        },
        "id": "tEO4lwbclr0e",
        "outputId": "322898a3-6ca5-4f78-9c12-3e63a7af736a"
      },
      "outputs": [
        {
          "data": {
            "text/plain": [
              "2763"
            ]
          },
          "execution_count": 20,
          "metadata": {},
          "output_type": "execute_result"
        }
      ],
      "source": [
        "all=[]\n",
        "all=np.insert(img_array,len(img_array)-1,img_arraynormal,axis=0)\n",
        "len(all)"
      ]
    },
    {
      "cell_type": "code",
      "execution_count": null,
      "metadata": {
        "colab": {
          "base_uri": "https://localhost:8080/"
        },
        "id": "3Vek9OlIlr0e",
        "outputId": "3ac791cd-4025-473f-c84c-04239afc05ec"
      },
      "outputs": [
        {
          "data": {
            "text/plain": [
              "3032"
            ]
          },
          "execution_count": 21,
          "metadata": {},
          "output_type": "execute_result"
        }
      ],
      "source": [
        "all=np.insert(all,len(all)-1,img_arrayPneumonia,axis=0)#img_arraynormal\n",
        "len(all)"
      ]
    },
    {
      "cell_type": "code",
      "execution_count": null,
      "metadata": {
        "colab": {
          "base_uri": "https://localhost:8080/"
        },
        "id": "wiwFPmVNlr0f",
        "outputId": "948dfbb0-fbd8-4b2d-e7d3-6a25d1aaf561"
      },
      "outputs": [
        {
          "data": {
            "text/plain": [
              "(3032, 256, 256, 1)"
            ]
          },
          "execution_count": 22,
          "metadata": {},
          "output_type": "execute_result"
        }
      ],
      "source": [
        "all.shape"
      ]
    },
    {
      "cell_type": "code",
      "execution_count": null,
      "metadata": {
        "id": "_vLV-aTxlr0f"
      },
      "outputs": [],
      "source": [
        "import pickle\n",
        "\n",
        "pickle_out = open(\"/content/drive/MyDrive/good Model/test10lastallfeaturimg_arrayesseclast.pickle\",\"wb\")\n",
        "pickle.dump(all, pickle_out)\n",
        "pickle_out.close()"
      ]
    },
    {
      "cell_type": "markdown",
      "metadata": {
        "id": "u1VqM6tEYX0w"
      },
      "source": [
        "# **DATA REload test **"
      ]
    },
    {
      "cell_type": "code",
      "execution_count": null,
      "metadata": {
        "id": "dKkobJe8YT2o"
      },
      "outputs": [],
      "source": [
        "import pickle\n",
        "pickle_in = open(\"/content/drive/MyDrive/good Model/test10lastallfeaturimg_arrayesseclast.pickle\",\"rb\")\n",
        "all= pickle.load(pickle_in)\n",
        "len(all)"
      ]
    },
    {
      "cell_type": "markdown",
      "metadata": {
        "id": "DAJhxXpLVjjM"
      },
      "source": [
        "# **build convolutional autoencoder  for Feature Extraction**"
      ]
    },
    {
      "cell_type": "code",
      "execution_count": null,
      "metadata": {
        "id": "FX_LoS70dMfw"
      },
      "outputs": [],
      "source": [
        "import tensorflow as tf\n",
        "import matplotlib.pyplot as plt\n",
        "from tensorflow.keras import datasets, layers, models, losses, Model\n",
        "from random import randint\n",
        "import numpy as np\n",
        "from tensorflow.keras.layers import Dense,Flatten\n",
        "from tensorflow.keras.layers import BatchNormalization"
      ]
    },
    {
      "cell_type": "code",
      "execution_count": null,
      "metadata": {
        "id": "sPKml1evTGrk"
      },
      "outputs": [],
      "source": []
    },
    {
      "cell_type": "markdown",
      "metadata": {
        "id": "OYyGoYsyTH2Y"
      },
      "source": [
        "# Reload CAE train array of dataset"
      ]
    },
    {
      "cell_type": "code",
      "execution_count": null,
      "metadata": {
        "colab": {
          "base_uri": "https://localhost:8080/"
        },
        "id": "7waPWsGplAcV",
        "outputId": "9b4dd175-68e6-47b9-9b2d-499d560e75fc"
      },
      "outputs": [
        {
          "data": {
            "text/plain": [
              "3976"
            ]
          },
          "execution_count": 3,
          "metadata": {},
          "output_type": "execute_result"
        }
      ],
      "source": [
        "import pickle\n",
        "pickle_in = open(\"/content/drive/MyDrive/good Model/10lastallfeaturimg_arrayesseclast.pickle\",\"rb\")\n",
        "all= pickle.load(pickle_in)\n",
        "len(all)"
      ]
    },
    {
      "cell_type": "code",
      "execution_count": null,
      "metadata": {
        "colab": {
          "base_uri": "https://localhost:8080/"
        },
        "id": "5_AN_nehdyiB",
        "outputId": "c4da3cef-a53b-4406-86f9-287d8fb4dc75"
      },
      "outputs": [
        {
          "data": {
            "text/plain": [
              "(3976, 256, 256, 1)"
            ]
          },
          "execution_count": 4,
          "metadata": {},
          "output_type": "execute_result"
        }
      ],
      "source": [
        "all.shape"
      ]
    },
    {
      "cell_type": "markdown",
      "metadata": {
        "id": "PiYBVAwW5PT_"
      },
      "source": [
        "# Reload CAE array of test dataset"
      ]
    },
    {
      "cell_type": "code",
      "execution_count": null,
      "metadata": {
        "colab": {
          "base_uri": "https://localhost:8080/"
        },
        "id": "YRcGNW9j5PT_",
        "outputId": "0465523b-53d2-4236-bca2-d10743875772"
      },
      "outputs": [
        {
          "data": {
            "text/plain": [
              "3032"
            ]
          },
          "execution_count": 52,
          "metadata": {},
          "output_type": "execute_result"
        }
      ],
      "source": [
        "import pickle\n",
        "pickle_in = open(\"/content/drive/MyDrive/good Model/test10lastallfeaturimg_arrayesseclast.pickle\",\"rb\")\n",
        "all= pickle.load(pickle_in)\n",
        "len(all)"
      ]
    },
    {
      "cell_type": "code",
      "execution_count": null,
      "metadata": {
        "colab": {
          "base_uri": "https://localhost:8080/"
        },
        "id": "lJkkbSfN5PT_",
        "outputId": "46082a8c-a0f5-42cd-d143-9ae2dc7091ed"
      },
      "outputs": [
        {
          "data": {
            "text/plain": [
              "(3032, 256, 256, 1)"
            ]
          },
          "execution_count": 53,
          "metadata": {},
          "output_type": "execute_result"
        }
      ],
      "source": [
        "all.shape"
      ]
    },
    {
      "cell_type": "markdown",
      "metadata": {
        "id": "iA3561a7TVpt"
      },
      "source": [
        "# Build Encoder"
      ]
    },
    {
      "cell_type": "code",
      "execution_count": null,
      "metadata": {
        "colab": {
          "base_uri": "https://localhost:8080/"
        },
        "id": "vU7Vhc6idUTC",
        "outputId": "b3ec96e5-8fe0-4f95-e08d-afb9eb619e9e"
      },
      "outputs": [
        {
          "name": "stdout",
          "output_type": "stream",
          "text": [
            "Model: \"sequential\"\n",
            "_________________________________________________________________\n",
            " Layer (type)                Output Shape              Param #   \n",
            "=================================================================\n",
            " conv2d (Conv2D)             (None, 256, 256, 8)       80        \n",
            "                                                                 \n",
            " batch_normalization (BatchN  (None, 256, 256, 8)      32        \n",
            " ormalization)                                                   \n",
            "                                                                 \n",
            " max_pooling2d (MaxPooling2D  (None, 128, 128, 8)      0         \n",
            " )                                                               \n",
            "                                                                 \n",
            " conv2d_1 (Conv2D)           (None, 128, 128, 16)      1168      \n",
            "                                                                 \n",
            " batch_normalization_1 (Batc  (None, 128, 128, 16)     64        \n",
            " hNormalization)                                                 \n",
            "                                                                 \n",
            " max_pooling2d_1 (MaxPooling  (None, 64, 64, 16)       0         \n",
            " 2D)                                                             \n",
            "                                                                 \n",
            " conv2d_2 (Conv2D)           (None, 64, 64, 32)        4640      \n",
            "                                                                 \n",
            " batch_normalization_2 (Batc  (None, 64, 64, 32)       128       \n",
            " hNormalization)                                                 \n",
            "                                                                 \n",
            " max_pooling2d_2 (MaxPooling  (None, 32, 32, 32)       0         \n",
            " 2D)                                                             \n",
            "                                                                 \n",
            " conv2d_3 (Conv2D)           (None, 32, 32, 64)        18496     \n",
            "                                                                 \n",
            " batch_normalization_3 (Batc  (None, 32, 32, 64)       256       \n",
            " hNormalization)                                                 \n",
            "                                                                 \n",
            " max_pooling2d_3 (MaxPooling  (None, 16, 16, 64)       0         \n",
            " 2D)                                                             \n",
            "                                                                 \n",
            " conv2d_4 (Conv2D)           (None, 16, 16, 128)       73856     \n",
            "                                                                 \n",
            " batch_normalization_4 (Batc  (None, 16, 16, 128)      512       \n",
            " hNormalization)                                                 \n",
            "                                                                 \n",
            " max_pooling2d_4 (MaxPooling  (None, 8, 8, 128)        0         \n",
            " 2D)                                                             \n",
            "                                                                 \n",
            " conv2d_5 (Conv2D)           (None, 8, 8, 256)         295168    \n",
            "                                                                 \n",
            " batch_normalization_5 (Batc  (None, 8, 8, 256)        1024      \n",
            " hNormalization)                                                 \n",
            "                                                                 \n",
            " max_pooling2d_5 (MaxPooling  (None, 4, 4, 256)        0         \n",
            " 2D)                                                             \n",
            "                                                                 \n",
            "=================================================================\n",
            "Total params: 395,424\n",
            "Trainable params: 394,416\n",
            "Non-trainable params: 1,008\n",
            "_________________________________________________________________\n"
          ]
        }
      ],
      "source": [
        "encoder = models.Sequential()\n",
        "encoder.add(layers.Conv2D(8, 3, strides=1, padding='same', activation='relu', input_shape=all[0].shape))\n",
        "encoder.add(BatchNormalization())\n",
        "encoder.add(layers.MaxPooling2D(2, strides=2))\n",
        "encoder.add(layers.Conv2D(16, 3, strides=1, padding='same', activation='relu'))\n",
        "encoder.add(BatchNormalization())\n",
        "encoder.add(layers.MaxPooling2D(2, strides=2))\n",
        "encoder.add(layers.Conv2D(32, 3, strides=1, padding='same', activation='relu'))\n",
        "encoder.add(BatchNormalization())\n",
        "encoder.add(layers.MaxPooling2D(2, strides=2))\n",
        "encoder.add(layers.Conv2D(64, 3, strides=1, padding='same', activation='relu'))\n",
        "encoder.add(BatchNormalization())\n",
        "encoder.add(layers.MaxPooling2D(2, strides=2))\n",
        "encoder.add(layers.Conv2D(128, 3, strides=1, padding='same', activation='relu'))\n",
        "encoder.add(BatchNormalization())\n",
        "encoder.add(layers.MaxPooling2D(2, strides=2))\n",
        "encoder.add(layers.Conv2D(256, 3, strides=1, padding='same', activation='relu'))\n",
        "encoder.add(BatchNormalization())\n",
        "encoder.add(layers.MaxPooling2D(2, strides=2))\n",
        "#encoder.add(Flatten())\n",
        "encoder.summary()"
      ]
    },
    {
      "cell_type": "markdown",
      "metadata": {
        "id": "zUuf0E7CTndW"
      },
      "source": [
        "# Build Decoder"
      ]
    },
    {
      "cell_type": "code",
      "execution_count": null,
      "metadata": {
        "colab": {
          "base_uri": "https://localhost:8080/"
        },
        "id": "jsgmdA1KdXEW",
        "outputId": "5cef0fce-c09c-45dd-ba46-26e24f5f54c7"
      },
      "outputs": [
        {
          "name": "stdout",
          "output_type": "stream",
          "text": [
            "Model: \"sequential_1\"\n",
            "_________________________________________________________________\n",
            " Layer (type)                Output Shape              Param #   \n",
            "=================================================================\n",
            " conv2d_6 (Conv2D)           (None, 4, 4, 256)         590080    \n",
            "                                                                 \n",
            " batch_normalization_6 (Batc  (None, 4, 4, 256)        1024      \n",
            " hNormalization)                                                 \n",
            "                                                                 \n",
            " up_sampling2d (UpSampling2D  (None, 8, 8, 256)        0         \n",
            " )                                                               \n",
            "                                                                 \n",
            " conv2d_7 (Conv2D)           (None, 8, 8, 128)         295040    \n",
            "                                                                 \n",
            " batch_normalization_7 (Batc  (None, 8, 8, 128)        512       \n",
            " hNormalization)                                                 \n",
            "                                                                 \n",
            " up_sampling2d_1 (UpSampling  (None, 16, 16, 128)      0         \n",
            " 2D)                                                             \n",
            "                                                                 \n",
            " conv2d_8 (Conv2D)           (None, 16, 16, 64)        73792     \n",
            "                                                                 \n",
            " batch_normalization_8 (Batc  (None, 16, 16, 64)       256       \n",
            " hNormalization)                                                 \n",
            "                                                                 \n",
            " up_sampling2d_2 (UpSampling  (None, 32, 32, 64)       0         \n",
            " 2D)                                                             \n",
            "                                                                 \n",
            " conv2d_9 (Conv2D)           (None, 32, 32, 32)        18464     \n",
            "                                                                 \n",
            " batch_normalization_9 (Batc  (None, 32, 32, 32)       128       \n",
            " hNormalization)                                                 \n",
            "                                                                 \n",
            " up_sampling2d_3 (UpSampling  (None, 64, 64, 32)       0         \n",
            " 2D)                                                             \n",
            "                                                                 \n",
            " conv2d_10 (Conv2D)          (None, 64, 64, 16)        4624      \n",
            "                                                                 \n",
            " batch_normalization_10 (Bat  (None, 64, 64, 16)       64        \n",
            " chNormalization)                                                \n",
            "                                                                 \n",
            " up_sampling2d_4 (UpSampling  (None, 128, 128, 16)     0         \n",
            " 2D)                                                             \n",
            "                                                                 \n",
            " conv2d_11 (Conv2D)          (None, 128, 128, 8)       1160      \n",
            "                                                                 \n",
            " batch_normalization_11 (Bat  (None, 128, 128, 8)      32        \n",
            " chNormalization)                                                \n",
            "                                                                 \n",
            " up_sampling2d_5 (UpSampling  (None, 256, 256, 8)      0         \n",
            " 2D)                                                             \n",
            "                                                                 \n",
            " conv2d_12 (Conv2D)          (None, 256, 256, 1)       73        \n",
            "                                                                 \n",
            "=================================================================\n",
            "Total params: 985,249\n",
            "Trainable params: 984,241\n",
            "Non-trainable params: 1,008\n",
            "_________________________________________________________________\n"
          ]
        }
      ],
      "source": [
        "decoder = models.Sequential()\n",
        "decoder.add(layers.Conv2D(256, 3, strides=1, padding='same', activation='relu', input_shape=encoder.output.shape[1:]))#encoder.get_layer(name=\"max_pooling2d_24\").output\n",
        "decoder.add(BatchNormalization())\n",
        "decoder.add(layers.UpSampling2D(2))\n",
        "decoder.add(layers.Conv2D(128, 3, strides=1, padding='same', activation='relu'))\n",
        "decoder.add(BatchNormalization())\n",
        "decoder.add(layers.UpSampling2D(2))\n",
        "decoder.add(layers.Conv2D(64, 3, strides=1, padding='same', activation='relu'))\n",
        "decoder.add(BatchNormalization())\n",
        "decoder.add(layers.UpSampling2D(2))\n",
        "decoder.add(layers.Conv2D(32, 3, strides=1, padding='same', activation='relu'))\n",
        "decoder.add(BatchNormalization())\n",
        "decoder.add(layers.UpSampling2D(2))\n",
        "decoder.add(layers.Conv2D(16, 3, strides=1, padding='same', activation='relu'))\n",
        "decoder.add(BatchNormalization())\n",
        "decoder.add(layers.UpSampling2D(2))\n",
        "decoder.add(layers.Conv2D(8, 3, strides=1, padding='same', activation='relu'))\n",
        "decoder.add(BatchNormalization())\n",
        "decoder.add(layers.UpSampling2D(2))\n",
        "decoder.add(layers.Conv2D(1, 3, strides=1, padding='same',  activation=\"sigmoid\"))\n",
        "decoder.summary()"
      ]
    },
    {
      "cell_type": "markdown",
      "metadata": {
        "id": "0J3ci4yrUGUs"
      },
      "source": [
        "#  Build convolutional autoencoder"
      ]
    },
    {
      "cell_type": "code",
      "execution_count": null,
      "metadata": {
        "id": "Na5e7jWiQjXX"
      },
      "outputs": [],
      "source": [
        "conv_autoencoder = Model(inputs=encoder.input, outputs=decoder(encoder.outputs))"
      ]
    },
    {
      "cell_type": "code",
      "execution_count": null,
      "metadata": {
        "id": "QroQdFvOdh-3"
      },
      "outputs": [],
      "source": [
        "\n",
        "conv_autoencoder.compile(optimizer='adam', loss=losses.mean_squared_error, metrics=['accuracy'])"
      ]
    },
    {
      "cell_type": "code",
      "execution_count": null,
      "metadata": {
        "colab": {
          "base_uri": "https://localhost:8080/"
        },
        "id": "MoSDjr64ihZM",
        "outputId": "170910ea-140c-4eba-e0a7-7894c7395ee4"
      },
      "outputs": [
        {
          "name": "stdout",
          "output_type": "stream",
          "text": [
            "Model: \"model\"\n",
            "_________________________________________________________________\n",
            " Layer (type)                Output Shape              Param #   \n",
            "=================================================================\n",
            " conv2d_input (InputLayer)   [(None, 256, 256, 1)]     0         \n",
            "                                                                 \n",
            " conv2d (Conv2D)             (None, 256, 256, 8)       80        \n",
            "                                                                 \n",
            " batch_normalization (BatchN  (None, 256, 256, 8)      32        \n",
            " ormalization)                                                   \n",
            "                                                                 \n",
            " max_pooling2d (MaxPooling2D  (None, 128, 128, 8)      0         \n",
            " )                                                               \n",
            "                                                                 \n",
            " conv2d_1 (Conv2D)           (None, 128, 128, 16)      1168      \n",
            "                                                                 \n",
            " batch_normalization_1 (Batc  (None, 128, 128, 16)     64        \n",
            " hNormalization)                                                 \n",
            "                                                                 \n",
            " max_pooling2d_1 (MaxPooling  (None, 64, 64, 16)       0         \n",
            " 2D)                                                             \n",
            "                                                                 \n",
            " conv2d_2 (Conv2D)           (None, 64, 64, 32)        4640      \n",
            "                                                                 \n",
            " batch_normalization_2 (Batc  (None, 64, 64, 32)       128       \n",
            " hNormalization)                                                 \n",
            "                                                                 \n",
            " max_pooling2d_2 (MaxPooling  (None, 32, 32, 32)       0         \n",
            " 2D)                                                             \n",
            "                                                                 \n",
            " conv2d_3 (Conv2D)           (None, 32, 32, 64)        18496     \n",
            "                                                                 \n",
            " batch_normalization_3 (Batc  (None, 32, 32, 64)       256       \n",
            " hNormalization)                                                 \n",
            "                                                                 \n",
            " max_pooling2d_3 (MaxPooling  (None, 16, 16, 64)       0         \n",
            " 2D)                                                             \n",
            "                                                                 \n",
            " conv2d_4 (Conv2D)           (None, 16, 16, 128)       73856     \n",
            "                                                                 \n",
            " batch_normalization_4 (Batc  (None, 16, 16, 128)      512       \n",
            " hNormalization)                                                 \n",
            "                                                                 \n",
            " max_pooling2d_4 (MaxPooling  (None, 8, 8, 128)        0         \n",
            " 2D)                                                             \n",
            "                                                                 \n",
            " conv2d_5 (Conv2D)           (None, 8, 8, 256)         295168    \n",
            "                                                                 \n",
            " batch_normalization_5 (Batc  (None, 8, 8, 256)        1024      \n",
            " hNormalization)                                                 \n",
            "                                                                 \n",
            " max_pooling2d_5 (MaxPooling  (None, 4, 4, 256)        0         \n",
            " 2D)                                                             \n",
            "                                                                 \n",
            " sequential_1 (Sequential)   (None, 256, 256, 1)       985249    \n",
            "                                                                 \n",
            "=================================================================\n",
            "Total params: 1,380,673\n",
            "Trainable params: 1,378,657\n",
            "Non-trainable params: 2,016\n",
            "_________________________________________________________________\n"
          ]
        }
      ],
      "source": [
        "conv_autoencoder.summary()"
      ]
    },
    {
      "cell_type": "code",
      "execution_count": null,
      "metadata": {
        "id": "SH8cboqWjBTn"
      },
      "outputs": [],
      "source": [
        "# Import train_test_split function\n",
        "from sklearn.model_selection import train_test_split\n",
        "\n",
        "# Split dataset into training set and test set\n",
        "X_train1,y_train1  = train_test_split(all, test_size=0.3,random_state=109) # 70% training and 30% test"
      ]
    },
    {
      "cell_type": "code",
      "execution_count": null,
      "metadata": {
        "colab": {
          "base_uri": "https://localhost:8080/"
        },
        "id": "yCrz2cN99FVy",
        "outputId": "7ac538cd-ad1e-4bcf-f9d4-2edff2a17229"
      },
      "outputs": [
        {
          "name": "stdout",
          "output_type": "stream",
          "text": [
            "Epoch 1/50\n",
            "22/22 [==============================] - 28s 563ms/step - loss: 0.0259 - accuracy: 0.0316 - val_loss: 0.0553 - val_accuracy: 0.0049\n",
            "Epoch 2/50\n",
            "22/22 [==============================] - 6s 281ms/step - loss: 0.0096 - accuracy: 0.0344 - val_loss: 0.0570 - val_accuracy: 0.0118\n",
            "Epoch 3/50\n",
            "22/22 [==============================] - 6s 268ms/step - loss: 0.0075 - accuracy: 0.0346 - val_loss: 0.0571 - val_accuracy: 0.0153\n",
            "Epoch 4/50\n",
            "22/22 [==============================] - 6s 268ms/step - loss: 0.0065 - accuracy: 0.0346 - val_loss: 0.0543 - val_accuracy: 0.0239\n",
            "Epoch 5/50\n",
            "22/22 [==============================] - 6s 275ms/step - loss: 0.0058 - accuracy: 0.0347 - val_loss: 0.0531 - val_accuracy: 0.0234\n",
            "Epoch 6/50\n",
            "22/22 [==============================] - 6s 271ms/step - loss: 0.0053 - accuracy: 0.0347 - val_loss: 0.0489 - val_accuracy: 0.0267\n",
            "Epoch 7/50\n",
            "22/22 [==============================] - 6s 274ms/step - loss: 0.0050 - accuracy: 0.0348 - val_loss: 0.0469 - val_accuracy: 0.0270\n",
            "Epoch 8/50\n",
            "22/22 [==============================] - 6s 276ms/step - loss: 0.0047 - accuracy: 0.0348 - val_loss: 0.0457 - val_accuracy: 0.0315\n",
            "Epoch 9/50\n",
            "22/22 [==============================] - 6s 290ms/step - loss: 0.0045 - accuracy: 0.0348 - val_loss: 0.0418 - val_accuracy: 0.0314\n",
            "Epoch 10/50\n",
            "22/22 [==============================] - 6s 293ms/step - loss: 0.0043 - accuracy: 0.0348 - val_loss: 0.0403 - val_accuracy: 0.0335\n",
            "Epoch 11/50\n",
            "22/22 [==============================] - 6s 296ms/step - loss: 0.0043 - accuracy: 0.0348 - val_loss: 0.0400 - val_accuracy: 0.0334\n",
            "Epoch 12/50\n",
            "22/22 [==============================] - 6s 287ms/step - loss: 0.0042 - accuracy: 0.0348 - val_loss: 0.0322 - val_accuracy: 0.0338\n",
            "Epoch 13/50\n",
            "22/22 [==============================] - 6s 282ms/step - loss: 0.0039 - accuracy: 0.0348 - val_loss: 0.0297 - val_accuracy: 0.0338\n",
            "Epoch 14/50\n",
            "22/22 [==============================] - 7s 315ms/step - loss: 0.0038 - accuracy: 0.0348 - val_loss: 0.0299 - val_accuracy: 0.0340\n",
            "Epoch 15/50\n",
            "22/22 [==============================] - 6s 287ms/step - loss: 0.0037 - accuracy: 0.0348 - val_loss: 0.0271 - val_accuracy: 0.0340\n",
            "Epoch 16/50\n",
            "22/22 [==============================] - 6s 281ms/step - loss: 0.0036 - accuracy: 0.0348 - val_loss: 0.0244 - val_accuracy: 0.0340\n",
            "Epoch 17/50\n",
            "22/22 [==============================] - 6s 287ms/step - loss: 0.0035 - accuracy: 0.0348 - val_loss: 0.0188 - val_accuracy: 0.0343\n",
            "Epoch 18/50\n",
            "22/22 [==============================] - 6s 283ms/step - loss: 0.0035 - accuracy: 0.0348 - val_loss: 0.0172 - val_accuracy: 0.0343\n",
            "Epoch 19/50\n",
            "22/22 [==============================] - 6s 276ms/step - loss: 0.0034 - accuracy: 0.0348 - val_loss: 0.0146 - val_accuracy: 0.0343\n",
            "Epoch 20/50\n",
            "22/22 [==============================] - 6s 277ms/step - loss: 0.0034 - accuracy: 0.0348 - val_loss: 0.0118 - val_accuracy: 0.0343\n",
            "Epoch 21/50\n",
            "22/22 [==============================] - 6s 283ms/step - loss: 0.0033 - accuracy: 0.0348 - val_loss: 0.0103 - val_accuracy: 0.0344\n",
            "Epoch 22/50\n",
            "22/22 [==============================] - 7s 301ms/step - loss: 0.0034 - accuracy: 0.0348 - val_loss: 0.0087 - val_accuracy: 0.0344\n",
            "Epoch 23/50\n",
            "22/22 [==============================] - 6s 284ms/step - loss: 0.0032 - accuracy: 0.0348 - val_loss: 0.0064 - val_accuracy: 0.0344\n",
            "Epoch 24/50\n",
            "22/22 [==============================] - 6s 279ms/step - loss: 0.0031 - accuracy: 0.0348 - val_loss: 0.0063 - val_accuracy: 0.0344\n",
            "Epoch 25/50\n",
            "22/22 [==============================] - 6s 278ms/step - loss: 0.0030 - accuracy: 0.0348 - val_loss: 0.0051 - val_accuracy: 0.0345\n",
            "Epoch 26/50\n",
            "22/22 [==============================] - 6s 278ms/step - loss: 0.0031 - accuracy: 0.0348 - val_loss: 0.0043 - val_accuracy: 0.0344\n",
            "Epoch 27/50\n",
            "22/22 [==============================] - 6s 278ms/step - loss: 0.0031 - accuracy: 0.0348 - val_loss: 0.0041 - val_accuracy: 0.0345\n",
            "Epoch 28/50\n",
            "22/22 [==============================] - 6s 278ms/step - loss: 0.0030 - accuracy: 0.0348 - val_loss: 0.0039 - val_accuracy: 0.0345\n",
            "Epoch 29/50\n",
            "22/22 [==============================] - 6s 279ms/step - loss: 0.0029 - accuracy: 0.0348 - val_loss: 0.0036 - val_accuracy: 0.0345\n",
            "Epoch 30/50\n",
            "22/22 [==============================] - 6s 283ms/step - loss: 0.0029 - accuracy: 0.0348 - val_loss: 0.0035 - val_accuracy: 0.0345\n",
            "Epoch 31/50\n",
            "22/22 [==============================] - 6s 277ms/step - loss: 0.0029 - accuracy: 0.0348 - val_loss: 0.0034 - val_accuracy: 0.0345\n",
            "Epoch 32/50\n",
            "22/22 [==============================] - 6s 277ms/step - loss: 0.0029 - accuracy: 0.0348 - val_loss: 0.0032 - val_accuracy: 0.0345\n",
            "Epoch 33/50\n",
            "22/22 [==============================] - 6s 278ms/step - loss: 0.0029 - accuracy: 0.0348 - val_loss: 0.0036 - val_accuracy: 0.0345\n",
            "Epoch 34/50\n",
            "22/22 [==============================] - 6s 277ms/step - loss: 0.0029 - accuracy: 0.0348 - val_loss: 0.0033 - val_accuracy: 0.0345\n",
            "Epoch 35/50\n",
            "22/22 [==============================] - 6s 277ms/step - loss: 0.0028 - accuracy: 0.0348 - val_loss: 0.0032 - val_accuracy: 0.0345\n",
            "Epoch 36/50\n",
            "22/22 [==============================] - 6s 284ms/step - loss: 0.0028 - accuracy: 0.0348 - val_loss: 0.0033 - val_accuracy: 0.0345\n",
            "Epoch 37/50\n",
            "22/22 [==============================] - 6s 276ms/step - loss: 0.0028 - accuracy: 0.0348 - val_loss: 0.0036 - val_accuracy: 0.0345\n",
            "Epoch 38/50\n",
            "22/22 [==============================] - 6s 277ms/step - loss: 0.0028 - accuracy: 0.0348 - val_loss: 0.0031 - val_accuracy: 0.0345\n",
            "Epoch 39/50\n",
            "22/22 [==============================] - 6s 288ms/step - loss: 0.0027 - accuracy: 0.0348 - val_loss: 0.0033 - val_accuracy: 0.0345\n",
            "Epoch 40/50\n",
            "22/22 [==============================] - 6s 279ms/step - loss: 0.0027 - accuracy: 0.0348 - val_loss: 0.0035 - val_accuracy: 0.0345\n",
            "Epoch 41/50\n",
            "22/22 [==============================] - 6s 281ms/step - loss: 0.0027 - accuracy: 0.0348 - val_loss: 0.0034 - val_accuracy: 0.0345\n",
            "Epoch 42/50\n",
            "22/22 [==============================] - 6s 278ms/step - loss: 0.0027 - accuracy: 0.0348 - val_loss: 0.0032 - val_accuracy: 0.0345\n",
            "Epoch 43/50\n",
            "22/22 [==============================] - 6s 279ms/step - loss: 0.0026 - accuracy: 0.0348 - val_loss: 0.0031 - val_accuracy: 0.0345\n",
            "Epoch 44/50\n",
            "22/22 [==============================] - 6s 278ms/step - loss: 0.0026 - accuracy: 0.0348 - val_loss: 0.0032 - val_accuracy: 0.0345\n",
            "Epoch 45/50\n",
            "22/22 [==============================] - 6s 279ms/step - loss: 0.0026 - accuracy: 0.0348 - val_loss: 0.0030 - val_accuracy: 0.0345\n",
            "Epoch 46/50\n",
            "22/22 [==============================] - 6s 278ms/step - loss: 0.0025 - accuracy: 0.0348 - val_loss: 0.0034 - val_accuracy: 0.0345\n",
            "Epoch 47/50\n",
            "22/22 [==============================] - 6s 277ms/step - loss: 0.0026 - accuracy: 0.0348 - val_loss: 0.0031 - val_accuracy: 0.0345\n",
            "Epoch 48/50\n",
            "22/22 [==============================] - 6s 277ms/step - loss: 0.0025 - accuracy: 0.0348 - val_loss: 0.0030 - val_accuracy: 0.0345\n",
            "Epoch 49/50\n",
            "22/22 [==============================] - 6s 277ms/step - loss: 0.0025 - accuracy: 0.0348 - val_loss: 0.0031 - val_accuracy: 0.0345\n",
            "Epoch 50/50\n",
            "22/22 [==============================] - 6s 277ms/step - loss: 0.0025 - accuracy: 0.0348 - val_loss: 0.0029 - val_accuracy: 0.0345\n"
          ]
        },
        {
          "data": {
            "text/plain": [
              "<keras.callbacks.History at 0x7f7f34073d10>"
            ]
          },
          "execution_count": 11,
          "metadata": {},
          "output_type": "execute_result"
        }
      ],
      "source": [
        "conv_autoencoder.fit(X_train1, X_train1,batch_size=128,  epochs=50, validation_data=(y_train1, y_train1))"
      ]
    },
    {
      "cell_type": "code",
      "execution_count": null,
      "metadata": {
        "colab": {
          "base_uri": "https://localhost:8080/",
          "height": 216
        },
        "id": "knRYRoKb0BY8",
        "outputId": "5b52d42d-a9a6-49cc-b684-5f71bd049658"
      },
      "outputs": [
        {
          "data": {
            "image/png": "[encoded data removed]",
            "text/plain": [
              "<Figure size 432x288 with 2 Axes>"
            ]
          },
          "metadata": {},
          "output_type": "display_data"
        }
      ],
      "source": [
        "#train conv_autoencoder\n",
        "import random\n",
        "num=random.randint(0, len(all)-1)\n",
        "test_img = np.expand_dims(all[num], axis=0)\n",
        "pred = conv_autoencoder.predict(test_img)\n",
        "#(np.squeeze(pred[0]),cmap='gray')\n",
        "plt.subplot(1,2,1)\n",
        "plt.imshow(np.squeeze(test_img[0]),cmap='gray')\n",
        "plt.title('Original')\n",
        "plt.subplot(1,2,2)\n",
        "plt.imshow(np.squeeze(pred[0].reshape(256,256)),cmap='gray')\n",
        "plt.title('Reconstructed')\n",
        "plt.show()"
      ]
    },
    {
      "cell_type": "code",
      "execution_count": null,
      "metadata": {
        "colab": {
          "base_uri": "https://localhost:8080/"
        },
        "id": "FehUjut-XWWN",
        "outputId": "b2780cfd-533a-4d53-c7fe-f6fc6caebf56"
      },
      "outputs": [
        {
          "name": "stdout",
          "output_type": "stream",
          "text": [
            "Epoch 1/100\n",
            "22/22 [==============================] - 7s 319ms/step - loss: 0.0024 - accuracy: 0.0348 - val_loss: 0.0030 - val_accuracy: 0.0345\n",
            "Epoch 2/100\n",
            "22/22 [==============================] - 6s 294ms/step - loss: 0.0025 - accuracy: 0.0348 - val_loss: 0.0030 - val_accuracy: 0.0345\n",
            "Epoch 3/100\n",
            "22/22 [==============================] - 6s 285ms/step - loss: 0.0025 - accuracy: 0.0348 - val_loss: 0.0032 - val_accuracy: 0.0345\n",
            "Epoch 4/100\n",
            "22/22 [==============================] - 6s 292ms/step - loss: 0.0025 - accuracy: 0.0348 - val_loss: 0.0030 - val_accuracy: 0.0345\n",
            "Epoch 5/100\n",
            "22/22 [==============================] - 6s 280ms/step - loss: 0.0025 - accuracy: 0.0348 - val_loss: 0.0031 - val_accuracy: 0.0345\n",
            "Epoch 6/100\n",
            "22/22 [==============================] - 6s 278ms/step - loss: 0.0024 - accuracy: 0.0348 - val_loss: 0.0029 - val_accuracy: 0.0345\n",
            "Epoch 7/100\n",
            "22/22 [==============================] - 6s 277ms/step - loss: 0.0024 - accuracy: 0.0348 - val_loss: 0.0028 - val_accuracy: 0.0345\n",
            "Epoch 8/100\n",
            "22/22 [==============================] - 6s 277ms/step - loss: 0.0025 - accuracy: 0.0348 - val_loss: 0.0030 - val_accuracy: 0.0345\n",
            "Epoch 9/100\n",
            "22/22 [==============================] - 6s 274ms/step - loss: 0.0024 - accuracy: 0.0348 - val_loss: 0.0030 - val_accuracy: 0.0345\n",
            "Epoch 10/100\n",
            "22/22 [==============================] - 6s 292ms/step - loss: 0.0024 - accuracy: 0.0348 - val_loss: 0.0030 - val_accuracy: 0.0345\n",
            "Epoch 11/100\n",
            "22/22 [==============================] - 6s 276ms/step - loss: 0.0024 - accuracy: 0.0348 - val_loss: 0.0031 - val_accuracy: 0.0345\n",
            "Epoch 12/100\n",
            "22/22 [==============================] - 6s 280ms/step - loss: 0.0024 - accuracy: 0.0348 - val_loss: 0.0030 - val_accuracy: 0.0345\n",
            "Epoch 13/100\n",
            "22/22 [==============================] - 6s 277ms/step - loss: 0.0023 - accuracy: 0.0348 - val_loss: 0.0031 - val_accuracy: 0.0345\n",
            "Epoch 14/100\n",
            "22/22 [==============================] - 6s 277ms/step - loss: 0.0023 - accuracy: 0.0348 - val_loss: 0.0029 - val_accuracy: 0.0345\n",
            "Epoch 15/100\n",
            "22/22 [==============================] - 6s 279ms/step - loss: 0.0023 - accuracy: 0.0348 - val_loss: 0.0028 - val_accuracy: 0.0345\n",
            "Epoch 16/100\n",
            "22/22 [==============================] - 6s 283ms/step - loss: 0.0023 - accuracy: 0.0348 - val_loss: 0.0029 - val_accuracy: 0.0345\n",
            "Epoch 17/100\n",
            "22/22 [==============================] - 6s 280ms/step - loss: 0.0023 - accuracy: 0.0348 - val_loss: 0.0029 - val_accuracy: 0.0345\n",
            "Epoch 18/100\n",
            "22/22 [==============================] - 6s 279ms/step - loss: 0.0023 - accuracy: 0.0348 - val_loss: 0.0027 - val_accuracy: 0.0345\n",
            "Epoch 19/100\n",
            "22/22 [==============================] - 6s 279ms/step - loss: 0.0023 - accuracy: 0.0348 - val_loss: 0.0027 - val_accuracy: 0.0345\n",
            "Epoch 20/100\n",
            "22/22 [==============================] - 6s 279ms/step - loss: 0.0022 - accuracy: 0.0348 - val_loss: 0.0027 - val_accuracy: 0.0345\n",
            "Epoch 21/100\n",
            "22/22 [==============================] - 6s 279ms/step - loss: 0.0022 - accuracy: 0.0348 - val_loss: 0.0030 - val_accuracy: 0.0345\n",
            "Epoch 22/100\n",
            "22/22 [==============================] - 6s 278ms/step - loss: 0.0023 - accuracy: 0.0348 - val_loss: 0.0028 - val_accuracy: 0.0345\n",
            "Epoch 23/100\n",
            "22/22 [==============================] - 6s 281ms/step - loss: 0.0022 - accuracy: 0.0348 - val_loss: 0.0028 - val_accuracy: 0.0345\n",
            "Epoch 24/100\n",
            "22/22 [==============================] - 6s 278ms/step - loss: 0.0022 - accuracy: 0.0348 - val_loss: 0.0030 - val_accuracy: 0.0345\n",
            "Epoch 25/100\n",
            "22/22 [==============================] - 6s 278ms/step - loss: 0.0022 - accuracy: 0.0348 - val_loss: 0.0029 - val_accuracy: 0.0345\n",
            "Epoch 26/100\n",
            "22/22 [==============================] - 6s 277ms/step - loss: 0.0023 - accuracy: 0.0348 - val_loss: 0.0028 - val_accuracy: 0.0345\n",
            "Epoch 27/100\n",
            "22/22 [==============================] - 6s 278ms/step - loss: 0.0022 - accuracy: 0.0348 - val_loss: 0.0028 - val_accuracy: 0.0345\n",
            "Epoch 28/100\n",
            "22/22 [==============================] - 6s 277ms/step - loss: 0.0022 - accuracy: 0.0348 - val_loss: 0.0027 - val_accuracy: 0.0345\n",
            "Epoch 29/100\n",
            "22/22 [==============================] - 6s 277ms/step - loss: 0.0022 - accuracy: 0.0348 - val_loss: 0.0027 - val_accuracy: 0.0345\n",
            "Epoch 30/100\n",
            "22/22 [==============================] - 6s 278ms/step - loss: 0.0021 - accuracy: 0.0348 - val_loss: 0.0028 - val_accuracy: 0.0345\n",
            "Epoch 31/100\n",
            "22/22 [==============================] - 6s 278ms/step - loss: 0.0021 - accuracy: 0.0348 - val_loss: 0.0028 - val_accuracy: 0.0345\n",
            "Epoch 32/100\n",
            "22/22 [==============================] - 6s 279ms/step - loss: 0.0021 - accuracy: 0.0348 - val_loss: 0.0027 - val_accuracy: 0.0345\n",
            "Epoch 33/100\n",
            "22/22 [==============================] - 6s 278ms/step - loss: 0.0021 - accuracy: 0.0348 - val_loss: 0.0031 - val_accuracy: 0.0345\n",
            "Epoch 34/100\n",
            "22/22 [==============================] - 6s 280ms/step - loss: 0.0021 - accuracy: 0.0348 - val_loss: 0.0027 - val_accuracy: 0.0345\n",
            "Epoch 35/100\n",
            "22/22 [==============================] - 6s 278ms/step - loss: 0.0021 - accuracy: 0.0348 - val_loss: 0.0027 - val_accuracy: 0.0345\n",
            "Epoch 36/100\n",
            "22/22 [==============================] - 6s 279ms/step - loss: 0.0021 - accuracy: 0.0348 - val_loss: 0.0026 - val_accuracy: 0.0345\n",
            "Epoch 37/100\n",
            "22/22 [==============================] - 6s 279ms/step - loss: 0.0022 - accuracy: 0.0348 - val_loss: 0.0027 - val_accuracy: 0.0345\n",
            "Epoch 38/100\n",
            "22/22 [==============================] - 6s 279ms/step - loss: 0.0022 - accuracy: 0.0348 - val_loss: 0.0027 - val_accuracy: 0.0345\n",
            "Epoch 39/100\n",
            "22/22 [==============================] - 6s 277ms/step - loss: 0.0021 - accuracy: 0.0348 - val_loss: 0.0028 - val_accuracy: 0.0345\n",
            "Epoch 40/100\n",
            "22/22 [==============================] - 6s 279ms/step - loss: 0.0022 - accuracy: 0.0348 - val_loss: 0.0027 - val_accuracy: 0.0345\n",
            "Epoch 41/100\n",
            "22/22 [==============================] - 6s 276ms/step - loss: 0.0021 - accuracy: 0.0348 - val_loss: 0.0029 - val_accuracy: 0.0345\n",
            "Epoch 42/100\n",
            "22/22 [==============================] - 6s 279ms/step - loss: 0.0021 - accuracy: 0.0348 - val_loss: 0.0029 - val_accuracy: 0.0345\n",
            "Epoch 43/100\n",
            "22/22 [==============================] - 6s 277ms/step - loss: 0.0020 - accuracy: 0.0348 - val_loss: 0.0027 - val_accuracy: 0.0345\n",
            "Epoch 44/100\n",
            "22/22 [==============================] - 6s 278ms/step - loss: 0.0020 - accuracy: 0.0348 - val_loss: 0.0026 - val_accuracy: 0.0345\n",
            "Epoch 45/100\n",
            "22/22 [==============================] - 6s 276ms/step - loss: 0.0021 - accuracy: 0.0348 - val_loss: 0.0028 - val_accuracy: 0.0345\n",
            "Epoch 46/100\n",
            "22/22 [==============================] - 6s 278ms/step - loss: 0.0020 - accuracy: 0.0348 - val_loss: 0.0028 - val_accuracy: 0.0345\n",
            "Epoch 47/100\n",
            "22/22 [==============================] - 6s 277ms/step - loss: 0.0021 - accuracy: 0.0348 - val_loss: 0.0027 - val_accuracy: 0.0345\n",
            "Epoch 48/100\n",
            "22/22 [==============================] - 6s 277ms/step - loss: 0.0020 - accuracy: 0.0348 - val_loss: 0.0028 - val_accuracy: 0.0345\n",
            "Epoch 49/100\n",
            "22/22 [==============================] - 6s 277ms/step - loss: 0.0020 - accuracy: 0.0348 - val_loss: 0.0028 - val_accuracy: 0.0345\n",
            "Epoch 50/100\n",
            "22/22 [==============================] - 6s 278ms/step - loss: 0.0021 - accuracy: 0.0348 - val_loss: 0.0028 - val_accuracy: 0.0345\n",
            "Epoch 51/100\n",
            "22/22 [==============================] - 6s 279ms/step - loss: 0.0020 - accuracy: 0.0348 - val_loss: 0.0026 - val_accuracy: 0.0345\n",
            "Epoch 52/100\n",
            "22/22 [==============================] - 6s 280ms/step - loss: 0.0020 - accuracy: 0.0348 - val_loss: 0.0026 - val_accuracy: 0.0345\n",
            "Epoch 53/100\n",
            "22/22 [==============================] - 6s 279ms/step - loss: 0.0020 - accuracy: 0.0348 - val_loss: 0.0029 - val_accuracy: 0.0345\n",
            "Epoch 54/100\n",
            "22/22 [==============================] - 6s 279ms/step - loss: 0.0021 - accuracy: 0.0348 - val_loss: 0.0029 - val_accuracy: 0.0345\n",
            "Epoch 55/100\n",
            "22/22 [==============================] - 6s 284ms/step - loss: 0.0020 - accuracy: 0.0348 - val_loss: 0.0029 - val_accuracy: 0.0345\n",
            "Epoch 56/100\n",
            "22/22 [==============================] - 6s 279ms/step - loss: 0.0020 - accuracy: 0.0348 - val_loss: 0.0027 - val_accuracy: 0.0345\n",
            "Epoch 57/100\n",
            "22/22 [==============================] - 6s 279ms/step - loss: 0.0020 - accuracy: 0.0348 - val_loss: 0.0028 - val_accuracy: 0.0345\n",
            "Epoch 58/100\n",
            "22/22 [==============================] - 6s 279ms/step - loss: 0.0020 - accuracy: 0.0348 - val_loss: 0.0027 - val_accuracy: 0.0345\n",
            "Epoch 59/100\n",
            "22/22 [==============================] - 6s 278ms/step - loss: 0.0020 - accuracy: 0.0348 - val_loss: 0.0029 - val_accuracy: 0.0345\n",
            "Epoch 60/100\n",
            "22/22 [==============================] - 6s 278ms/step - loss: 0.0020 - accuracy: 0.0348 - val_loss: 0.0026 - val_accuracy: 0.0345\n",
            "Epoch 61/100\n",
            "22/22 [==============================] - 6s 280ms/step - loss: 0.0019 - accuracy: 0.0348 - val_loss: 0.0027 - val_accuracy: 0.0345\n",
            "Epoch 62/100\n",
            "22/22 [==============================] - 6s 277ms/step - loss: 0.0019 - accuracy: 0.0348 - val_loss: 0.0026 - val_accuracy: 0.0345\n",
            "Epoch 63/100\n",
            "22/22 [==============================] - 6s 277ms/step - loss: 0.0019 - accuracy: 0.0348 - val_loss: 0.0027 - val_accuracy: 0.0345\n",
            "Epoch 64/100\n",
            "22/22 [==============================] - 6s 278ms/step - loss: 0.0019 - accuracy: 0.0348 - val_loss: 0.0027 - val_accuracy: 0.0345\n",
            "Epoch 65/100\n",
            "22/22 [==============================] - 6s 277ms/step - loss: 0.0019 - accuracy: 0.0348 - val_loss: 0.0026 - val_accuracy: 0.0345\n",
            "Epoch 66/100\n",
            "22/22 [==============================] - 6s 276ms/step - loss: 0.0021 - accuracy: 0.0348 - val_loss: 0.0027 - val_accuracy: 0.0345\n",
            "Epoch 67/100\n",
            "22/22 [==============================] - 6s 278ms/step - loss: 0.0020 - accuracy: 0.0348 - val_loss: 0.0027 - val_accuracy: 0.0345\n",
            "Epoch 68/100\n",
            "22/22 [==============================] - 6s 278ms/step - loss: 0.0019 - accuracy: 0.0348 - val_loss: 0.0027 - val_accuracy: 0.0345\n",
            "Epoch 69/100\n",
            "22/22 [==============================] - 6s 279ms/step - loss: 0.0020 - accuracy: 0.0348 - val_loss: 0.0027 - val_accuracy: 0.0345\n",
            "Epoch 70/100\n",
            "22/22 [==============================] - 6s 278ms/step - loss: 0.0019 - accuracy: 0.0348 - val_loss: 0.0028 - val_accuracy: 0.0345\n",
            "Epoch 71/100\n",
            "22/22 [==============================] - 6s 277ms/step - loss: 0.0019 - accuracy: 0.0348 - val_loss: 0.0026 - val_accuracy: 0.0345\n",
            "Epoch 72/100\n",
            "22/22 [==============================] - 6s 277ms/step - loss: 0.0019 - accuracy: 0.0348 - val_loss: 0.0026 - val_accuracy: 0.0345\n",
            "Epoch 73/100\n",
            "22/22 [==============================] - 6s 279ms/step - loss: 0.0019 - accuracy: 0.0348 - val_loss: 0.0029 - val_accuracy: 0.0345\n",
            "Epoch 74/100\n",
            "22/22 [==============================] - 6s 277ms/step - loss: 0.0019 - accuracy: 0.0348 - val_loss: 0.0027 - val_accuracy: 0.0345\n",
            "Epoch 75/100\n",
            "22/22 [==============================] - 6s 277ms/step - loss: 0.0019 - accuracy: 0.0348 - val_loss: 0.0027 - val_accuracy: 0.0345\n",
            "Epoch 76/100\n",
            "22/22 [==============================] - 6s 277ms/step - loss: 0.0019 - accuracy: 0.0348 - val_loss: 0.0027 - val_accuracy: 0.0345\n",
            "Epoch 77/100\n",
            "22/22 [==============================] - 6s 278ms/step - loss: 0.0019 - accuracy: 0.0348 - val_loss: 0.0026 - val_accuracy: 0.0345\n",
            "Epoch 78/100\n",
            "22/22 [==============================] - 6s 278ms/step - loss: 0.0019 - accuracy: 0.0348 - val_loss: 0.0029 - val_accuracy: 0.0345\n",
            "Epoch 79/100\n",
            "22/22 [==============================] - 6s 277ms/step - loss: 0.0019 - accuracy: 0.0348 - val_loss: 0.0025 - val_accuracy: 0.0345\n",
            "Epoch 80/100\n",
            "22/22 [==============================] - 6s 278ms/step - loss: 0.0019 - accuracy: 0.0348 - val_loss: 0.0027 - val_accuracy: 0.0345\n",
            "Epoch 81/100\n",
            "22/22 [==============================] - 6s 277ms/step - loss: 0.0018 - accuracy: 0.0348 - val_loss: 0.0026 - val_accuracy: 0.0345\n",
            "Epoch 82/100\n",
            "22/22 [==============================] - 6s 278ms/step - loss: 0.0019 - accuracy: 0.0348 - val_loss: 0.0030 - val_accuracy: 0.0345\n",
            "Epoch 83/100\n",
            "22/22 [==============================] - 6s 278ms/step - loss: 0.0020 - accuracy: 0.0348 - val_loss: 0.0029 - val_accuracy: 0.0345\n",
            "Epoch 84/100\n",
            "22/22 [==============================] - 6s 278ms/step - loss: 0.0019 - accuracy: 0.0348 - val_loss: 0.0026 - val_accuracy: 0.0345\n",
            "Epoch 85/100\n",
            "22/22 [==============================] - 6s 278ms/step - loss: 0.0018 - accuracy: 0.0348 - val_loss: 0.0028 - val_accuracy: 0.0345\n",
            "Epoch 86/100\n",
            "22/22 [==============================] - 6s 281ms/step - loss: 0.0018 - accuracy: 0.0348 - val_loss: 0.0026 - val_accuracy: 0.0345\n",
            "Epoch 87/100\n",
            "22/22 [==============================] - 6s 281ms/step - loss: 0.0019 - accuracy: 0.0348 - val_loss: 0.0026 - val_accuracy: 0.0345\n",
            "Epoch 88/100\n",
            "22/22 [==============================] - 6s 278ms/step - loss: 0.0018 - accuracy: 0.0348 - val_loss: 0.0026 - val_accuracy: 0.0345\n",
            "Epoch 89/100\n",
            "22/22 [==============================] - 6s 278ms/step - loss: 0.0019 - accuracy: 0.0348 - val_loss: 0.0027 - val_accuracy: 0.0345\n",
            "Epoch 90/100\n",
            "22/22 [==============================] - 6s 277ms/step - loss: 0.0019 - accuracy: 0.0348 - val_loss: 0.0027 - val_accuracy: 0.0345\n",
            "Epoch 91/100\n",
            "22/22 [==============================] - 6s 278ms/step - loss: 0.0018 - accuracy: 0.0348 - val_loss: 0.0026 - val_accuracy: 0.0345\n",
            "Epoch 92/100\n",
            "22/22 [==============================] - 6s 278ms/step - loss: 0.0019 - accuracy: 0.0348 - val_loss: 0.0029 - val_accuracy: 0.0345\n",
            "Epoch 93/100\n",
            "22/22 [==============================] - 6s 279ms/step - loss: 0.0018 - accuracy: 0.0348 - val_loss: 0.0026 - val_accuracy: 0.0345\n",
            "Epoch 94/100\n",
            "22/22 [==============================] - 6s 279ms/step - loss: 0.0019 - accuracy: 0.0348 - val_loss: 0.0027 - val_accuracy: 0.0345\n",
            "Epoch 95/100\n",
            "22/22 [==============================] - 6s 277ms/step - loss: 0.0018 - accuracy: 0.0348 - val_loss: 0.0026 - val_accuracy: 0.0345\n",
            "Epoch 96/100\n",
            "22/22 [==============================] - 6s 278ms/step - loss: 0.0019 - accuracy: 0.0348 - val_loss: 0.0027 - val_accuracy: 0.0345\n",
            "Epoch 97/100\n",
            "22/22 [==============================] - 6s 277ms/step - loss: 0.0018 - accuracy: 0.0348 - val_loss: 0.0025 - val_accuracy: 0.0345\n",
            "Epoch 98/100\n",
            "22/22 [==============================] - 6s 279ms/step - loss: 0.0017 - accuracy: 0.0348 - val_loss: 0.0026 - val_accuracy: 0.0345\n",
            "Epoch 99/100\n",
            "22/22 [==============================] - 6s 279ms/step - loss: 0.0018 - accuracy: 0.0348 - val_loss: 0.0025 - val_accuracy: 0.0345\n",
            "Epoch 100/100\n",
            "22/22 [==============================] - 6s 278ms/step - loss: 0.0018 - accuracy: 0.0348 - val_loss: 0.0026 - val_accuracy: 0.0345\n"
          ]
        }
      ],
      "source": [
        "history = conv_autoencoder.fit(X_train1, X_train1, batch_size=128, epochs=100, validation_data=(y_train1, y_train1))"
      ]
    },
    {
      "cell_type": "markdown",
      "metadata": {
        "id": "hVXJFqFxZ5Uc"
      },
      "source": [
        "Epoch 523/1000\n",
        "22/22 [==============================] - 11s 526ms/step - loss: 0.0012 - accuracy: 0.0348 - val_loss: 0.0028 - val_accuracy: 0.0345"
      ]
    },
    {
      "cell_type": "code",
      "execution_count": null,
      "metadata": {
        "colab": {
          "base_uri": "https://localhost:8080/",
          "height": 265
        },
        "id": "Sl2SrwktZzW3",
        "outputId": "d3215f45-f74a-4107-aad2-df8a857aa927"
      },
      "outputs": [
        {
          "data": {
            "image/png": "[encoded data removed]",
            "text/plain": [
              "<Figure size 432x288 with 1 Axes>"
            ]
          },
          "metadata": {},
          "output_type": "display_data"
        }
      ],
      "source": [
        "plt.plot(history.history[\"loss\"], label=\"Training Loss\")\n",
        "plt.plot(history.history[\"val_loss\"], label=\"Validation Loss\")\n",
        "plt.legend()\n",
        "plt.show()"
      ]
    },
    {
      "cell_type": "code",
      "execution_count": null,
      "metadata": {
        "colab": {
          "base_uri": "https://localhost:8080/",
          "height": 265
        },
        "id": "TdzXi-_chmJk",
        "outputId": "17f82ce3-589a-407a-ae3b-1f38e1855153"
      },
      "outputs": [
        {
          "data": {
            "image/png": "[encoded data removed]",
            "text/plain": [
              "<Figure size 432x288 with 1 Axes>"
            ]
          },
          "metadata": {},
          "output_type": "display_data"
        }
      ],
      "source": [
        "plt.plot(history.history[\"accuracy\"], label=\"Training accuracy\")\n",
        "plt.plot(history.history[\"val_accuracy\"], label=\"Validation accuracy\")\n",
        "plt.legend()\n",
        "plt.show()"
      ]
    },
    {
      "cell_type": "code",
      "execution_count": null,
      "metadata": {
        "colab": {
          "base_uri": "https://localhost:8080/",
          "height": 216
        },
        "id": "Nha2FfASZpOM",
        "outputId": "6d19b319-5108-406f-d8a2-1f2bb140981b"
      },
      "outputs": [
        {
          "data": {
            "image/png": "[encoded data removed]",
            "text/plain": [
              "<Figure size 432x288 with 2 Axes>"
            ]
          },
          "metadata": {},
          "output_type": "display_data"
        }
      ],
      "source": [
        "#train conv_autoencoder\n",
        "import random\n",
        "num=random.randint(0, len(all)-1)\n",
        "test_img = np.expand_dims(all[num], axis=0)\n",
        "pred = conv_autoencoder.predict(test_img)\n",
        "#(np.squeeze(pred[0]),cmap='gray')\n",
        "plt.subplot(1,2,1)\n",
        "plt.imshow(np.squeeze(test_img[0]),cmap='gray')\n",
        "plt.title('Original')\n",
        "plt.subplot(1,2,2)\n",
        "plt.imshow(np.squeeze(pred[0].reshape(256,256)),cmap='gray')\n",
        "plt.title('Reconstructed')\n",
        "plt.show()"
      ]
    },
    {
      "cell_type": "code",
      "execution_count": null,
      "metadata": {
        "id": "DXCTUk1jb_Vf"
      },
      "outputs": [],
      "source": [
        "conv_autoencoder.save(\"/content/drive/MyDrive/good Model/2000sconv_autoencoderfitepochs200.h5\")"
      ]
    },
    {
      "cell_type": "code",
      "execution_count": null,
      "metadata": {
        "id": "zqc54P4JTZEO"
      },
      "outputs": [],
      "source": [
        "#train conv_autoencoder\n",
        "import random\n",
        "num=random.randint(0, len(y_train1)-1)\n",
        "test_img = np.expand_dims(y_train1[5], axis=0)\n",
        "pred = conv_autoencoder.predict(test_img)\n",
        "#(np.squeeze(pred[0]),cmap='gray')\n",
        "plt.subplot(1,2,1)\n",
        "plt.imshow(np.squeeze(test_img),cmap='gray')\n",
        "plt.title('Original')\n",
        "plt.subplot(1,2,2)\n",
        "plt.imshow(np.squeeze(pred.reshape(256,256)),cmap='gray')\n",
        "plt.title('Reconstructed')\n",
        "plt.show()"
      ]
    },
    {
      "cell_type": "code",
      "execution_count": null,
      "metadata": {
        "id": "4tgBxMgYTu2I"
      },
      "outputs": [],
      "source": [
        "from tensorflow import keras\n",
        "conv_autoencoder = keras.models.load_model(\"/content/drive/MyDrive/good Model/2000sconv_autoencoderfitepochs200.h5\")"
      ]
    },
    {
      "cell_type": "code",
      "execution_count": null,
      "metadata": {
        "id": "yA50BBnjWd3L"
      },
      "outputs": [],
      "source": []
    },
    {
      "cell_type": "code",
      "execution_count": null,
      "metadata": {
        "colab": {
          "base_uri": "https://localhost:8080/",
          "height": 216
        },
        "id": "Vm5XOL1WQ9wi",
        "outputId": "81d755ce-1298-4a54-b3f5-98ac30727fd0"
      },
      "outputs": [
        {
          "data": {
            "image/png": "[encoded data removed]",
            "text/plain": [
              "<Figure size 432x288 with 2 Axes>"
            ]
          },
          "metadata": {},
          "output_type": "display_data"
        }
      ],
      "source": [
        "#train conv_autoencoder\n",
        "import random\n",
        "num=random.randint(0, len(y_train1)-1)\n",
        "test_img = np.expand_dims(y_train1[num], axis=0)\n",
        "pred = conv_autoencoder.predict(test_img)\n",
        "#(np.squeeze(pred[0]),cmap='gray')\n",
        "plt.subplot(1,2,1)\n",
        "plt.imshow(np.squeeze(test_img),cmap='gray')\n",
        "plt.title('Original')\n",
        "plt.subplot(1,2,2)\n",
        "plt.imshow(np.squeeze(pred.reshape(256,256)),cmap='gray')\n",
        "plt.title('Reconstructed')\n",
        "plt.show()"
      ]
    },
    {
      "cell_type": "code",
      "execution_count": null,
      "metadata": {
        "colab": {
          "base_uri": "https://localhost:8080/"
        },
        "id": "JMsLqXe1Q6p3",
        "outputId": "a0d2195e-f5be-4b25-931f-f13acdd3f5d1"
      },
      "outputs": [
        {
          "name": "stdout",
          "output_type": "stream",
          "text": [
            "Epoch 1/258\n",
            "199/199 [==============================] - 45s 158ms/step - loss: 0.0027 - accuracy: 0.0341 - val_loss: 0.0024 - val_accuracy: 0.0339\n",
            "Epoch 2/258\n",
            "199/199 [==============================] - 27s 136ms/step - loss: 0.0023 - accuracy: 0.0342 - val_loss: 0.0023 - val_accuracy: 0.0339\n",
            "Epoch 3/258\n",
            "199/199 [==============================] - 27s 136ms/step - loss: 0.0022 - accuracy: 0.0342 - val_loss: 0.0023 - val_accuracy: 0.0339\n",
            "Epoch 4/258\n",
            "199/199 [==============================] - 27s 136ms/step - loss: 0.0021 - accuracy: 0.0342 - val_loss: 0.0023 - val_accuracy: 0.0339\n",
            "Epoch 5/258\n",
            "199/199 [==============================] - 27s 137ms/step - loss: 0.0020 - accuracy: 0.0342 - val_loss: 0.0022 - val_accuracy: 0.0339\n",
            "Epoch 6/258\n",
            "199/199 [==============================] - 27s 137ms/step - loss: 0.0020 - accuracy: 0.0342 - val_loss: 0.0022 - val_accuracy: 0.0339\n",
            "Epoch 7/258\n",
            "199/199 [==============================] - 27s 137ms/step - loss: 0.0020 - accuracy: 0.0342 - val_loss: 0.0022 - val_accuracy: 0.0339\n",
            "Epoch 8/258\n",
            "199/199 [==============================] - 27s 136ms/step - loss: 0.0019 - accuracy: 0.0342 - val_loss: 0.0022 - val_accuracy: 0.0339\n",
            "Epoch 9/258\n",
            "199/199 [==============================] - 27s 137ms/step - loss: 0.0019 - accuracy: 0.0342 - val_loss: 0.0022 - val_accuracy: 0.0339\n",
            "Epoch 10/258\n",
            "199/199 [==============================] - 27s 137ms/step - loss: 0.0019 - accuracy: 0.0342 - val_loss: 0.0021 - val_accuracy: 0.0339\n",
            "Epoch 11/258\n",
            "199/199 [==============================] - 27s 137ms/step - loss: 0.0019 - accuracy: 0.0342 - val_loss: 0.0022 - val_accuracy: 0.0339\n",
            "Epoch 12/258\n",
            "199/199 [==============================] - 27s 137ms/step - loss: 0.0018 - accuracy: 0.0342 - val_loss: 0.0021 - val_accuracy: 0.0339\n",
            "Epoch 13/258\n",
            "199/199 [==============================] - 27s 136ms/step - loss: 0.0018 - accuracy: 0.0342 - val_loss: 0.0022 - val_accuracy: 0.0339\n",
            "Epoch 14/258\n",
            "199/199 [==============================] - 27s 136ms/step - loss: 0.0018 - accuracy: 0.0342 - val_loss: 0.0021 - val_accuracy: 0.0339\n",
            "Epoch 15/258\n",
            "199/199 [==============================] - 27s 136ms/step - loss: 0.0018 - accuracy: 0.0342 - val_loss: 0.0021 - val_accuracy: 0.0339\n",
            "Epoch 16/258\n",
            "199/199 [==============================] - 27s 136ms/step - loss: 0.0018 - accuracy: 0.0342 - val_loss: 0.0023 - val_accuracy: 0.0339\n",
            "Epoch 17/258\n",
            "199/199 [==============================] - 27s 136ms/step - loss: 0.0017 - accuracy: 0.0342 - val_loss: 0.0021 - val_accuracy: 0.0339\n",
            "Epoch 18/258\n",
            "199/199 [==============================] - 27s 136ms/step - loss: 0.0017 - accuracy: 0.0342 - val_loss: 0.0022 - val_accuracy: 0.0339\n",
            "Epoch 19/258\n",
            "199/199 [==============================] - 27s 136ms/step - loss: 0.0018 - accuracy: 0.0342 - val_loss: 0.0021 - val_accuracy: 0.0339\n",
            "Epoch 20/258\n",
            "199/199 [==============================] - 27s 137ms/step - loss: 0.0017 - accuracy: 0.0342 - val_loss: 0.0021 - val_accuracy: 0.0339\n",
            "Epoch 21/258\n",
            "199/199 [==============================] - 27s 136ms/step - loss: 0.0017 - accuracy: 0.0342 - val_loss: 0.0021 - val_accuracy: 0.0339\n",
            "Epoch 22/258\n",
            "199/199 [==============================] - 27s 136ms/step - loss: 0.0017 - accuracy: 0.0342 - val_loss: 0.0021 - val_accuracy: 0.0339\n",
            "Epoch 23/258\n",
            "199/199 [==============================] - 27s 136ms/step - loss: 0.0017 - accuracy: 0.0342 - val_loss: 0.0021 - val_accuracy: 0.0339\n",
            "Epoch 24/258\n",
            "199/199 [==============================] - 29s 144ms/step - loss: 0.0017 - accuracy: 0.0342 - val_loss: 0.0021 - val_accuracy: 0.0339\n",
            "Epoch 25/258\n",
            "199/199 [==============================] - 27s 136ms/step - loss: 0.0017 - accuracy: 0.0342 - val_loss: 0.0021 - val_accuracy: 0.0339\n",
            "Epoch 26/258\n",
            "199/199 [==============================] - 27s 135ms/step - loss: 0.0017 - accuracy: 0.0342 - val_loss: 0.0021 - val_accuracy: 0.0339\n",
            "Epoch 27/258\n",
            "199/199 [==============================] - 27s 136ms/step - loss: 0.0017 - accuracy: 0.0342 - val_loss: 0.0021 - val_accuracy: 0.0339\n",
            "Epoch 28/258\n",
            "199/199 [==============================] - 27s 136ms/step - loss: 0.0016 - accuracy: 0.0342 - val_loss: 0.0021 - val_accuracy: 0.0339\n",
            "Epoch 29/258\n",
            "199/199 [==============================] - 27s 136ms/step - loss: 0.0016 - accuracy: 0.0342 - val_loss: 0.0021 - val_accuracy: 0.0339\n",
            "Epoch 30/258\n",
            "199/199 [==============================] - 27s 136ms/step - loss: 0.0016 - accuracy: 0.0342 - val_loss: 0.0021 - val_accuracy: 0.0339\n",
            "Epoch 31/258\n",
            "199/199 [==============================] - 27s 136ms/step - loss: 0.0016 - accuracy: 0.0342 - val_loss: 0.0021 - val_accuracy: 0.0339\n",
            "Epoch 32/258\n",
            "199/199 [==============================] - 27s 136ms/step - loss: 0.0017 - accuracy: 0.0342 - val_loss: 0.0021 - val_accuracy: 0.0339\n",
            "Epoch 33/258\n",
            "199/199 [==============================] - 27s 136ms/step - loss: 0.0016 - accuracy: 0.0342 - val_loss: 0.0021 - val_accuracy: 0.0339\n",
            "Epoch 34/258\n",
            "199/199 [==============================] - 27s 136ms/step - loss: 0.0016 - accuracy: 0.0342 - val_loss: 0.0021 - val_accuracy: 0.0339\n",
            "Epoch 35/258\n",
            "199/199 [==============================] - 27s 136ms/step - loss: 0.0016 - accuracy: 0.0342 - val_loss: 0.0021 - val_accuracy: 0.0339\n",
            "Epoch 36/258\n",
            "199/199 [==============================] - 27s 136ms/step - loss: 0.0016 - accuracy: 0.0342 - val_loss: 0.0021 - val_accuracy: 0.0339\n",
            "Epoch 37/258\n",
            "199/199 [==============================] - 27s 136ms/step - loss: 0.0016 - accuracy: 0.0342 - val_loss: 0.0021 - val_accuracy: 0.0339\n",
            "Epoch 38/258\n",
            "199/199 [==============================] - 27s 137ms/step - loss: 0.0016 - accuracy: 0.0342 - val_loss: 0.0021 - val_accuracy: 0.0339\n",
            "Epoch 39/258\n",
            "199/199 [==============================] - 27s 137ms/step - loss: 0.0016 - accuracy: 0.0342 - val_loss: 0.0021 - val_accuracy: 0.0339\n",
            "Epoch 40/258\n",
            "199/199 [==============================] - 27s 137ms/step - loss: 0.0016 - accuracy: 0.0342 - val_loss: 0.0021 - val_accuracy: 0.0339\n",
            "Epoch 41/258\n",
            "199/199 [==============================] - 27s 137ms/step - loss: 0.0016 - accuracy: 0.0342 - val_loss: 0.0021 - val_accuracy: 0.0339\n",
            "Epoch 42/258\n",
            "199/199 [==============================] - 27s 136ms/step - loss: 0.0016 - accuracy: 0.0342 - val_loss: 0.0021 - val_accuracy: 0.0339\n",
            "Epoch 43/258\n",
            "199/199 [==============================] - 27s 136ms/step - loss: 0.0016 - accuracy: 0.0342 - val_loss: 0.0021 - val_accuracy: 0.0339\n",
            "Epoch 44/258\n",
            "199/199 [==============================] - 27s 136ms/step - loss: 0.0015 - accuracy: 0.0342 - val_loss: 0.0021 - val_accuracy: 0.0339\n",
            "Epoch 45/258\n",
            "199/199 [==============================] - 27s 137ms/step - loss: 0.0015 - accuracy: 0.0342 - val_loss: 0.0022 - val_accuracy: 0.0339\n",
            "Epoch 46/258\n",
            "199/199 [==============================] - 27s 137ms/step - loss: 0.0016 - accuracy: 0.0342 - val_loss: 0.0021 - val_accuracy: 0.0339\n",
            "Epoch 47/258\n",
            "199/199 [==============================] - 27s 137ms/step - loss: 0.0015 - accuracy: 0.0342 - val_loss: 0.0021 - val_accuracy: 0.0339\n",
            "Epoch 48/258\n",
            "199/199 [==============================] - 27s 137ms/step - loss: 0.0015 - accuracy: 0.0342 - val_loss: 0.0021 - val_accuracy: 0.0339\n",
            "Epoch 49/258\n",
            "199/199 [==============================] - 27s 136ms/step - loss: 0.0015 - accuracy: 0.0342 - val_loss: 0.0021 - val_accuracy: 0.0339\n",
            "Epoch 50/258\n",
            "199/199 [==============================] - 27s 137ms/step - loss: 0.0015 - accuracy: 0.0342 - val_loss: 0.0022 - val_accuracy: 0.0339\n",
            "Epoch 51/258\n",
            "199/199 [==============================] - 27s 136ms/step - loss: 0.0015 - accuracy: 0.0342 - val_loss: 0.0021 - val_accuracy: 0.0339\n",
            "Epoch 52/258\n",
            "199/199 [==============================] - 27s 136ms/step - loss: 0.0015 - accuracy: 0.0342 - val_loss: 0.0021 - val_accuracy: 0.0339\n",
            "Epoch 53/258\n",
            "199/199 [==============================] - 27s 136ms/step - loss: 0.0015 - accuracy: 0.0342 - val_loss: 0.0021 - val_accuracy: 0.0339\n",
            "Epoch 54/258\n",
            "199/199 [==============================] - 27s 136ms/step - loss: 0.0015 - accuracy: 0.0342 - val_loss: 0.0021 - val_accuracy: 0.0339\n",
            "Epoch 55/258\n",
            "199/199 [==============================] - 27s 136ms/step - loss: 0.0015 - accuracy: 0.0342 - val_loss: 0.0021 - val_accuracy: 0.0339\n",
            "Epoch 56/258\n",
            "199/199 [==============================] - 27s 137ms/step - loss: 0.0015 - accuracy: 0.0342 - val_loss: 0.0021 - val_accuracy: 0.0339\n",
            "Epoch 57/258\n",
            "199/199 [==============================] - 29s 144ms/step - loss: 0.0015 - accuracy: 0.0342 - val_loss: 0.0021 - val_accuracy: 0.0339\n",
            "Epoch 58/258\n",
            "199/199 [==============================] - 27s 137ms/step - loss: 0.0015 - accuracy: 0.0342 - val_loss: 0.0021 - val_accuracy: 0.0339\n",
            "Epoch 59/258\n",
            "199/199 [==============================] - 27s 137ms/step - loss: 0.0015 - accuracy: 0.0342 - val_loss: 0.0021 - val_accuracy: 0.0339\n",
            "Epoch 60/258\n",
            "199/199 [==============================] - 27s 137ms/step - loss: 0.0015 - accuracy: 0.0342 - val_loss: 0.0021 - val_accuracy: 0.0339\n",
            "Epoch 61/258\n",
            "199/199 [==============================] - 27s 136ms/step - loss: 0.0015 - accuracy: 0.0342 - val_loss: 0.0021 - val_accuracy: 0.0339\n",
            "Epoch 62/258\n",
            "199/199 [==============================] - 27s 136ms/step - loss: 0.0015 - accuracy: 0.0342 - val_loss: 0.0021 - val_accuracy: 0.0339\n",
            "Epoch 63/258\n",
            "199/199 [==============================] - 27s 136ms/step - loss: 0.0015 - accuracy: 0.0342 - val_loss: 0.0021 - val_accuracy: 0.0339\n",
            "Epoch 64/258\n",
            "199/199 [==============================] - 27s 136ms/step - loss: 0.0015 - accuracy: 0.0342 - val_loss: 0.0021 - val_accuracy: 0.0339\n",
            "Epoch 65/258\n",
            "199/199 [==============================] - 27s 136ms/step - loss: 0.0015 - accuracy: 0.0342 - val_loss: 0.0021 - val_accuracy: 0.0339\n",
            "Epoch 66/258\n",
            "199/199 [==============================] - 27s 136ms/step - loss: 0.0015 - accuracy: 0.0342 - val_loss: 0.0021 - val_accuracy: 0.0339\n",
            "Epoch 67/258\n",
            "199/199 [==============================] - 27s 136ms/step - loss: 0.0015 - accuracy: 0.0342 - val_loss: 0.0021 - val_accuracy: 0.0339\n",
            "Epoch 68/258\n",
            "199/199 [==============================] - 27s 136ms/step - loss: 0.0015 - accuracy: 0.0342 - val_loss: 0.0021 - val_accuracy: 0.0339\n",
            "Epoch 69/258\n",
            "199/199 [==============================] - 27s 136ms/step - loss: 0.0015 - accuracy: 0.0342 - val_loss: 0.0021 - val_accuracy: 0.0339\n",
            "Epoch 70/258\n",
            "199/199 [==============================] - 27s 136ms/step - loss: 0.0015 - accuracy: 0.0342 - val_loss: 0.0021 - val_accuracy: 0.0339\n",
            "Epoch 71/258\n",
            "199/199 [==============================] - 27s 137ms/step - loss: 0.0014 - accuracy: 0.0342 - val_loss: 0.0021 - val_accuracy: 0.0339\n",
            "Epoch 72/258\n",
            "199/199 [==============================] - 27s 136ms/step - loss: 0.0015 - accuracy: 0.0342 - val_loss: 0.0021 - val_accuracy: 0.0339\n",
            "Epoch 73/258\n",
            "199/199 [==============================] - 27s 136ms/step - loss: 0.0014 - accuracy: 0.0342 - val_loss: 0.0021 - val_accuracy: 0.0339\n",
            "Epoch 74/258\n",
            "199/199 [==============================] - 27s 136ms/step - loss: 0.0015 - accuracy: 0.0342 - val_loss: 0.0021 - val_accuracy: 0.0339\n",
            "Epoch 75/258\n",
            "199/199 [==============================] - 27s 136ms/step - loss: 0.0014 - accuracy: 0.0342 - val_loss: 0.0021 - val_accuracy: 0.0339\n",
            "Epoch 76/258\n",
            "199/199 [==============================] - 27s 137ms/step - loss: 0.0015 - accuracy: 0.0342 - val_loss: 0.0021 - val_accuracy: 0.0339\n",
            "Epoch 77/258\n",
            "199/199 [==============================] - 27s 136ms/step - loss: 0.0014 - accuracy: 0.0342 - val_loss: 0.0021 - val_accuracy: 0.0339\n",
            "Epoch 78/258\n",
            "199/199 [==============================] - 29s 143ms/step - loss: 0.0015 - accuracy: 0.0342 - val_loss: 0.0021 - val_accuracy: 0.0339\n",
            "Epoch 79/258\n",
            "199/199 [==============================] - 27s 136ms/step - loss: 0.0014 - accuracy: 0.0342 - val_loss: 0.0021 - val_accuracy: 0.0339\n",
            "Epoch 80/258\n",
            "199/199 [==============================] - 27s 136ms/step - loss: 0.0014 - accuracy: 0.0342 - val_loss: 0.0021 - val_accuracy: 0.0339\n",
            "Epoch 81/258\n",
            "199/199 [==============================] - 27s 136ms/step - loss: 0.0014 - accuracy: 0.0342 - val_loss: 0.0021 - val_accuracy: 0.0339\n",
            "Epoch 82/258\n",
            "199/199 [==============================] - 27s 136ms/step - loss: 0.0014 - accuracy: 0.0342 - val_loss: 0.0021 - val_accuracy: 0.0339\n",
            "Epoch 83/258\n",
            "199/199 [==============================] - 27s 136ms/step - loss: 0.0014 - accuracy: 0.0342 - val_loss: 0.0021 - val_accuracy: 0.0339\n",
            "Epoch 84/258\n",
            "199/199 [==============================] - 27s 136ms/step - loss: 0.0014 - accuracy: 0.0342 - val_loss: 0.0021 - val_accuracy: 0.0339\n",
            "Epoch 85/258\n",
            "199/199 [==============================] - 27s 136ms/step - loss: 0.0014 - accuracy: 0.0342 - val_loss: 0.0021 - val_accuracy: 0.0339\n",
            "Epoch 86/258\n",
            "199/199 [==============================] - 27s 137ms/step - loss: 0.0014 - accuracy: 0.0342 - val_loss: 0.0021 - val_accuracy: 0.0339\n",
            "Epoch 87/258\n",
            "199/199 [==============================] - 27s 136ms/step - loss: 0.0014 - accuracy: 0.0342 - val_loss: 0.0021 - val_accuracy: 0.0339\n",
            "Epoch 88/258\n",
            "199/199 [==============================] - 27s 137ms/step - loss: 0.0014 - accuracy: 0.0342 - val_loss: 0.0021 - val_accuracy: 0.0339\n",
            "Epoch 89/258\n",
            "199/199 [==============================] - 27s 137ms/step - loss: 0.0014 - accuracy: 0.0342 - val_loss: 0.0021 - val_accuracy: 0.0339\n",
            "Epoch 90/258\n",
            "199/199 [==============================] - 27s 136ms/step - loss: 0.0014 - accuracy: 0.0342 - val_loss: 0.0021 - val_accuracy: 0.0339\n",
            "Epoch 91/258\n",
            "199/199 [==============================] - 27s 136ms/step - loss: 0.0014 - accuracy: 0.0342 - val_loss: 0.0021 - val_accuracy: 0.0339\n",
            "Epoch 92/258\n",
            "199/199 [==============================] - 27s 137ms/step - loss: 0.0014 - accuracy: 0.0342 - val_loss: 0.0021 - val_accuracy: 0.0339\n",
            "Epoch 93/258\n",
            "199/199 [==============================] - 27s 136ms/step - loss: 0.0014 - accuracy: 0.0342 - val_loss: 0.0021 - val_accuracy: 0.0339\n",
            "Epoch 94/258\n",
            "199/199 [==============================] - 27s 136ms/step - loss: 0.0014 - accuracy: 0.0342 - val_loss: 0.0022 - val_accuracy: 0.0339\n",
            "Epoch 95/258\n",
            "199/199 [==============================] - 27s 137ms/step - loss: 0.0014 - accuracy: 0.0342 - val_loss: 0.0021 - val_accuracy: 0.0339\n",
            "Epoch 96/258\n",
            "199/199 [==============================] - 27s 137ms/step - loss: 0.0014 - accuracy: 0.0342 - val_loss: 0.0021 - val_accuracy: 0.0339\n",
            "Epoch 97/258\n",
            "199/199 [==============================] - 27s 137ms/step - loss: 0.0014 - accuracy: 0.0342 - val_loss: 0.0021 - val_accuracy: 0.0339\n",
            "Epoch 98/258\n",
            "199/199 [==============================] - 27s 137ms/step - loss: 0.0014 - accuracy: 0.0342 - val_loss: 0.0021 - val_accuracy: 0.0339\n",
            "Epoch 99/258\n",
            "199/199 [==============================] - 27s 136ms/step - loss: 0.0014 - accuracy: 0.0342 - val_loss: 0.0021 - val_accuracy: 0.0339\n",
            "Epoch 100/258\n",
            "199/199 [==============================] - 27s 136ms/step - loss: 0.0014 - accuracy: 0.0342 - val_loss: 0.0021 - val_accuracy: 0.0339\n",
            "Epoch 101/258\n",
            "199/199 [==============================] - 27s 136ms/step - loss: 0.0014 - accuracy: 0.0342 - val_loss: 0.0021 - val_accuracy: 0.0339\n",
            "Epoch 102/258\n",
            "199/199 [==============================] - 27s 136ms/step - loss: 0.0014 - accuracy: 0.0342 - val_loss: 0.0021 - val_accuracy: 0.0339\n",
            "Epoch 103/258\n",
            "199/199 [==============================] - 27s 136ms/step - loss: 0.0014 - accuracy: 0.0342 - val_loss: 0.0021 - val_accuracy: 0.0339\n",
            "Epoch 104/258\n",
            "199/199 [==============================] - 27s 137ms/step - loss: 0.0014 - accuracy: 0.0342 - val_loss: 0.0021 - val_accuracy: 0.0339\n",
            "Epoch 105/258\n",
            "199/199 [==============================] - 27s 137ms/step - loss: 0.0014 - accuracy: 0.0342 - val_loss: 0.0021 - val_accuracy: 0.0339\n",
            "Epoch 106/258\n",
            "199/199 [==============================] - 27s 137ms/step - loss: 0.0014 - accuracy: 0.0342 - val_loss: 0.0022 - val_accuracy: 0.0339\n",
            "Epoch 107/258\n",
            "199/199 [==============================] - 27s 137ms/step - loss: 0.0014 - accuracy: 0.0342 - val_loss: 0.0021 - val_accuracy: 0.0339\n",
            "Epoch 108/258\n",
            "199/199 [==============================] - 27s 137ms/step - loss: 0.0014 - accuracy: 0.0342 - val_loss: 0.0021 - val_accuracy: 0.0339\n",
            "Epoch 109/258\n",
            "199/199 [==============================] - 27s 137ms/step - loss: 0.0014 - accuracy: 0.0342 - val_loss: 0.0022 - val_accuracy: 0.0339\n",
            "Epoch 110/258\n",
            "199/199 [==============================] - 27s 137ms/step - loss: 0.0014 - accuracy: 0.0342 - val_loss: 0.0021 - val_accuracy: 0.0339\n",
            "Epoch 111/258\n",
            "199/199 [==============================] - 27s 137ms/step - loss: 0.0014 - accuracy: 0.0342 - val_loss: 0.0021 - val_accuracy: 0.0339\n",
            "Epoch 112/258\n",
            "199/199 [==============================] - 27s 137ms/step - loss: 0.0014 - accuracy: 0.0342 - val_loss: 0.0021 - val_accuracy: 0.0339\n",
            "Epoch 113/258\n",
            "199/199 [==============================] - 27s 137ms/step - loss: 0.0014 - accuracy: 0.0342 - val_loss: 0.0021 - val_accuracy: 0.0339\n",
            "Epoch 114/258\n",
            "199/199 [==============================] - 27s 137ms/step - loss: 0.0014 - accuracy: 0.0342 - val_loss: 0.0022 - val_accuracy: 0.0339\n",
            "Epoch 115/258\n",
            "199/199 [==============================] - 27s 137ms/step - loss: 0.0014 - accuracy: 0.0342 - val_loss: 0.0021 - val_accuracy: 0.0339\n",
            "Epoch 116/258\n",
            "199/199 [==============================] - 27s 137ms/step - loss: 0.0014 - accuracy: 0.0342 - val_loss: 0.0021 - val_accuracy: 0.0339\n",
            "Epoch 117/258\n",
            "199/199 [==============================] - 27s 137ms/step - loss: 0.0014 - accuracy: 0.0342 - val_loss: 0.0021 - val_accuracy: 0.0339\n",
            "Epoch 118/258\n",
            "199/199 [==============================] - 27s 136ms/step - loss: 0.0014 - accuracy: 0.0342 - val_loss: 0.0024 - val_accuracy: 0.0339\n",
            "Epoch 119/258\n",
            "199/199 [==============================] - 27s 137ms/step - loss: 0.0014 - accuracy: 0.0342 - val_loss: 0.0021 - val_accuracy: 0.0339\n",
            "Epoch 120/258\n",
            "199/199 [==============================] - 27s 137ms/step - loss: 0.0014 - accuracy: 0.0342 - val_loss: 0.0021 - val_accuracy: 0.0339\n",
            "Epoch 121/258\n",
            "199/199 [==============================] - 27s 136ms/step - loss: 0.0014 - accuracy: 0.0342 - val_loss: 0.0021 - val_accuracy: 0.0339\n",
            "Epoch 122/258\n",
            "199/199 [==============================] - 27s 137ms/step - loss: 0.0014 - accuracy: 0.0342 - val_loss: 0.0022 - val_accuracy: 0.0339\n",
            "Epoch 123/258\n",
            "199/199 [==============================] - 27s 137ms/step - loss: 0.0014 - accuracy: 0.0342 - val_loss: 0.0021 - val_accuracy: 0.0339\n",
            "Epoch 124/258\n",
            "199/199 [==============================] - 27s 136ms/step - loss: 0.0013 - accuracy: 0.0342 - val_loss: 0.0021 - val_accuracy: 0.0339\n",
            "Epoch 125/258\n",
            "199/199 [==============================] - 27s 136ms/step - loss: 0.0014 - accuracy: 0.0342 - val_loss: 0.0021 - val_accuracy: 0.0339\n",
            "Epoch 126/258\n",
            "199/199 [==============================] - 27s 137ms/step - loss: 0.0014 - accuracy: 0.0342 - val_loss: 0.0022 - val_accuracy: 0.0339\n",
            "Epoch 127/258\n",
            "199/199 [==============================] - 27s 136ms/step - loss: 0.0014 - accuracy: 0.0342 - val_loss: 0.0021 - val_accuracy: 0.0339\n",
            "Epoch 128/258\n",
            "199/199 [==============================] - 27s 136ms/step - loss: 0.0014 - accuracy: 0.0342 - val_loss: 0.0021 - val_accuracy: 0.0339\n",
            "Epoch 129/258\n",
            "199/199 [==============================] - 27s 136ms/step - loss: 0.0013 - accuracy: 0.0342 - val_loss: 0.0021 - val_accuracy: 0.0339\n",
            "Epoch 130/258\n",
            "199/199 [==============================] - 27s 136ms/step - loss: 0.0014 - accuracy: 0.0342 - val_loss: 0.0022 - val_accuracy: 0.0339\n",
            "Epoch 131/258\n",
            "199/199 [==============================] - 27s 136ms/step - loss: 0.0013 - accuracy: 0.0342 - val_loss: 0.0022 - val_accuracy: 0.0339\n",
            "Epoch 132/258\n",
            "199/199 [==============================] - 27s 137ms/step - loss: 0.0013 - accuracy: 0.0342 - val_loss: 0.0021 - val_accuracy: 0.0339\n",
            "Epoch 133/258\n",
            "199/199 [==============================] - 27s 137ms/step - loss: 0.0014 - accuracy: 0.0342 - val_loss: 0.0021 - val_accuracy: 0.0339\n",
            "Epoch 134/258\n",
            "199/199 [==============================] - 27s 136ms/step - loss: 0.0014 - accuracy: 0.0342 - val_loss: 0.0021 - val_accuracy: 0.0339\n",
            "Epoch 135/258\n",
            "199/199 [==============================] - 27s 136ms/step - loss: 0.0013 - accuracy: 0.0342 - val_loss: 0.0022 - val_accuracy: 0.0339\n",
            "Epoch 136/258\n",
            "199/199 [==============================] - 27s 137ms/step - loss: 0.0014 - accuracy: 0.0342 - val_loss: 0.0022 - val_accuracy: 0.0339\n",
            "Epoch 137/258\n",
            "199/199 [==============================] - 28s 139ms/step - loss: 0.0014 - accuracy: 0.0342 - val_loss: 0.0021 - val_accuracy: 0.0339\n",
            "Epoch 138/258\n",
            "199/199 [==============================] - 27s 137ms/step - loss: 0.0013 - accuracy: 0.0342 - val_loss: 0.0021 - val_accuracy: 0.0339\n",
            "Epoch 139/258\n",
            "199/199 [==============================] - 27s 137ms/step - loss: 0.0013 - accuracy: 0.0342 - val_loss: 0.0022 - val_accuracy: 0.0339\n",
            "Epoch 140/258\n",
            "199/199 [==============================] - 29s 144ms/step - loss: 0.0013 - accuracy: 0.0342 - val_loss: 0.0022 - val_accuracy: 0.0339\n",
            "Epoch 141/258\n",
            "199/199 [==============================] - 27s 137ms/step - loss: 0.0013 - accuracy: 0.0342 - val_loss: 0.0022 - val_accuracy: 0.0339\n",
            "Epoch 142/258\n",
            "199/199 [==============================] - 27s 137ms/step - loss: 0.0014 - accuracy: 0.0342 - val_loss: 0.0022 - val_accuracy: 0.0339\n",
            "Epoch 143/258\n",
            "199/199 [==============================] - 27s 136ms/step - loss: 0.0013 - accuracy: 0.0342 - val_loss: 0.0021 - val_accuracy: 0.0339\n",
            "Epoch 144/258\n",
            "199/199 [==============================] - 27s 137ms/step - loss: 0.0013 - accuracy: 0.0342 - val_loss: 0.0021 - val_accuracy: 0.0339\n",
            "Epoch 145/258\n",
            "199/199 [==============================] - 29s 144ms/step - loss: 0.0013 - accuracy: 0.0342 - val_loss: 0.0021 - val_accuracy: 0.0339\n",
            "Epoch 146/258\n",
            "199/199 [==============================] - 27s 136ms/step - loss: 0.0013 - accuracy: 0.0342 - val_loss: 0.0021 - val_accuracy: 0.0339\n",
            "Epoch 147/258\n",
            "199/199 [==============================] - 27s 136ms/step - loss: 0.0013 - accuracy: 0.0342 - val_loss: 0.0021 - val_accuracy: 0.0339\n",
            "Epoch 148/258\n",
            "199/199 [==============================] - 27s 136ms/step - loss: 0.0013 - accuracy: 0.0342 - val_loss: 0.0022 - val_accuracy: 0.0339\n",
            "Epoch 149/258\n",
            "199/199 [==============================] - 27s 136ms/step - loss: 0.0013 - accuracy: 0.0342 - val_loss: 0.0022 - val_accuracy: 0.0339\n",
            "Epoch 150/258\n",
            "199/199 [==============================] - 27s 136ms/step - loss: 0.0013 - accuracy: 0.0342 - val_loss: 0.0021 - val_accuracy: 0.0339\n",
            "Epoch 151/258\n",
            "199/199 [==============================] - 27s 137ms/step - loss: 0.0013 - accuracy: 0.0342 - val_loss: 0.0021 - val_accuracy: 0.0339\n",
            "Epoch 152/258\n",
            "199/199 [==============================] - 27s 137ms/step - loss: 0.0013 - accuracy: 0.0342 - val_loss: 0.0021 - val_accuracy: 0.0339\n",
            "Epoch 153/258\n",
            "199/199 [==============================] - 27s 137ms/step - loss: 0.0013 - accuracy: 0.0342 - val_loss: 0.0021 - val_accuracy: 0.0339\n",
            "Epoch 154/258\n",
            "199/199 [==============================] - 27s 137ms/step - loss: 0.0013 - accuracy: 0.0342 - val_loss: 0.0021 - val_accuracy: 0.0339\n",
            "Epoch 155/258\n",
            "199/199 [==============================] - 27s 138ms/step - loss: 0.0013 - accuracy: 0.0342 - val_loss: 0.0022 - val_accuracy: 0.0339\n",
            "Epoch 156/258\n",
            "199/199 [==============================] - 27s 137ms/step - loss: 0.0013 - accuracy: 0.0342 - val_loss: 0.0021 - val_accuracy: 0.0339\n",
            "Epoch 157/258\n",
            "199/199 [==============================] - 27s 137ms/step - loss: 0.0013 - accuracy: 0.0342 - val_loss: 0.0022 - val_accuracy: 0.0339\n",
            "Epoch 158/258\n",
            "199/199 [==============================] - 27s 137ms/step - loss: 0.0013 - accuracy: 0.0342 - val_loss: 0.0021 - val_accuracy: 0.0339\n",
            "Epoch 159/258\n",
            "199/199 [==============================] - 27s 137ms/step - loss: 0.0013 - accuracy: 0.0342 - val_loss: 0.0021 - val_accuracy: 0.0339\n",
            "Epoch 160/258\n",
            "199/199 [==============================] - 27s 137ms/step - loss: 0.0013 - accuracy: 0.0342 - val_loss: 0.0022 - val_accuracy: 0.0339\n",
            "Epoch 161/258\n",
            "199/199 [==============================] - 27s 136ms/step - loss: 0.0013 - accuracy: 0.0342 - val_loss: 0.0021 - val_accuracy: 0.0339\n",
            "Epoch 162/258\n",
            "199/199 [==============================] - 27s 137ms/step - loss: 0.0013 - accuracy: 0.0342 - val_loss: 0.0022 - val_accuracy: 0.0339\n",
            "Epoch 163/258\n",
            "199/199 [==============================] - 27s 137ms/step - loss: 0.0013 - accuracy: 0.0342 - val_loss: 0.0021 - val_accuracy: 0.0339\n",
            "Epoch 164/258\n",
            "199/199 [==============================] - 27s 137ms/step - loss: 0.0013 - accuracy: 0.0342 - val_loss: 0.0021 - val_accuracy: 0.0339\n",
            "Epoch 165/258\n",
            "199/199 [==============================] - 29s 144ms/step - loss: 0.0013 - accuracy: 0.0342 - val_loss: 0.0022 - val_accuracy: 0.0339\n",
            "Epoch 166/258\n",
            "199/199 [==============================] - 27s 137ms/step - loss: 0.0013 - accuracy: 0.0342 - val_loss: 0.0021 - val_accuracy: 0.0339\n",
            "Epoch 167/258\n",
            "199/199 [==============================] - 27s 137ms/step - loss: 0.0013 - accuracy: 0.0342 - val_loss: 0.0022 - val_accuracy: 0.0339\n",
            "Epoch 168/258\n",
            "199/199 [==============================] - 27s 137ms/step - loss: 0.0013 - accuracy: 0.0342 - val_loss: 0.0022 - val_accuracy: 0.0339\n",
            "Epoch 169/258\n",
            "199/199 [==============================] - 27s 137ms/step - loss: 0.0013 - accuracy: 0.0342 - val_loss: 0.0022 - val_accuracy: 0.0339\n",
            "Epoch 170/258\n",
            "199/199 [==============================] - 27s 137ms/step - loss: 0.0013 - accuracy: 0.0342 - val_loss: 0.0022 - val_accuracy: 0.0339\n",
            "Epoch 171/258\n",
            "199/199 [==============================] - 27s 137ms/step - loss: 0.0013 - accuracy: 0.0342 - val_loss: 0.0022 - val_accuracy: 0.0339\n",
            "Epoch 172/258\n",
            "199/199 [==============================] - 27s 138ms/step - loss: 0.0013 - accuracy: 0.0342 - val_loss: 0.0022 - val_accuracy: 0.0339\n",
            "Epoch 173/258\n",
            "199/199 [==============================] - 27s 138ms/step - loss: 0.0013 - accuracy: 0.0342 - val_loss: 0.0022 - val_accuracy: 0.0339\n",
            "Epoch 174/258\n",
            "199/199 [==============================] - 27s 137ms/step - loss: 0.0013 - accuracy: 0.0342 - val_loss: 0.0022 - val_accuracy: 0.0339\n",
            "Epoch 175/258\n",
            "199/199 [==============================] - 27s 137ms/step - loss: 0.0013 - accuracy: 0.0342 - val_loss: 0.0022 - val_accuracy: 0.0339\n",
            "Epoch 176/258\n",
            "199/199 [==============================] - 27s 138ms/step - loss: 0.0013 - accuracy: 0.0342 - val_loss: 0.0022 - val_accuracy: 0.0339\n",
            "Epoch 177/258\n",
            "199/199 [==============================] - 27s 137ms/step - loss: 0.0013 - accuracy: 0.0342 - val_loss: 0.0023 - val_accuracy: 0.0339\n",
            "Epoch 178/258\n",
            "199/199 [==============================] - 27s 137ms/step - loss: 0.0014 - accuracy: 0.0342 - val_loss: 0.0021 - val_accuracy: 0.0339\n",
            "Epoch 179/258\n",
            "199/199 [==============================] - 27s 137ms/step - loss: 0.0013 - accuracy: 0.0342 - val_loss: 0.0022 - val_accuracy: 0.0339\n",
            "Epoch 180/258\n",
            "199/199 [==============================] - 27s 137ms/step - loss: 0.0013 - accuracy: 0.0342 - val_loss: 0.0022 - val_accuracy: 0.0339\n",
            "Epoch 181/258\n",
            "199/199 [==============================] - 27s 137ms/step - loss: 0.0013 - accuracy: 0.0342 - val_loss: 0.0022 - val_accuracy: 0.0339\n",
            "Epoch 182/258\n",
            "199/199 [==============================] - 27s 138ms/step - loss: 0.0013 - accuracy: 0.0342 - val_loss: 0.0022 - val_accuracy: 0.0339\n",
            "Epoch 183/258\n",
            "199/199 [==============================] - 27s 137ms/step - loss: 0.0013 - accuracy: 0.0342 - val_loss: 0.0022 - val_accuracy: 0.0339\n",
            "Epoch 184/258\n",
            "199/199 [==============================] - 27s 138ms/step - loss: 0.0013 - accuracy: 0.0342 - val_loss: 0.0022 - val_accuracy: 0.0339\n",
            "Epoch 185/258\n",
            "199/199 [==============================] - 29s 145ms/step - loss: 0.0013 - accuracy: 0.0342 - val_loss: 0.0022 - val_accuracy: 0.0339\n",
            "Epoch 186/258\n",
            "199/199 [==============================] - 27s 137ms/step - loss: 0.0013 - accuracy: 0.0342 - val_loss: 0.0022 - val_accuracy: 0.0339\n",
            "Epoch 187/258\n",
            "199/199 [==============================] - 27s 137ms/step - loss: 0.0013 - accuracy: 0.0342 - val_loss: 0.0022 - val_accuracy: 0.0339\n",
            "Epoch 188/258\n",
            "199/199 [==============================] - 27s 137ms/step - loss: 0.0013 - accuracy: 0.0342 - val_loss: 0.0022 - val_accuracy: 0.0339\n",
            "Epoch 189/258\n",
            "199/199 [==============================] - 27s 137ms/step - loss: 0.0013 - accuracy: 0.0342 - val_loss: 0.0022 - val_accuracy: 0.0339\n",
            "Epoch 190/258\n",
            "199/199 [==============================] - 27s 137ms/step - loss: 0.0013 - accuracy: 0.0342 - val_loss: 0.0022 - val_accuracy: 0.0339\n",
            "Epoch 191/258\n",
            "199/199 [==============================] - 27s 137ms/step - loss: 0.0013 - accuracy: 0.0342 - val_loss: 0.0022 - val_accuracy: 0.0339\n",
            "Epoch 192/258\n",
            "199/199 [==============================] - 27s 137ms/step - loss: 0.0013 - accuracy: 0.0342 - val_loss: 0.0022 - val_accuracy: 0.0339\n",
            "Epoch 193/258\n",
            "199/199 [==============================] - 27s 137ms/step - loss: 0.0013 - accuracy: 0.0342 - val_loss: 0.0022 - val_accuracy: 0.0339\n",
            "Epoch 194/258\n",
            "199/199 [==============================] - 27s 137ms/step - loss: 0.0013 - accuracy: 0.0342 - val_loss: 0.0022 - val_accuracy: 0.0339\n",
            "Epoch 195/258\n",
            "199/199 [==============================] - 27s 137ms/step - loss: 0.0013 - accuracy: 0.0342 - val_loss: 0.0022 - val_accuracy: 0.0339\n",
            "Epoch 196/258\n",
            "199/199 [==============================] - 29s 144ms/step - loss: 0.0013 - accuracy: 0.0342 - val_loss: 0.0022 - val_accuracy: 0.0339\n",
            "Epoch 197/258\n",
            "199/199 [==============================] - 27s 137ms/step - loss: 0.0013 - accuracy: 0.0342 - val_loss: 0.0022 - val_accuracy: 0.0339\n",
            "Epoch 198/258\n",
            "199/199 [==============================] - 27s 137ms/step - loss: 0.0013 - accuracy: 0.0342 - val_loss: 0.0022 - val_accuracy: 0.0339\n",
            "Epoch 199/258\n",
            "199/199 [==============================] - 27s 137ms/step - loss: 0.0013 - accuracy: 0.0342 - val_loss: 0.0022 - val_accuracy: 0.0339\n",
            "Epoch 200/258\n",
            "199/199 [==============================] - 27s 137ms/step - loss: 0.0013 - accuracy: 0.0342 - val_loss: 0.0023 - val_accuracy: 0.0339\n",
            "Epoch 201/258\n",
            "199/199 [==============================] - 27s 137ms/step - loss: 0.0013 - accuracy: 0.0342 - val_loss: 0.0022 - val_accuracy: 0.0339\n",
            "Epoch 202/258\n",
            "199/199 [==============================] - 27s 137ms/step - loss: 0.0013 - accuracy: 0.0342 - val_loss: 0.0022 - val_accuracy: 0.0339\n",
            "Epoch 203/258\n",
            "199/199 [==============================] - 27s 137ms/step - loss: 0.0013 - accuracy: 0.0342 - val_loss: 0.0022 - val_accuracy: 0.0339\n",
            "Epoch 204/258\n",
            "199/199 [==============================] - 27s 137ms/step - loss: 0.0013 - accuracy: 0.0342 - val_loss: 0.0022 - val_accuracy: 0.0339\n",
            "Epoch 205/258\n",
            "199/199 [==============================] - 27s 137ms/step - loss: 0.0013 - accuracy: 0.0342 - val_loss: 0.0022 - val_accuracy: 0.0339\n",
            "Epoch 206/258\n",
            "199/199 [==============================] - 27s 137ms/step - loss: 0.0013 - accuracy: 0.0342 - val_loss: 0.0022 - val_accuracy: 0.0339\n",
            "Epoch 207/258\n",
            "199/199 [==============================] - 27s 137ms/step - loss: 0.0013 - accuracy: 0.0342 - val_loss: 0.0022 - val_accuracy: 0.0339\n",
            "Epoch 208/258\n",
            "199/199 [==============================] - 27s 137ms/step - loss: 0.0013 - accuracy: 0.0342 - val_loss: 0.0022 - val_accuracy: 0.0339\n",
            "Epoch 209/258\n",
            "199/199 [==============================] - 27s 137ms/step - loss: 0.0013 - accuracy: 0.0342 - val_loss: 0.0022 - val_accuracy: 0.0339\n",
            "Epoch 210/258\n",
            "199/199 [==============================] - 27s 138ms/step - loss: 0.0013 - accuracy: 0.0342 - val_loss: 0.0022 - val_accuracy: 0.0339\n",
            "Epoch 211/258\n",
            "199/199 [==============================] - 27s 137ms/step - loss: 0.0013 - accuracy: 0.0342 - val_loss: 0.0022 - val_accuracy: 0.0339\n",
            "Epoch 212/258\n",
            "199/199 [==============================] - 27s 138ms/step - loss: 0.0013 - accuracy: 0.0342 - val_loss: 0.0022 - val_accuracy: 0.0339\n",
            "Epoch 213/258\n",
            "199/199 [==============================] - 27s 137ms/step - loss: 0.0013 - accuracy: 0.0342 - val_loss: 0.0022 - val_accuracy: 0.0339\n",
            "Epoch 214/258\n",
            "199/199 [==============================] - 27s 137ms/step - loss: 0.0013 - accuracy: 0.0342 - val_loss: 0.0022 - val_accuracy: 0.0339\n",
            "Epoch 215/258\n",
            "199/199 [==============================] - 27s 137ms/step - loss: 0.0013 - accuracy: 0.0342 - val_loss: 0.0022 - val_accuracy: 0.0339\n",
            "Epoch 216/258\n",
            "199/199 [==============================] - 27s 138ms/step - loss: 0.0013 - accuracy: 0.0342 - val_loss: 0.0022 - val_accuracy: 0.0339\n",
            "Epoch 217/258\n",
            "199/199 [==============================] - 27s 137ms/step - loss: 0.0013 - accuracy: 0.0342 - val_loss: 0.0023 - val_accuracy: 0.0339\n",
            "Epoch 218/258\n",
            "199/199 [==============================] - 27s 137ms/step - loss: 0.0013 - accuracy: 0.0342 - val_loss: 0.0022 - val_accuracy: 0.0339\n",
            "Epoch 219/258\n",
            "199/199 [==============================] - 27s 137ms/step - loss: 0.0013 - accuracy: 0.0342 - val_loss: 0.0022 - val_accuracy: 0.0339\n",
            "Epoch 220/258\n",
            "199/199 [==============================] - 27s 137ms/step - loss: 0.0013 - accuracy: 0.0342 - val_loss: 0.0022 - val_accuracy: 0.0339\n",
            "Epoch 221/258\n",
            "199/199 [==============================] - 27s 138ms/step - loss: 0.0013 - accuracy: 0.0342 - val_loss: 0.0022 - val_accuracy: 0.0339\n",
            "Epoch 222/258\n",
            "199/199 [==============================] - 27s 137ms/step - loss: 0.0013 - accuracy: 0.0342 - val_loss: 0.0022 - val_accuracy: 0.0339\n",
            "Epoch 223/258\n",
            "199/199 [==============================] - 27s 137ms/step - loss: 0.0013 - accuracy: 0.0342 - val_loss: 0.0022 - val_accuracy: 0.0339\n",
            "Epoch 224/258\n",
            "199/199 [==============================] - 29s 144ms/step - loss: 0.0013 - accuracy: 0.0342 - val_loss: 0.0022 - val_accuracy: 0.0339\n",
            "Epoch 225/258\n",
            "199/199 [==============================] - 27s 137ms/step - loss: 0.0012 - accuracy: 0.0342 - val_loss: 0.0022 - val_accuracy: 0.0339\n",
            "Epoch 226/258\n",
            "199/199 [==============================] - 27s 137ms/step - loss: 0.0013 - accuracy: 0.0342 - val_loss: 0.0022 - val_accuracy: 0.0339\n",
            "Epoch 227/258\n",
            "199/199 [==============================] - 27s 138ms/step - loss: 0.0013 - accuracy: 0.0342 - val_loss: 0.0022 - val_accuracy: 0.0339\n",
            "Epoch 228/258\n",
            "199/199 [==============================] - 27s 137ms/step - loss: 0.0013 - accuracy: 0.0342 - val_loss: 0.0022 - val_accuracy: 0.0339\n",
            "Epoch 229/258\n",
            "199/199 [==============================] - 27s 138ms/step - loss: 0.0013 - accuracy: 0.0342 - val_loss: 0.0022 - val_accuracy: 0.0339\n",
            "Epoch 230/258\n",
            "199/199 [==============================] - 27s 138ms/step - loss: 0.0013 - accuracy: 0.0342 - val_loss: 0.0022 - val_accuracy: 0.0339\n",
            "Epoch 231/258\n",
            "199/199 [==============================] - 27s 138ms/step - loss: 0.0013 - accuracy: 0.0342 - val_loss: 0.0022 - val_accuracy: 0.0339\n",
            "Epoch 232/258\n",
            "199/199 [==============================] - 27s 138ms/step - loss: 0.0012 - accuracy: 0.0342 - val_loss: 0.0022 - val_accuracy: 0.0339\n",
            "Epoch 233/258\n",
            "199/199 [==============================] - 27s 138ms/step - loss: 0.0013 - accuracy: 0.0342 - val_loss: 0.0022 - val_accuracy: 0.0339\n",
            "Epoch 234/258\n",
            "199/199 [==============================] - 27s 138ms/step - loss: 0.0013 - accuracy: 0.0342 - val_loss: 0.0022 - val_accuracy: 0.0339\n",
            "Epoch 235/258\n",
            "199/199 [==============================] - 28s 138ms/step - loss: 0.0013 - accuracy: 0.0342 - val_loss: 0.0022 - val_accuracy: 0.0339\n",
            "Epoch 236/258\n",
            "199/199 [==============================] - 27s 137ms/step - loss: 0.0013 - accuracy: 0.0342 - val_loss: 0.0022 - val_accuracy: 0.0339\n",
            "Epoch 237/258\n",
            "199/199 [==============================] - 27s 138ms/step - loss: 0.0013 - accuracy: 0.0342 - val_loss: 0.0022 - val_accuracy: 0.0339\n",
            "Epoch 238/258\n",
            "199/199 [==============================] - 27s 138ms/step - loss: 0.0013 - accuracy: 0.0342 - val_loss: 0.0022 - val_accuracy: 0.0339\n",
            "Epoch 239/258\n",
            "199/199 [==============================] - 27s 138ms/step - loss: 0.0013 - accuracy: 0.0342 - val_loss: 0.0022 - val_accuracy: 0.0339\n",
            "Epoch 240/258\n",
            "199/199 [==============================] - 27s 138ms/step - loss: 0.0013 - accuracy: 0.0342 - val_loss: 0.0023 - val_accuracy: 0.0339\n",
            "Epoch 241/258\n",
            "199/199 [==============================] - 27s 137ms/step - loss: 0.0013 - accuracy: 0.0342 - val_loss: 0.0022 - val_accuracy: 0.0339\n",
            "Epoch 242/258\n",
            "199/199 [==============================] - 27s 137ms/step - loss: 0.0013 - accuracy: 0.0342 - val_loss: 0.0022 - val_accuracy: 0.0339\n",
            "Epoch 243/258\n",
            "199/199 [==============================] - 27s 138ms/step - loss: 0.0013 - accuracy: 0.0342 - val_loss: 0.0022 - val_accuracy: 0.0339\n",
            "Epoch 244/258\n",
            "199/199 [==============================] - 27s 138ms/step - loss: 0.0012 - accuracy: 0.0342 - val_loss: 0.0024 - val_accuracy: 0.0339\n",
            "Epoch 245/258\n",
            "199/199 [==============================] - 27s 138ms/step - loss: 0.0013 - accuracy: 0.0342 - val_loss: 0.0023 - val_accuracy: 0.0339\n",
            "Epoch 246/258\n",
            "199/199 [==============================] - 27s 138ms/step - loss: 0.0013 - accuracy: 0.0342 - val_loss: 0.0022 - val_accuracy: 0.0339\n",
            "Epoch 247/258\n",
            "199/199 [==============================] - 27s 138ms/step - loss: 0.0013 - accuracy: 0.0342 - val_loss: 0.0022 - val_accuracy: 0.0339\n",
            "Epoch 248/258\n",
            "199/199 [==============================] - 27s 138ms/step - loss: 0.0013 - accuracy: 0.0342 - val_loss: 0.0022 - val_accuracy: 0.0339\n",
            "Epoch 249/258\n",
            "199/199 [==============================] - 27s 138ms/step - loss: 0.0013 - accuracy: 0.0342 - val_loss: 0.0022 - val_accuracy: 0.0339\n",
            "Epoch 250/258\n",
            "199/199 [==============================] - 27s 137ms/step - loss: 0.0013 - accuracy: 0.0342 - val_loss: 0.0022 - val_accuracy: 0.0339\n",
            "Epoch 251/258\n",
            "199/199 [==============================] - 27s 138ms/step - loss: 0.0013 - accuracy: 0.0342 - val_loss: 0.0022 - val_accuracy: 0.0339\n",
            "Epoch 252/258\n",
            "199/199 [==============================] - 27s 137ms/step - loss: 0.0013 - accuracy: 0.0342 - val_loss: 0.0022 - val_accuracy: 0.0339\n",
            "Epoch 253/258\n",
            "199/199 [==============================] - 27s 138ms/step - loss: 0.0013 - accuracy: 0.0342 - val_loss: 0.0022 - val_accuracy: 0.0339\n",
            "Epoch 254/258\n",
            "199/199 [==============================] - 27s 137ms/step - loss: 0.0012 - accuracy: 0.0342 - val_loss: 0.0022 - val_accuracy: 0.0339\n",
            "Epoch 255/258\n",
            "199/199 [==============================] - 27s 137ms/step - loss: 0.0012 - accuracy: 0.0342 - val_loss: 0.0022 - val_accuracy: 0.0339\n",
            "Epoch 256/258\n",
            "199/199 [==============================] - 27s 138ms/step - loss: 0.0013 - accuracy: 0.0342 - val_loss: 0.0022 - val_accuracy: 0.0339\n",
            "Epoch 257/258\n",
            "199/199 [==============================] - 27s 137ms/step - loss: 0.0013 - accuracy: 0.0342 - val_loss: 0.0022 - val_accuracy: 0.0339\n",
            "Epoch 258/258\n",
            "199/199 [==============================] - 27s 138ms/step - loss: 0.0013 - accuracy: 0.0342 - val_loss: 0.0023 - val_accuracy: 0.0339\n"
          ]
        },
        {
          "data": {
            "text/plain": [
              "<keras.callbacks.History at 0x7f15e0045210>"
            ]
          },
          "execution_count": 9,
          "metadata": {},
          "output_type": "execute_result"
        }
      ],
      "source": [
        "conv_autoencoder.fit(X_train1, X_train1,  epochs=258, validation_data=(y_train1, y_train1))"
      ]
    },
    {
      "cell_type": "markdown",
      "metadata": {
        "id": "se-uvxVgX3VF"
      },
      "source": [
        "Epoch 258/258\n",
        "199/199 [==============================] - 27s 138ms/step - loss: 0.0013 - accuracy: 0.0342 - val_loss: 0.0023 - val_accuracy: 0.0339\n",
        "<keras.callbacks.History at 0x7f15e0045210>\n",
        "\n"
      ]
    },
    {
      "cell_type": "code",
      "execution_count": null,
      "metadata": {
        "id": "9ZTuvpAksuWv"
      },
      "outputs": [],
      "source": [
        "conv_autoencoder.save(\"/content/drive/MyDrive/good Model/258sconv_autoencoderfitepochs200.h5\")"
      ]
    },
    {
      "cell_type": "code",
      "execution_count": null,
      "metadata": {
        "colab": {
          "base_uri": "https://localhost:8080/",
          "height": 215
        },
        "id": "zxWWOGhdRqNN",
        "outputId": "6fc43edf-84b2-4bb2-8996-1112477dfbf3"
      },
      "outputs": [
        {
          "data": {
            "image/png": "[encoded data removed]",
            "text/plain": [
              "<Figure size 432x288 with 2 Axes>"
            ]
          },
          "metadata": {},
          "output_type": "display_data"
        }
      ],
      "source": [
        "#train conv_autoencoder\n",
        "import random\n",
        "num=random.randint(0, len(y_train1)-1)\n",
        "test_img = np.expand_dims(y_train1[num], axis=0)\n",
        "pred = conv_autoencoder.predict(test_img)\n",
        "#(np.squeeze(pred[0]),cmap='gray')\n",
        "plt.subplot(1,2,1)\n",
        "plt.imshow(np.squeeze(test_img),cmap='gray')\n",
        "plt.title('Original')\n",
        "plt.subplot(1,2,2)\n",
        "plt.imshow(np.squeeze(pred.reshape(256,256)),cmap='gray')\n",
        "plt.title('Reconstructed')\n",
        "plt.show()"
      ]
    },
    {
      "cell_type": "code",
      "execution_count": null,
      "metadata": {
        "id": "cKMLveiEVbDw"
      },
      "outputs": [],
      "source": [
        "pred = conv_autoencoder.predict(y_train1)"
      ]
    },
    {
      "cell_type": "markdown",
      "metadata": {
        "id": "_cS8R7uPWnIQ"
      },
      "source": [
        "# **reload mdoel conv_autoencoder**"
      ]
    },
    {
      "cell_type": "code",
      "execution_count": null,
      "metadata": {
        "id": "_LzqpweYWihu"
      },
      "outputs": [],
      "source": [
        "from tensorflow import keras\n",
        "conv_autoencoder = keras.models.load_model(\"/content/drive/MyDrive/good Model/258sconv_autoencoderfitepochs200.h5\")"
      ]
    },
    {
      "cell_type": "code",
      "execution_count": null,
      "metadata": {
        "id": "HH_lBdDcWz4k"
      },
      "outputs": [],
      "source": [
        "epochs = 50"
      ]
    },
    {
      "cell_type": "code",
      "execution_count": null,
      "metadata": {
        "id": "8n47XzuYXWWD"
      },
      "outputs": [],
      "source": [
        "plt.plot(history.history[\"loss\"], label=\"Training Loss\")\n",
        "plt.plot(history.history[\"val_loss\"], label=\"Validation Loss\")\n",
        "plt.legend()\n",
        "plt.show()"
      ]
    },
    {
      "cell_type": "code",
      "execution_count": null,
      "metadata": {
        "colab": {
          "base_uri": "https://localhost:8080/"
        },
        "id": "9x_GBIYTDh2N",
        "outputId": "3c8db5b8-76e5-4882-c5a8-3d98a3939abb"
      },
      "outputs": [
        {
          "name": "stdout",
          "output_type": "stream",
          "text": [
            "<keras.engine.functional.Functional object at 0x7f156ce1a850>\n"
          ]
        }
      ],
      "source": [
        "import tensorflow as tf\n",
        "from keras.layers import Flatten\n",
        "fe=Flatten()(conv_autoencoder.get_layer(name=\"max_pooling2d_5\").output)\n",
        "\n",
        "features_layer1 = tf.keras.models.Model(\n",
        "    inputs=conv_autoencoder.inputs,outputs=fe)\n",
        "    ##outputs=autoencoder_model.get_layer(name=\"activation_7\").output\n",
        "\n",
        "#Flatten()outputs=autoencoder_model.get_layer(name=\"activation_7\").output\n",
        "print(features_layer1)\n"
      ]
    },
    {
      "cell_type": "code",
      "execution_count": null,
      "metadata": {
        "colab": {
          "base_uri": "https://localhost:8080/"
        },
        "id": "09Fo5JMMDh2O",
        "outputId": "3518fa0f-9469-4858-c2fe-9c503a9726a1"
      },
      "outputs": [
        {
          "name": "stdout",
          "output_type": "stream",
          "text": [
            "Model: \"model\"\n",
            "_________________________________________________________________\n",
            " Layer (type)                Output Shape              Param #   \n",
            "=================================================================\n",
            " conv2d_input (InputLayer)   [(None, 256, 256, 1)]     0         \n",
            "                                                                 \n",
            " conv2d (Conv2D)             (None, 256, 256, 8)       80        \n",
            "                                                                 \n",
            " max_pooling2d (MaxPooling2D  (None, 128, 128, 8)      0         \n",
            " )                                                               \n",
            "                                                                 \n",
            " conv2d_1 (Conv2D)           (None, 128, 128, 16)      1168      \n",
            "                                                                 \n",
            " max_pooling2d_1 (MaxPooling  (None, 64, 64, 16)       0         \n",
            " 2D)                                                             \n",
            "                                                                 \n",
            " conv2d_2 (Conv2D)           (None, 64, 64, 32)        4640      \n",
            "                                                                 \n",
            " max_pooling2d_2 (MaxPooling  (None, 32, 32, 32)       0         \n",
            " 2D)                                                             \n",
            "                                                                 \n",
            " conv2d_3 (Conv2D)           (None, 32, 32, 64)        18496     \n",
            "                                                                 \n",
            " max_pooling2d_3 (MaxPooling  (None, 16, 16, 64)       0         \n",
            " 2D)                                                             \n",
            "                                                                 \n",
            " conv2d_4 (Conv2D)           (None, 16, 16, 128)       73856     \n",
            "                                                                 \n",
            " max_pooling2d_4 (MaxPooling  (None, 8, 8, 128)        0         \n",
            " 2D)                                                             \n",
            "                                                                 \n",
            " conv2d_5 (Conv2D)           (None, 8, 8, 256)         295168    \n",
            "                                                                 \n",
            " max_pooling2d_5 (MaxPooling  (None, 4, 4, 256)        0         \n",
            " 2D)                                                             \n",
            "                                                                 \n",
            " flatten (Flatten)           (None, 4096)              0         \n",
            "                                                                 \n",
            "=================================================================\n",
            "Total params: 393,408\n",
            "Trainable params: 393,408\n",
            "Non-trainable params: 0\n",
            "_________________________________________________________________\n"
          ]
        }
      ],
      "source": [
        "features_layer1.summary()"
      ]
    },
    {
      "cell_type": "code",
      "execution_count": null,
      "metadata": {
        "colab": {
          "base_uri": "https://localhost:8080/"
        },
        "id": "wdNl5_z_EuzU",
        "outputId": "a588c59e-7721-448e-c0d4-4b83cec19e4a"
      },
      "outputs": [
        {
          "name": "stdout",
          "output_type": "stream",
          "text": [
            "WARNING:tensorflow:Compiled the loaded model, but the compiled metrics have yet to be built. `model.compile_metrics` will be empty until you train or evaluate the model.\n"
          ]
        }
      ],
      "source": [
        "features_layer1.save('/content/drive/MyDrive/files/trainsoftmaxnewlastfeatures_layer1.h5')\n"
      ]
    },
    {
      "cell_type": "markdown",
      "metadata": {
        "id": "4206Wza5E5h3"
      },
      "source": [
        "# feature"
      ]
    },
    {
      "cell_type": "code",
      "execution_count": null,
      "metadata": {
        "colab": {
          "base_uri": "https://localhost:8080/"
        },
        "id": "hv7sddLBdD1t",
        "outputId": "4b5ca4c7-10c3-47fe-f73e-61180ddc0172"
      },
      "outputs": [
        {
          "name": "stdout",
          "output_type": "stream",
          "text": [
            "WARNING:tensorflow:No training configuration found in the save file, so the model was *not* compiled. Compile it manually.\n"
          ]
        }
      ],
      "source": [
        "from tensorflow import keras\n",
        "features_layer1 = keras.models.load_model('/content/drive/MyDrive/files/softmaxnewlastfeatures_layer1.h5')"
      ]
    },
    {
      "cell_type": "code",
      "execution_count": null,
      "metadata": {
        "id": "mDDg4FCZE2Es"
      },
      "outputs": [],
      "source": [
        "features_layer1.compile(optimizer='adam', loss='mean_squared_error', metrics=['accuracy'])"
      ]
    },
    {
      "cell_type": "code",
      "execution_count": null,
      "metadata": {
        "id": "pmUauAbfGW6E"
      },
      "outputs": [],
      "source": [
        "array0=[]\n",
        "array1=[]\n",
        "array2=[]\n",
        "import numpy as np\n",
        "import pandas  as pd\n",
        "import numpy as np\n",
        "test_img = np.expand_dims(all[0], axis=0)\n",
        "prefeature=features_layer1.predict(test_img)\n",
        "array0 = np.array([prefeature[0]])\n",
        "array1 =np.array(1)\n",
        "#df = pd.DataFrame(data=array0,  columns=[\"ID\", \"feature\", \"labels\"])\n",
        "#df = pd.DataFrame({'feature':array0 , 'labels': 1})\n",
        "\n",
        "for i in range(1,2169):\n",
        "    #nexont 2169\n",
        "  test_img = np.expand_dims(all[i], axis=0)\n",
        "  prefeature=features_layer1.predict(test_img)\n",
        "  row =np.array([prefeature[0]])\n",
        "  array0 = np.r_[array0,row]\n",
        "  row1 =np.array(1)\n",
        "  array1 = np.r_[array1,row1]\n",
        "  ###df.add(pd.DataFrame({'feature': [prefeature[0]], 'labels': 1}) , ignore_index=True)\n",
        "  #array0=np.append(array0,np.array([ prefeature[0], axis=0])) #i+1,, 1\n",
        "\n",
        "\n",
        "\n"
      ]
    },
    {
      "cell_type": "code",
      "execution_count": null,
      "metadata": {
        "colab": {
          "base_uri": "https://localhost:8080/"
        },
        "id": "yxsszlwV8V52",
        "outputId": "f818945a-c624-4bf7-bbba-20267686542f"
      },
      "outputs": [
        {
          "data": {
            "text/plain": [
              "2169"
            ]
          },
          "execution_count": 13,
          "metadata": {},
          "output_type": "execute_result"
        }
      ],
      "source": [
        "len(array0)"
      ]
    },
    {
      "cell_type": "code",
      "execution_count": null,
      "metadata": {
        "colab": {
          "base_uri": "https://localhost:8080/"
        },
        "id": "ehc5y2WmHEmc",
        "outputId": "a3802334-197b-4fc8-e579-cd6af7907dde"
      },
      "outputs": [
        {
          "data": {
            "text/plain": [
              "(2169, 4096)"
            ]
          },
          "execution_count": 14,
          "metadata": {},
          "output_type": "execute_result"
        }
      ],
      "source": [
        "array0.shape"
      ]
    },
    {
      "cell_type": "code",
      "execution_count": null,
      "metadata": {
        "id": "hLK2_KyAGmNX"
      },
      "outputs": [],
      "source": [
        "\n",
        "for i in range(2169,8284):\n",
        "      #nexont 3169\n",
        "      test_img = np.expand_dims(all[i], axis=0)\n",
        "      prefeature=features_layer1.predict(test_img)\n",
        "      row =np.array([prefeature[0]])\n",
        "      array0 = np.r_[array0,row]\n",
        "      row1 =np.array(2)\n",
        "      array1 = np.r_[array1,row1]\n",
        "for i in range(8284,9091):\n",
        "  #llast  3976\n",
        "  test_img = np.expand_dims(all[i], axis=0)\n",
        "  prefeature=features_layer1.predict(test_img)\n",
        "  row =np.array([prefeature[0]])\n",
        "  array0 = np.r_[array0,row]\n",
        "  row1 =np.array(3)\n",
        "  array1 = np.r_[array1,row1]\n"
      ]
    },
    {
      "cell_type": "code",
      "execution_count": null,
      "metadata": {
        "colab": {
          "base_uri": "https://localhost:8080/"
        },
        "id": "qCEXDa8wcefA",
        "outputId": "b97968b1-31df-4bf2-aefe-1d1a11c5b060"
      },
      "outputs": [
        {
          "data": {
            "text/plain": [
              "9091"
            ]
          },
          "execution_count": 16,
          "metadata": {},
          "output_type": "execute_result"
        }
      ],
      "source": [
        "len(array0)"
      ]
    },
    {
      "cell_type": "markdown",
      "metadata": {
        "id": "QQSFeB0BnOuC"
      },
      "source": [
        "# Test data"
      ]
    },
    {
      "cell_type": "code",
      "execution_count": null,
      "metadata": {
        "colab": {
          "base_uri": "https://localhost:8080/"
        },
        "id": "nYQ7X544nou2",
        "outputId": "b4f9a222-ba1b-402c-bb37-cfbe30a4126b"
      },
      "outputs": [
        {
          "data": {
            "text/plain": [
              "2764"
            ]
          },
          "execution_count": 32,
          "metadata": {},
          "output_type": "execute_result"
        }
      ],
      "source": [
        "#0\n",
        "1#723\n",
        "724#2039#2763\n",
        "2764#269#3031"
      ]
    },
    {
      "cell_type": "code",
      "execution_count": null,
      "metadata": {
        "id": "Lm2VhlRN9UVn"
      },
      "outputs": [],
      "source": [
        "array0=[]\n",
        "array1=[]\n",
        "array2=[]\n",
        "import numpy as np\n",
        "import pandas  as pd\n",
        "import numpy as np\n",
        "test_img = np.expand_dims(all[0], axis=0)\n",
        "prefeature=features_layer1.predict(test_img)\n",
        "array0 = np.array([prefeature[0]])\n",
        "array1 =np.array(1)"
      ]
    },
    {
      "cell_type": "code",
      "execution_count": null,
      "metadata": {
        "colab": {
          "base_uri": "https://localhost:8080/"
        },
        "id": "bqHXOkCR7fN1",
        "outputId": "f173f637-4418-48c3-8c86-19995c55525f"
      },
      "outputs": [
        {
          "data": {
            "text/plain": [
              "1"
            ]
          },
          "execution_count": 62,
          "metadata": {},
          "output_type": "execute_result"
        }
      ],
      "source": [
        "len(array0)"
      ]
    },
    {
      "cell_type": "code",
      "execution_count": null,
      "metadata": {
        "id": "hDa0u4VDnS3E"
      },
      "outputs": [],
      "source": [
        "\n",
        "#df = pd.DataFrame(data=array0,  columns=[\"ID\", \"feature\", \"labels\"])\n",
        "#df = pd.DataFrame({'feature':array0 , 'labels': 1})\n",
        "\n",
        "for i in range(1,724):\n",
        "    #nexont 724\n",
        "  test_img = np.expand_dims(all[i], axis=0)\n",
        "  prefeature=features_layer1.predict(test_img)\n",
        "  row =np.array([prefeature[0]])\n",
        "  array0 = np.r_[array0,row]\n",
        "  row1 =np.array(1)\n",
        "  array1 = np.r_[array1,row1]\n",
        "  ###df.add(pd.DataFrame({'feature': [prefeature[0]], 'labels': 1}) , ignore_index=True)\n",
        "  #array0=np.append(array0,np.array([ prefeature[0], axis=0])) #i+1,, 1\n",
        "\n",
        "\n",
        "\n"
      ]
    },
    {
      "cell_type": "code",
      "execution_count": null,
      "metadata": {
        "colab": {
          "base_uri": "https://localhost:8080/"
        },
        "id": "I7HFFSt6nS3E",
        "outputId": "e402725b-8220-424e-e54f-68fa179530db"
      },
      "outputs": [
        {
          "data": {
            "text/plain": [
              "(724, 4096)"
            ]
          },
          "execution_count": 64,
          "metadata": {},
          "output_type": "execute_result"
        }
      ],
      "source": [
        "array0.shape"
      ]
    },
    {
      "cell_type": "code",
      "execution_count": null,
      "metadata": {
        "id": "S8lfUS1W6MII"
      },
      "outputs": [],
      "source": [
        "\n",
        "for i in range(724,2764):\n",
        "      #nexont 3169\n",
        "      test_img = np.expand_dims(all[i], axis=0)\n",
        "      prefeature=features_layer1.predict(test_img)\n",
        "      row =np.array([prefeature[0]])\n",
        "      array0 = np.r_[array0,row]\n",
        "      row1 =np.array(2)\n",
        "      array1 = np.r_[array1,row1]"
      ]
    },
    {
      "cell_type": "code",
      "execution_count": null,
      "metadata": {
        "colab": {
          "base_uri": "https://localhost:8080/"
        },
        "id": "lbojRwMr6O2e",
        "outputId": "a624608b-be94-473d-d44e-a0c7e36b0789"
      },
      "outputs": [
        {
          "data": {
            "text/plain": [
              "(2764, 4096)"
            ]
          },
          "execution_count": 66,
          "metadata": {},
          "output_type": "execute_result"
        }
      ],
      "source": [
        "array0.shape"
      ]
    },
    {
      "cell_type": "code",
      "execution_count": null,
      "metadata": {
        "id": "jzTBzcU1nS3E"
      },
      "outputs": [],
      "source": [
        "\n",
        "for i in range(2764,3032):\n",
        "  #llast  3976\n",
        "  test_img = np.expand_dims(all[i], axis=0)\n",
        "  prefeature=features_layer1.predict(test_img)\n",
        "  row =np.array([prefeature[0]])\n",
        "  array0 = np.r_[array0,row]\n",
        "  row1 =np.array(3)\n",
        "  array1 = np.r_[array1,row1]\n"
      ]
    },
    {
      "cell_type": "code",
      "execution_count": null,
      "metadata": {
        "colab": {
          "base_uri": "https://localhost:8080/"
        },
        "id": "owDNTRgB-OB6",
        "outputId": "ff93177b-2f33-4ce3-eec6-87d590e8506b"
      },
      "outputs": [
        {
          "data": {
            "text/plain": [
              "(3032, 4096)"
            ]
          },
          "execution_count": 68,
          "metadata": {},
          "output_type": "execute_result"
        }
      ],
      "source": [
        "array0.shape"
      ]
    },
    {
      "cell_type": "markdown",
      "metadata": {
        "id": "1Q8KoKPso1Ls"
      },
      "source": [
        "# **Test data** Save  Feature and labels"
      ]
    },
    {
      "cell_type": "code",
      "execution_count": null,
      "metadata": {
        "id": "W_gFb1Ywo1Lt"
      },
      "outputs": [],
      "source": [
        "import pickle\n",
        "\n",
        "pickle_out = open(\"/content/drive/MyDrive/files/testfeauter_array.pickle\",\"wb\")\n",
        "pickle.dump(array0, pickle_out)\n",
        "pickle_out.close()"
      ]
    },
    {
      "cell_type": "code",
      "execution_count": null,
      "metadata": {
        "id": "GhVPXhnFo1Lt"
      },
      "outputs": [],
      "source": [
        "import pickle\n",
        "\n",
        "pickle_out = open(\"/content/drive/MyDrive/files/testlabels_array.pickle\",\"wb\")\n",
        "pickle.dump(array1, pickle_out)\n",
        "pickle_out.close()"
      ]
    },
    {
      "cell_type": "markdown",
      "metadata": {
        "id": "csJ78cfOWSFn"
      },
      "source": [
        "# Save Feature and labels"
      ]
    },
    {
      "cell_type": "markdown",
      "source": [],
      "metadata": {
        "id": "zAV1sF7m8kQA"
      }
    },
    {
      "cell_type": "code",
      "execution_count": null,
      "metadata": {
        "id": "LUOTTV1laTPP"
      },
      "outputs": [],
      "source": [
        "import pickle\n",
        "\n",
        "pickle_out = open(\"/content/drive/MyDrive/files/trainfeauter_array.pickle\",\"wb\")\n",
        "pickle.dump(array0, pickle_out)\n",
        "pickle_out.close()"
      ]
    },
    {
      "cell_type": "code",
      "execution_count": null,
      "metadata": {
        "id": "NXeCNgVSafqx"
      },
      "outputs": [],
      "source": [
        "import pickle\n",
        "\n",
        "pickle_out = open(\"/content/drive/MyDrive/files/trainlabels_array.pickle\",\"wb\")\n",
        "pickle.dump(array1, pickle_out)\n",
        "pickle_out.close()"
      ]
    },
    {
      "cell_type": "code",
      "execution_count": null,
      "metadata": {
        "id": "VoRJCGx_WH4c"
      },
      "outputs": [],
      "source": [
        "import pandas as pd\n",
        "pd.DataFrame(array0).to_csv(\"/content/drive/MyDrive/files/feauter.csv\", header='Feature')\n",
        "pd.DataFrame(array1).to_csv(\"/content/drive/MyDrive/files/lables.csv\", header='Labels')"
      ]
    },
    {
      "cell_type": "code",
      "execution_count": null,
      "metadata": {
        "colab": {
          "base_uri": "https://localhost:8080/",
          "height": 317
        },
        "id": "6QffKjD_XRr2",
        "outputId": "c84aa5e5-a993-4a87-d88f-c5fda6c274e0"
      },
      "outputs": [
        {
          "data": {
            "text/html": [
              "\n",
              "  <div id=\"df-c0f543f6-a4f4-4f18-8a98-35a45102193c\">\n",
              "    <div class=\"colab-df-container\">\n",
              "      <div>\n",
              "<style scoped>\n",
              "    .dataframe tbody tr th:only-of-type {\n",
              "        vertical-align: middle;\n",
              "    }\n",
              "\n",
              "    .dataframe tbody tr th {\n",
              "        vertical-align: top;\n",
              "    }\n",
              "\n",
              "    .dataframe thead th {\n",
              "        text-align: right;\n",
              "    }\n",
              "</style>\n",
              "<table border=\"1\" class=\"dataframe\">\n",
              "  <thead>\n",
              "    <tr style=\"text-align: right;\">\n",
              "      <th></th>\n",
              "      <th>Unnamed: 0</th>\n",
              "      <th>0</th>\n",
              "      <th>1</th>\n",
              "      <th>2</th>\n",
              "      <th>3</th>\n",
              "      <th>4</th>\n",
              "      <th>5</th>\n",
              "      <th>6</th>\n",
              "      <th>7</th>\n",
              "      <th>8</th>\n",
              "      <th>...</th>\n",
              "      <th>4086</th>\n",
              "      <th>4087</th>\n",
              "      <th>4088</th>\n",
              "      <th>4089</th>\n",
              "      <th>4090</th>\n",
              "      <th>4091</th>\n",
              "      <th>4092</th>\n",
              "      <th>4093</th>\n",
              "      <th>4094</th>\n",
              "      <th>4095</th>\n",
              "    </tr>\n",
              "  </thead>\n",
              "  <tbody>\n",
              "    <tr>\n",
              "      <th>0</th>\n",
              "      <td>0</td>\n",
              "      <td>0.0</td>\n",
              "      <td>0.008261</td>\n",
              "      <td>0.0</td>\n",
              "      <td>0.0</td>\n",
              "      <td>0.000000</td>\n",
              "      <td>0.0</td>\n",
              "      <td>0.235602</td>\n",
              "      <td>0.119784</td>\n",
              "      <td>0.0</td>\n",
              "      <td>...</td>\n",
              "      <td>0.000000</td>\n",
              "      <td>0.000000</td>\n",
              "      <td>0.000000</td>\n",
              "      <td>0.086756</td>\n",
              "      <td>0.0</td>\n",
              "      <td>0.034021</td>\n",
              "      <td>0.00000</td>\n",
              "      <td>0.000000</td>\n",
              "      <td>0.402094</td>\n",
              "      <td>0.000000</td>\n",
              "    </tr>\n",
              "    <tr>\n",
              "      <th>1</th>\n",
              "      <td>1</td>\n",
              "      <td>0.0</td>\n",
              "      <td>0.000000</td>\n",
              "      <td>0.0</td>\n",
              "      <td>0.0</td>\n",
              "      <td>0.000000</td>\n",
              "      <td>0.0</td>\n",
              "      <td>0.279112</td>\n",
              "      <td>0.150126</td>\n",
              "      <td>0.0</td>\n",
              "      <td>...</td>\n",
              "      <td>0.219835</td>\n",
              "      <td>0.039550</td>\n",
              "      <td>0.000000</td>\n",
              "      <td>0.212909</td>\n",
              "      <td>0.0</td>\n",
              "      <td>0.356544</td>\n",
              "      <td>0.08145</td>\n",
              "      <td>0.027101</td>\n",
              "      <td>0.000000</td>\n",
              "      <td>0.000000</td>\n",
              "    </tr>\n",
              "    <tr>\n",
              "      <th>2</th>\n",
              "      <td>2</td>\n",
              "      <td>0.0</td>\n",
              "      <td>0.141797</td>\n",
              "      <td>0.0</td>\n",
              "      <td>0.0</td>\n",
              "      <td>0.056999</td>\n",
              "      <td>0.0</td>\n",
              "      <td>0.143753</td>\n",
              "      <td>0.177910</td>\n",
              "      <td>0.0</td>\n",
              "      <td>...</td>\n",
              "      <td>0.147630</td>\n",
              "      <td>0.157042</td>\n",
              "      <td>0.000000</td>\n",
              "      <td>0.606733</td>\n",
              "      <td>0.0</td>\n",
              "      <td>0.000000</td>\n",
              "      <td>0.00000</td>\n",
              "      <td>0.535477</td>\n",
              "      <td>0.448139</td>\n",
              "      <td>0.000000</td>\n",
              "    </tr>\n",
              "    <tr>\n",
              "      <th>3</th>\n",
              "      <td>3</td>\n",
              "      <td>0.0</td>\n",
              "      <td>0.000000</td>\n",
              "      <td>0.0</td>\n",
              "      <td>0.0</td>\n",
              "      <td>0.000000</td>\n",
              "      <td>0.0</td>\n",
              "      <td>0.085475</td>\n",
              "      <td>0.076063</td>\n",
              "      <td>0.0</td>\n",
              "      <td>...</td>\n",
              "      <td>0.000000</td>\n",
              "      <td>0.023312</td>\n",
              "      <td>0.037424</td>\n",
              "      <td>0.000000</td>\n",
              "      <td>0.0</td>\n",
              "      <td>0.678946</td>\n",
              "      <td>0.00000</td>\n",
              "      <td>0.000000</td>\n",
              "      <td>0.000000</td>\n",
              "      <td>0.231701</td>\n",
              "    </tr>\n",
              "    <tr>\n",
              "      <th>4</th>\n",
              "      <td>4</td>\n",
              "      <td>0.0</td>\n",
              "      <td>0.000000</td>\n",
              "      <td>0.0</td>\n",
              "      <td>0.0</td>\n",
              "      <td>0.000000</td>\n",
              "      <td>0.0</td>\n",
              "      <td>0.556305</td>\n",
              "      <td>0.279854</td>\n",
              "      <td>0.0</td>\n",
              "      <td>...</td>\n",
              "      <td>0.248792</td>\n",
              "      <td>0.079395</td>\n",
              "      <td>0.189374</td>\n",
              "      <td>0.016604</td>\n",
              "      <td>0.0</td>\n",
              "      <td>0.137813</td>\n",
              "      <td>0.00000</td>\n",
              "      <td>0.129651</td>\n",
              "      <td>0.000000</td>\n",
              "      <td>0.000000</td>\n",
              "    </tr>\n",
              "  </tbody>\n",
              "</table>\n",
              "<p>5 rows × 4097 columns</p>\n",
              "</div>\n",
              "      <button class=\"colab-df-convert\" onclick=\"convertToInteractive('df-c0f543f6-a4f4-4f18-8a98-35a45102193c')\"\n",
              "              title=\"Convert this dataframe to an interactive table.\"\n",
              "              style=\"display:none;\">\n",
              "        \n",
              "  <svg xmlns=\"http://www.w3.org/2000/svg\" height=\"24px\"viewBox=\"0 0 24 24\"\n",
              "       width=\"24px\">\n",
              "    <path d=\"M0 0h24v24H0V0z\" fill=\"none\"/>\n",
              "    <path d=\"M18.56 5.44l.94 2.06.94-2.06 2.06-.94-2.06-.94-.94-2.06-.94 2.06-2.06.94zm-11 1L8.5 8.5l.94-2.06 2.06-.94-2.06-.94L8.5 2.5l-.94 2.06-2.06.94zm10 10l.94 2.06.94-2.06 2.06-.94-2.06-.94-.94-2.06-.94 2.06-2.06.94z\"/><path d=\"M17.41 7.96l-1.37-1.37c-.4-.4-.92-.59-1.43-.59-.52 0-1.04.2-1.43.59L10.3 9.45l-7.72 7.72c-.78.78-.78 2.05 0 2.83L4 21.41c.39.39.9.59 1.41.59.51 0 1.02-.2 1.41-.59l7.78-7.78 2.81-2.81c.8-.78.8-2.07 0-2.86zM5.41 20L4 18.59l7.72-7.72 1.47 1.35L5.41 20z\"/>\n",
              "  </svg>\n",
              "      </button>\n",
              "      \n",
              "  <style>\n",
              "    .colab-df-container {\n",
              "      display:flex;\n",
              "      flex-wrap:wrap;\n",
              "      gap: 12px;\n",
              "    }\n",
              "\n",
              "    .colab-df-convert {\n",
              "      background-color: #E8F0FE;\n",
              "      border: none;\n",
              "      border-radius: 50%;\n",
              "      cursor: pointer;\n",
              "      display: none;\n",
              "      fill: #1967D2;\n",
              "      height: 32px;\n",
              "      padding: 0 0 0 0;\n",
              "      width: 32px;\n",
              "    }\n",
              "\n",
              "    .colab-df-convert:hover {\n",
              "      background-color: #E2EBFA;\n",
              "      box-shadow: 0px 1px 2px rgba(60, 64, 67, 0.3), 0px 1px 3px 1px rgba(60, 64, 67, 0.15);\n",
              "      fill: #174EA6;\n",
              "    }\n",
              "\n",
              "    [theme=dark] .colab-df-convert {\n",
              "      background-color: #3B4455;\n",
              "      fill: #D2E3FC;\n",
              "    }\n",
              "\n",
              "    [theme=dark] .colab-df-convert:hover {\n",
              "      background-color: #434B5C;\n",
              "      box-shadow: 0px 1px 3px 1px rgba(0, 0, 0, 0.15);\n",
              "      filter: drop-shadow(0px 1px 2px rgba(0, 0, 0, 0.3));\n",
              "      fill: #FFFFFF;\n",
              "    }\n",
              "  </style>\n",
              "\n",
              "      <script>\n",
              "        const buttonEl =\n",
              "          document.querySelector('#df-c0f543f6-a4f4-4f18-8a98-35a45102193c button.colab-df-convert');\n",
              "        buttonEl.style.display =\n",
              "          google.colab.kernel.accessAllowed ? 'block' : 'none';\n",
              "\n",
              "        async function convertToInteractive(key) {\n",
              "          const element = document.querySelector('#df-c0f543f6-a4f4-4f18-8a98-35a45102193c');\n",
              "          const dataTable =\n",
              "            await google.colab.kernel.invokeFunction('convertToInteractive',\n",
              "                                                     [key], {});\n",
              "          if (!dataTable) return;\n",
              "\n",
              "          const docLinkHtml = 'Like what you see? Visit the ' +\n",
              "            '<a target=\"_blank\" href=https://colab.research.google.com/notebooks/data_table.ipynb>data table notebook</a>'\n",
              "            + ' to learn more about interactive tables.';\n",
              "          element.innerHTML = '';\n",
              "          dataTable['output_type'] = 'display_data';\n",
              "          await google.colab.output.renderOutput(dataTable, element);\n",
              "          const docLink = document.createElement('div');\n",
              "          docLink.innerHTML = docLinkHtml;\n",
              "          element.appendChild(docLink);\n",
              "        }\n",
              "      </script>\n",
              "    </div>\n",
              "  </div>\n",
              "  "
            ],
            "text/plain": [
              "   Unnamed: 0    0         1    2    3         4    5         6         7  \\\n",
              "0           0  0.0  0.008261  0.0  0.0  0.000000  0.0  0.235602  0.119784   \n",
              "1           1  0.0  0.000000  0.0  0.0  0.000000  0.0  0.279112  0.150126   \n",
              "2           2  0.0  0.141797  0.0  0.0  0.056999  0.0  0.143753  0.177910   \n",
              "3           3  0.0  0.000000  0.0  0.0  0.000000  0.0  0.085475  0.076063   \n",
              "4           4  0.0  0.000000  0.0  0.0  0.000000  0.0  0.556305  0.279854   \n",
              "\n",
              "     8  ...      4086      4087      4088      4089  4090      4091     4092  \\\n",
              "0  0.0  ...  0.000000  0.000000  0.000000  0.086756   0.0  0.034021  0.00000   \n",
              "1  0.0  ...  0.219835  0.039550  0.000000  0.212909   0.0  0.356544  0.08145   \n",
              "2  0.0  ...  0.147630  0.157042  0.000000  0.606733   0.0  0.000000  0.00000   \n",
              "3  0.0  ...  0.000000  0.023312  0.037424  0.000000   0.0  0.678946  0.00000   \n",
              "4  0.0  ...  0.248792  0.079395  0.189374  0.016604   0.0  0.137813  0.00000   \n",
              "\n",
              "       4093      4094      4095  \n",
              "0  0.000000  0.402094  0.000000  \n",
              "1  0.027101  0.000000  0.000000  \n",
              "2  0.535477  0.448139  0.000000  \n",
              "3  0.000000  0.000000  0.231701  \n",
              "4  0.129651  0.000000  0.000000  \n",
              "\n",
              "[5 rows x 4097 columns]"
            ]
          },
          "execution_count": 15,
          "metadata": {},
          "output_type": "execute_result"
        }
      ],
      "source": [
        "import pandas as pd\n",
        "data = pd.read_csv(\"/content/drive/MyDrive/files/feauter.csv\")\n",
        "# Preview the first 5 lines of the loaded data\n",
        "data.head()"
      ]
    },
    {
      "cell_type": "markdown",
      "metadata": {
        "id": "jwf7ryFpqr86"
      },
      "source": [
        "# Reload **train** Feature and labels"
      ]
    },
    {
      "cell_type": "markdown",
      "metadata": {
        "id": "GkCQaNBDwAZk"
      },
      "source": [
        "\n",
        "\n",
        "> # old train\n",
        "\n"
      ]
    },
    {
      "cell_type": "code",
      "execution_count": null,
      "metadata": {
        "id": "QE0BVlhyrFk2"
      },
      "outputs": [],
      "source": [
        "import pickle\n",
        "pickle_in = open(\"/content/drive/MyDrive/files/feauter_array.pickle\",\"rb\")\n",
        "feauter_array= pickle.load(pickle_in)"
      ]
    },
    {
      "cell_type": "code",
      "execution_count": null,
      "metadata": {
        "id": "ra2k0fklq7sJ"
      },
      "outputs": [],
      "source": [
        "\n",
        "import pickle\n",
        "pickle_in = open(\"/content/drive/MyDrive/files/labels_array.pickle\",\"rb\")\n",
        "labels_array= pickle.load(pickle_in)"
      ]
    },
    {
      "cell_type": "code",
      "execution_count": null,
      "metadata": {
        "colab": {
          "base_uri": "https://localhost:8080/"
        },
        "id": "dNQaxnykNJiQ",
        "outputId": "e982290c-0598-4d4d-e700-ac800b569d01"
      },
      "outputs": [
        {
          "data": {
            "text/plain": [
              "3973"
            ]
          },
          "execution_count": 4,
          "metadata": {},
          "output_type": "execute_result"
        }
      ],
      "source": [
        "len(feauter_array)"
      ]
    },
    {
      "cell_type": "markdown",
      "metadata": {
        "id": "k9MmLYf_wJAI"
      },
      "source": [
        "> # new train\n"
      ]
    },
    {
      "cell_type": "code",
      "execution_count": null,
      "metadata": {
        "id": "lXKeA-GWrSBi"
      },
      "outputs": [],
      "source": [
        "#/content/drive/MyDrive/files/feauter_array.pickle\n",
        "#/content/drive/MyDrive/files/labels_array.pickle"
      ]
    },
    {
      "cell_type": "code",
      "execution_count": null,
      "metadata": {
        "id": "R8NcTlkeuTqH"
      },
      "outputs": [],
      "source": [
        "import pickle\n",
        "pickle_in = open(\"/content/drive/MyDrive/files/trainfeauter_array.pickle\",\"rb\")\n",
        "arraytrainf= pickle.load(pickle_in)"
      ]
    },
    {
      "cell_type": "code",
      "execution_count": null,
      "metadata": {
        "colab": {
          "base_uri": "https://localhost:8080/"
        },
        "id": "7upJ6J4QuX93",
        "outputId": "ba3b8093-50a8-480c-814f-70af82e9c535"
      },
      "outputs": [
        {
          "output_type": "execute_result",
          "data": {
            "text/plain": [
              "9091"
            ]
          },
          "metadata": {},
          "execution_count": 3
        }
      ],
      "source": [
        "len(arraytrainf)"
      ]
    },
    {
      "cell_type": "code",
      "execution_count": null,
      "metadata": {
        "id": "bmotxwckuTqI"
      },
      "outputs": [],
      "source": [
        "\n",
        "import pickle\n",
        "pickle_in = open(\"/content/drive/MyDrive/files/trainlabels_array.pickle\",\"rb\")\n",
        "arraytrainl= pickle.load(pickle_in)"
      ]
    },
    {
      "cell_type": "code",
      "execution_count": null,
      "metadata": {
        "colab": {
          "base_uri": "https://localhost:8080/"
        },
        "id": "uXUWmxPtu3fh",
        "outputId": "b4121d9c-c77c-454d-cb2b-d68c34cff76f"
      },
      "outputs": [
        {
          "output_type": "execute_result",
          "data": {
            "text/plain": [
              "9091"
            ]
          },
          "metadata": {},
          "execution_count": 5
        }
      ],
      "source": [
        "len(arraytrainl)"
      ]
    },
    {
      "cell_type": "markdown",
      "metadata": {
        "id": "3ljoXbXOlepF"
      },
      "source": [
        "# Reload Test  Feature and labels"
      ]
    },
    {
      "cell_type": "code",
      "execution_count": null,
      "metadata": {
        "id": "9ZqvbU3tlVFH"
      },
      "outputs": [],
      "source": [
        "import pickle\n",
        "pickle_in = open(\"/content/drive/MyDrive/files/testfeauter_array.pickle\",\"rb\")\n",
        "feauter_array= pickle.load(pickle_in)"
      ]
    },
    {
      "cell_type": "code",
      "execution_count": null,
      "metadata": {
        "colab": {
          "base_uri": "https://localhost:8080/"
        },
        "id": "WL7bc3DgNZ8-",
        "outputId": "ffe6fca5-26d2-4f5a-94f1-010240f69f40"
      },
      "outputs": [
        {
          "output_type": "execute_result",
          "data": {
            "text/plain": [
              "3032"
            ]
          },
          "metadata": {},
          "execution_count": 7
        }
      ],
      "source": [
        "len(feauter_array)"
      ]
    },
    {
      "cell_type": "code",
      "execution_count": null,
      "metadata": {
        "id": "1PBK_LN9lVFH"
      },
      "outputs": [],
      "source": [
        "\n",
        "import pickle\n",
        "pickle_in = open(\"/content/drive/MyDrive/files/testlabels_array.pickle\",\"rb\")\n",
        "labels_array= pickle.load(pickle_in)"
      ]
    },
    {
      "cell_type": "markdown",
      "metadata": {
        "id": "U3k8qrvsUn68"
      },
      "source": [
        "# Split dataset into training set and test set"
      ]
    },
    {
      "cell_type": "code",
      "execution_count": null,
      "metadata": {
        "id": "6bJfnYk5HqSR"
      },
      "outputs": [],
      "source": [
        "# Import train_test_split function\n",
        "from sklearn.model_selection import train_test_split\n",
        "\n",
        "# Split dataset into training set and test set\n",
        "X_train1, X_test1, y_train1, y_test1 = train_test_split(array0,array1, test_size=0.3,random_state=109) # 70% training and 30% test"
      ]
    },
    {
      "cell_type": "code",
      "execution_count": null,
      "metadata": {
        "id": "opAetl1Crmeq"
      },
      "outputs": [],
      "source": [
        "# Import train_test_split function\n",
        "from sklearn.model_selection import train_test_split\n",
        "\n",
        "# Split dataset into training set and test set\n",
        "X_train1, X_test1, y_train1, y_test1 = train_test_split(feauter_array,labels_array, test_size=0.3,random_state=109) # 70% training and 30% test"
      ]
    },
    {
      "cell_type": "markdown",
      "metadata": {
        "id": "JBxjjqtgUrN3"
      },
      "source": [
        "# Build SVM"
      ]
    },
    {
      "cell_type": "code",
      "execution_count": null,
      "metadata": {
        "id": "QtbdZfJRHqSR"
      },
      "outputs": [],
      "source": [
        "from sklearn.svm import SVC,LinearSVC\n",
        "classifierlinar =SVC(kernel='linear', probability=True)\n",
        "#LinearSVC(),decision_function_shape='ovo'\n",
        "\n",
        "\n"
      ]
    },
    {
      "cell_type": "code",
      "source": [
        "classifierlinar.fit(arraytrainf,arraytrainl)"
      ],
      "metadata": {
        "id": "EtSOcdu0OApS"
      },
      "execution_count": null,
      "outputs": []
    },
    {
      "cell_type": "code",
      "execution_count": null,
      "metadata": {
        "colab": {
          "base_uri": "https://localhost:8080/"
        },
        "id": "dqbQSjrfjaT4",
        "outputId": "35bcbbc9-f43a-4946-e6c6-dcc8f9a26f90"
      },
      "outputs": [
        {
          "output_type": "stream",
          "name": "stdout",
          "text": [
            "Training time: 248.47068333625793s\n"
          ]
        }
      ],
      "source": [
        "import time\n",
        "start = time.time()\n",
        "classifierlinar.fit(arraytrainf,arraytrainl)\n",
        "stop = time.time()\n",
        "print(f\"Training time: {stop - start}s\")"
      ]
    },
    {
      "cell_type": "code",
      "source": [
        "from sklearn.model_selection import train_test_split\n",
        "from sklearn.preprocessing import StandardScaler\n",
        "from sklearn.pipeline import make_pipeline\n",
        "from sklearn.linear_model import LogisticRegression\n",
        "from sklearn.model_selection import learning_curve\n",
        "from sklearn import datasets\n",
        "import matplotlib.pyplot as plt\n",
        "from sklearn.svm import SVC\n",
        "import numpy as np\n",
        "from sklearn.ensemble import RandomForestClassifier\n",
        "from sklearn.model_selection import validation_curve\n",
        "\n",
        "#\n",
        "# Create training and test split\n",
        "#\n",
        "X_train,y_train =arraytrainf,arraytrainl\n",
        "X_test, y_test = feauter_array,labels_array\n",
        "#\n",
        "# Create a pipeline; This will be passed as an estimator to learning curve method\n",
        "#\n",
        "\n",
        "\n",
        "param_range = np.arange(1, 250, 2)\n",
        "\n",
        "train_scores, test_scores = validation_curve(RandomForestClassifier(),\n",
        "                                  X_train, y_train, param_name=\"n_estimators\", param_range=param_range,\n",
        "                                  cv=4, scoring=\"accuracy\", n_jobs=-1)\n",
        "# Use learning curve to get training and test scores along with train sizes\n",
        "#\n",
        "\n",
        "#\n",
        "# Calculate training and test mean and std\n",
        "#\n",
        "train_mean = np.mean(train_scores, axis=1)\n",
        "train_std = np.std(train_scores, axis=1)\n",
        "test_mean = np.mean(test_scores, axis=1)\n",
        "test_std = np.std(test_scores, axis=1)\n",
        "#\n",
        "# Plot the learning curve\n",
        "#\n",
        "plt.subplots(1, figsize=(7,7))\n",
        "plt.plot(param_range, train_mean, label=\"Training score\", color=\"black\")\n",
        "plt.plot(param_range, test_mean, label=\"Cross-validation score\", color=\"dimgrey\")\n",
        "\n",
        "plt.fill_between(param_range, train_mean - train_std, train_mean + train_std, color=\"gray\")\n",
        "plt.fill_between(param_range, test_mean - test_std, test_mean + test_std, color=\"gainsboro\")\n",
        "\n",
        "plt.title(\"Validation Curve With Random Forest\")\n",
        "plt.xlabel(\"Number Of Trees\")\n",
        "plt.ylabel(\"Accuracy Score\")\n",
        "plt.tight_layout()\n",
        "plt.legend(loc=\"best\")\n",
        "plt.show()"
      ],
      "metadata": {
        "colab": {
          "base_uri": "https://localhost:8080/",
          "height": 381
        },
        "id": "1UiSEaDBNBH4",
        "outputId": "fe725ce3-66a8-442c-e235-625f22b52ec0"
      },
      "execution_count": null,
      "outputs": [
        {
          "output_type": "error",
          "ename": "KeyboardInterrupt",
          "evalue": "ignored",
          "traceback": [
            "\u001b[0;31m---------------------------------------------------------------------------\u001b[0m",
            "\u001b[0;31mKeyboardInterrupt\u001b[0m                         Traceback (most recent call last)",
            "\u001b[0;32m<ipython-input-19-1a8bd0edb233>\u001b[0m in \u001b[0;36m<module>\u001b[0;34m()\u001b[0m\n\u001b[1;32m     25\u001b[0m train_scores, test_scores = validation_curve(RandomForestClassifier(),\n\u001b[1;32m     26\u001b[0m                                   \u001b[0mX_train\u001b[0m\u001b[0;34m,\u001b[0m \u001b[0my_train\u001b[0m\u001b[0;34m,\u001b[0m \u001b[0mparam_name\u001b[0m\u001b[0;34m=\u001b[0m\u001b[0;34m\"n_estimators\"\u001b[0m\u001b[0;34m,\u001b[0m \u001b[0mparam_range\u001b[0m\u001b[0;34m=\u001b[0m\u001b[0mparam_range\u001b[0m\u001b[0;34m,\u001b[0m\u001b[0;34m\u001b[0m\u001b[0;34m\u001b[0m\u001b[0m\n\u001b[0;32m---> 27\u001b[0;31m                                   cv=4, scoring=\"accuracy\", n_jobs=-1)\n\u001b[0m\u001b[1;32m     28\u001b[0m \u001b[0;31m# Use learning curve to get training and test scores along with train sizes\u001b[0m\u001b[0;34m\u001b[0m\u001b[0;34m\u001b[0m\u001b[0;34m\u001b[0m\u001b[0m\n\u001b[1;32m     29\u001b[0m \u001b[0;31m#\u001b[0m\u001b[0;34m\u001b[0m\u001b[0;34m\u001b[0m\u001b[0;34m\u001b[0m\u001b[0m\n",
            "\u001b[0;32m/usr/local/lib/python3.7/dist-packages/sklearn/model_selection/_validation.py\u001b[0m in \u001b[0;36mvalidation_curve\u001b[0;34m(estimator, X, y, param_name, param_range, groups, cv, scoring, n_jobs, pre_dispatch, verbose, error_score, fit_params)\u001b[0m\n\u001b[1;32m   1843\u001b[0m         )\n\u001b[1;32m   1844\u001b[0m         \u001b[0;31m# NOTE do not change order of iteration to allow one time cv splitters\u001b[0m\u001b[0;34m\u001b[0m\u001b[0;34m\u001b[0m\u001b[0;34m\u001b[0m\u001b[0m\n\u001b[0;32m-> 1845\u001b[0;31m         \u001b[0;32mfor\u001b[0m \u001b[0mtrain\u001b[0m\u001b[0;34m,\u001b[0m \u001b[0mtest\u001b[0m \u001b[0;32min\u001b[0m \u001b[0mcv\u001b[0m\u001b[0;34m.\u001b[0m\u001b[0msplit\u001b[0m\u001b[0;34m(\u001b[0m\u001b[0mX\u001b[0m\u001b[0;34m,\u001b[0m \u001b[0my\u001b[0m\u001b[0;34m,\u001b[0m \u001b[0mgroups\u001b[0m\u001b[0;34m)\u001b[0m\u001b[0;34m\u001b[0m\u001b[0;34m\u001b[0m\u001b[0m\n\u001b[0m\u001b[1;32m   1846\u001b[0m         \u001b[0;32mfor\u001b[0m \u001b[0mv\u001b[0m \u001b[0;32min\u001b[0m \u001b[0mparam_range\u001b[0m\u001b[0;34m\u001b[0m\u001b[0;34m\u001b[0m\u001b[0m\n\u001b[1;32m   1847\u001b[0m     )\n",
            "\u001b[0;32m/usr/local/lib/python3.7/dist-packages/joblib/parallel.py\u001b[0m in \u001b[0;36m__call__\u001b[0;34m(self, iterable)\u001b[0m\n\u001b[1;32m   1054\u001b[0m \u001b[0;34m\u001b[0m\u001b[0m\n\u001b[1;32m   1055\u001b[0m             \u001b[0;32mwith\u001b[0m \u001b[0mself\u001b[0m\u001b[0;34m.\u001b[0m\u001b[0m_backend\u001b[0m\u001b[0;34m.\u001b[0m\u001b[0mretrieval_context\u001b[0m\u001b[0;34m(\u001b[0m\u001b[0;34m)\u001b[0m\u001b[0;34m:\u001b[0m\u001b[0;34m\u001b[0m\u001b[0;34m\u001b[0m\u001b[0m\n\u001b[0;32m-> 1056\u001b[0;31m                 \u001b[0mself\u001b[0m\u001b[0;34m.\u001b[0m\u001b[0mretrieve\u001b[0m\u001b[0;34m(\u001b[0m\u001b[0;34m)\u001b[0m\u001b[0;34m\u001b[0m\u001b[0;34m\u001b[0m\u001b[0m\n\u001b[0m\u001b[1;32m   1057\u001b[0m             \u001b[0;31m# Make sure that we get a last message telling us we are done\u001b[0m\u001b[0;34m\u001b[0m\u001b[0;34m\u001b[0m\u001b[0;34m\u001b[0m\u001b[0m\n\u001b[1;32m   1058\u001b[0m             \u001b[0melapsed_time\u001b[0m \u001b[0;34m=\u001b[0m \u001b[0mtime\u001b[0m\u001b[0;34m.\u001b[0m\u001b[0mtime\u001b[0m\u001b[0;34m(\u001b[0m\u001b[0;34m)\u001b[0m \u001b[0;34m-\u001b[0m \u001b[0mself\u001b[0m\u001b[0;34m.\u001b[0m\u001b[0m_start_time\u001b[0m\u001b[0;34m\u001b[0m\u001b[0;34m\u001b[0m\u001b[0m\n",
            "\u001b[0;32m/usr/local/lib/python3.7/dist-packages/joblib/parallel.py\u001b[0m in \u001b[0;36mretrieve\u001b[0;34m(self)\u001b[0m\n\u001b[1;32m    933\u001b[0m             \u001b[0;32mtry\u001b[0m\u001b[0;34m:\u001b[0m\u001b[0;34m\u001b[0m\u001b[0;34m\u001b[0m\u001b[0m\n\u001b[1;32m    934\u001b[0m                 \u001b[0;32mif\u001b[0m \u001b[0mgetattr\u001b[0m\u001b[0;34m(\u001b[0m\u001b[0mself\u001b[0m\u001b[0;34m.\u001b[0m\u001b[0m_backend\u001b[0m\u001b[0;34m,\u001b[0m \u001b[0;34m'supports_timeout'\u001b[0m\u001b[0;34m,\u001b[0m \u001b[0;32mFalse\u001b[0m\u001b[0;34m)\u001b[0m\u001b[0;34m:\u001b[0m\u001b[0;34m\u001b[0m\u001b[0;34m\u001b[0m\u001b[0m\n\u001b[0;32m--> 935\u001b[0;31m                     \u001b[0mself\u001b[0m\u001b[0;34m.\u001b[0m\u001b[0m_output\u001b[0m\u001b[0;34m.\u001b[0m\u001b[0mextend\u001b[0m\u001b[0;34m(\u001b[0m\u001b[0mjob\u001b[0m\u001b[0;34m.\u001b[0m\u001b[0mget\u001b[0m\u001b[0;34m(\u001b[0m\u001b[0mtimeout\u001b[0m\u001b[0;34m=\u001b[0m\u001b[0mself\u001b[0m\u001b[0;34m.\u001b[0m\u001b[0mtimeout\u001b[0m\u001b[0;34m)\u001b[0m\u001b[0;34m)\u001b[0m\u001b[0;34m\u001b[0m\u001b[0;34m\u001b[0m\u001b[0m\n\u001b[0m\u001b[1;32m    936\u001b[0m                 \u001b[0;32melse\u001b[0m\u001b[0;34m:\u001b[0m\u001b[0;34m\u001b[0m\u001b[0;34m\u001b[0m\u001b[0m\n\u001b[1;32m    937\u001b[0m                     \u001b[0mself\u001b[0m\u001b[0;34m.\u001b[0m\u001b[0m_output\u001b[0m\u001b[0;34m.\u001b[0m\u001b[0mextend\u001b[0m\u001b[0;34m(\u001b[0m\u001b[0mjob\u001b[0m\u001b[0;34m.\u001b[0m\u001b[0mget\u001b[0m\u001b[0;34m(\u001b[0m\u001b[0;34m)\u001b[0m\u001b[0;34m)\u001b[0m\u001b[0;34m\u001b[0m\u001b[0;34m\u001b[0m\u001b[0m\n",
            "\u001b[0;32m/usr/local/lib/python3.7/dist-packages/joblib/_parallel_backends.py\u001b[0m in \u001b[0;36mwrap_future_result\u001b[0;34m(future, timeout)\u001b[0m\n\u001b[1;32m    540\u001b[0m         AsyncResults.get from multiprocessing.\"\"\"\n\u001b[1;32m    541\u001b[0m         \u001b[0;32mtry\u001b[0m\u001b[0;34m:\u001b[0m\u001b[0;34m\u001b[0m\u001b[0;34m\u001b[0m\u001b[0m\n\u001b[0;32m--> 542\u001b[0;31m             \u001b[0;32mreturn\u001b[0m \u001b[0mfuture\u001b[0m\u001b[0;34m.\u001b[0m\u001b[0mresult\u001b[0m\u001b[0;34m(\u001b[0m\u001b[0mtimeout\u001b[0m\u001b[0;34m=\u001b[0m\u001b[0mtimeout\u001b[0m\u001b[0;34m)\u001b[0m\u001b[0;34m\u001b[0m\u001b[0;34m\u001b[0m\u001b[0m\n\u001b[0m\u001b[1;32m    543\u001b[0m         \u001b[0;32mexcept\u001b[0m \u001b[0mCfTimeoutError\u001b[0m \u001b[0;32mas\u001b[0m \u001b[0me\u001b[0m\u001b[0;34m:\u001b[0m\u001b[0;34m\u001b[0m\u001b[0;34m\u001b[0m\u001b[0m\n\u001b[1;32m    544\u001b[0m             \u001b[0;32mraise\u001b[0m \u001b[0mTimeoutError\u001b[0m \u001b[0;32mfrom\u001b[0m \u001b[0me\u001b[0m\u001b[0;34m\u001b[0m\u001b[0;34m\u001b[0m\u001b[0m\n",
            "\u001b[0;32m/usr/lib/python3.7/concurrent/futures/_base.py\u001b[0m in \u001b[0;36mresult\u001b[0;34m(self, timeout)\u001b[0m\n\u001b[1;32m    428\u001b[0m                 \u001b[0;32mreturn\u001b[0m \u001b[0mself\u001b[0m\u001b[0;34m.\u001b[0m\u001b[0m__get_result\u001b[0m\u001b[0;34m(\u001b[0m\u001b[0;34m)\u001b[0m\u001b[0;34m\u001b[0m\u001b[0;34m\u001b[0m\u001b[0m\n\u001b[1;32m    429\u001b[0m \u001b[0;34m\u001b[0m\u001b[0m\n\u001b[0;32m--> 430\u001b[0;31m             \u001b[0mself\u001b[0m\u001b[0;34m.\u001b[0m\u001b[0m_condition\u001b[0m\u001b[0;34m.\u001b[0m\u001b[0mwait\u001b[0m\u001b[0;34m(\u001b[0m\u001b[0mtimeout\u001b[0m\u001b[0;34m)\u001b[0m\u001b[0;34m\u001b[0m\u001b[0;34m\u001b[0m\u001b[0m\n\u001b[0m\u001b[1;32m    431\u001b[0m \u001b[0;34m\u001b[0m\u001b[0m\n\u001b[1;32m    432\u001b[0m             \u001b[0;32mif\u001b[0m \u001b[0mself\u001b[0m\u001b[0;34m.\u001b[0m\u001b[0m_state\u001b[0m \u001b[0;32min\u001b[0m \u001b[0;34m[\u001b[0m\u001b[0mCANCELLED\u001b[0m\u001b[0;34m,\u001b[0m \u001b[0mCANCELLED_AND_NOTIFIED\u001b[0m\u001b[0;34m]\u001b[0m\u001b[0;34m:\u001b[0m\u001b[0;34m\u001b[0m\u001b[0;34m\u001b[0m\u001b[0m\n",
            "\u001b[0;32m/usr/lib/python3.7/threading.py\u001b[0m in \u001b[0;36mwait\u001b[0;34m(self, timeout)\u001b[0m\n\u001b[1;32m    294\u001b[0m         \u001b[0;32mtry\u001b[0m\u001b[0;34m:\u001b[0m    \u001b[0;31m# restore state no matter what (e.g., KeyboardInterrupt)\u001b[0m\u001b[0;34m\u001b[0m\u001b[0;34m\u001b[0m\u001b[0m\n\u001b[1;32m    295\u001b[0m             \u001b[0;32mif\u001b[0m \u001b[0mtimeout\u001b[0m \u001b[0;32mis\u001b[0m \u001b[0;32mNone\u001b[0m\u001b[0;34m:\u001b[0m\u001b[0;34m\u001b[0m\u001b[0;34m\u001b[0m\u001b[0m\n\u001b[0;32m--> 296\u001b[0;31m                 \u001b[0mwaiter\u001b[0m\u001b[0;34m.\u001b[0m\u001b[0macquire\u001b[0m\u001b[0;34m(\u001b[0m\u001b[0;34m)\u001b[0m\u001b[0;34m\u001b[0m\u001b[0;34m\u001b[0m\u001b[0m\n\u001b[0m\u001b[1;32m    297\u001b[0m                 \u001b[0mgotit\u001b[0m \u001b[0;34m=\u001b[0m \u001b[0;32mTrue\u001b[0m\u001b[0;34m\u001b[0m\u001b[0;34m\u001b[0m\u001b[0m\n\u001b[1;32m    298\u001b[0m             \u001b[0;32melse\u001b[0m\u001b[0;34m:\u001b[0m\u001b[0;34m\u001b[0m\u001b[0;34m\u001b[0m\u001b[0m\n",
            "\u001b[0;31mKeyboardInterrupt\u001b[0m: "
          ]
        }
      ]
    },
    {
      "cell_type": "code",
      "source": [
        "from sklearn.svm import SVC\n",
        "\n",
        "from yellowbrick.model_selection import learning_curve\n",
        "\n",
        "\n",
        "X ,y = arraytrainf,arraytrainl\n",
        "\n",
        "svm  =SVC(kernel='linear', probability=True)"
      ],
      "metadata": {
        "id": "5BIq_0V5NI9x"
      },
      "execution_count": null,
      "outputs": []
    },
    {
      "cell_type": "code",
      "execution_count": null,
      "metadata": {
        "id": "rcWRVrGAipxF"
      },
      "outputs": [],
      "source": [
        "plt.plot(history.history[\"loss\"], label=\"Training Loss\")\n",
        "plt.plot(history.history[\"val_loss\"], label=\"Validation Loss\")\n",
        "plt.legend()\n",
        "plt.show()"
      ]
    },
    {
      "cell_type": "code",
      "execution_count": null,
      "metadata": {
        "id": "tifD15WpoemB"
      },
      "outputs": [],
      "source": [
        "from sklearn.svm import SVC\n",
        "\n",
        "from yellowbrick.model_selection import learning_curve\n",
        "\n",
        "\n",
        "X ,y = arraytrainf,arraytrainl\n",
        "\n",
        "svm  =SVC(kernel='linear', probability=True)\n",
        "print(learning_curve(svm, X, y, cv=5, scoring='accuracy'))"
      ]
    },
    {
      "cell_type": "code",
      "source": [
        "from sklearn.model_selection import train_test_split\n",
        "from sklearn.preprocessing import StandardScaler\n",
        "from sklearn.pipeline import make_pipeline\n",
        "from sklearn.linear_model import LogisticRegression\n",
        "from sklearn.model_selection import learning_curve\n",
        "from sklearn import datasets\n",
        "import matplotlib.pyplot as plt\n",
        "from sklearn.svm import SVC\n",
        "import numpy as np\n",
        "\n",
        "\n",
        "#\n",
        "# Create training and test split\n",
        "#\n",
        "X_train,y_train =arraytrainf,arraytrainl\n",
        "X_test, y_test = feauter_array,labels_array\n",
        "#\n",
        "# Create a pipeline; This will be passed as an estimator to learning curve method\n",
        "#\n",
        "pipeline = make_pipeline(StandardScaler(),\n",
        "                        SVC(kernel='linear', probability=True))\n",
        "#\n",
        "# Use learning curve to get training and test scores along with train sizes\n",
        "#\n",
        "train_sizes, train_scores, test_scores = learning_curve(estimator=pipeline, X=X_train, y=y_train,\n",
        "                                                       cv=10, train_sizes=np.linspace(0.1, 1.0, 10),\n",
        "                                                     n_jobs=1)\n",
        "#\n",
        "# Calculate training and test mean and std\n",
        "#\n",
        "train_mean = np.mean(train_scores, axis=1)\n",
        "train_std = np.std(train_scores, axis=1)\n",
        "test_mean = np.mean(test_scores, axis=1)\n",
        "test_std = np.std(test_scores, axis=1)\n",
        "#\n",
        "# Plot the learning curve\n",
        "#\n",
        "plt.plot(train_sizes, train_mean, color='blue', marker='o', markersize=5, label='Training Accuracy')\n",
        "plt.fill_between(train_sizes, train_mean + train_std, train_mean - train_std, alpha=0.15, color='blue')\n",
        "plt.plot(train_sizes, test_mean, color='green', marker='+', markersize=5, linestyle='--', label='Validation Accuracy')\n",
        "plt.fill_between(train_sizes, test_mean + test_std, test_mean - test_std, alpha=0.15, color='green')\n",
        "plt.title('Learning Curve')\n",
        "plt.xlabel('Training Data Size')\n",
        "plt.ylabel('Model accuracy')\n",
        "plt.grid()\n",
        "plt.legend(loc='lower right')\n",
        "plt.show()"
      ],
      "metadata": {
        "id": "N1OFviWz5Wef"
      },
      "execution_count": null,
      "outputs": []
    },
    {
      "cell_type": "code",
      "execution_count": null,
      "metadata": {
        "id": "uACghiSboiXu",
        "colab": {
          "base_uri": "https://localhost:8080/",
          "height": 951
        },
        "outputId": "1409e786-c8e0-40ce-bde7-ee76e227b250"
      },
      "outputs": [
        {
          "metadata": {
            "tags": null
          },
          "name": "stderr",
          "output_type": "stream",
          "text": [
            "/usr/local/lib/python3.7/dist-packages/joblib/externals/loky/process_executor.py:705: UserWarning: A worker stopped while some jobs were given to the executor. This can be caused by a too short worker timeout or by a memory leak.\n",
            "  \"timeout or by a memory leak.\", UserWarning\n"
          ]
        },
        {
          "output_type": "display_data",
          "data": {
            "text/plain": [
              "<Figure size 720x1080 with 6 Axes>"
            ],
            "image/png": "[encoded data removed]"
          },
          "metadata": {
            "needs_background": "light"
          }
        }
      ],
      "source": [
        "import numpy as np\n",
        "import matplotlib.pyplot as plt\n",
        "from sklearn.naive_bayes import GaussianNB\n",
        "from sklearn.svm import SVC\n",
        "from sklearn.model_selection import learning_curve\n",
        "from sklearn.model_selection import ShuffleSplit\n",
        "\n",
        "\n",
        "def plot_learning_curve(\n",
        "    estimator,\n",
        "    title,\n",
        "    X,\n",
        "    y,\n",
        "    axes=None,\n",
        "    ylim=None,\n",
        "    cv=None,\n",
        "    n_jobs=None,\n",
        "    train_sizes=np.linspace(0.1, 1.0, 5),\n",
        "):\n",
        "    \"\"\"\n",
        "    Generate 3 plots: the test and training learning curve, the training\n",
        "    samples vs fit times curve, the fit times vs score curve.\n",
        "\n",
        "    Parameters\n",
        "    ----------\n",
        "    estimator : estimator instance\n",
        "        An estimator instance implementing `fit` and `predict` methods which\n",
        "        will be cloned for each validation.\n",
        "\n",
        "    title : str\n",
        "        Title for the chart.\n",
        "\n",
        "    X : array-like of shape (n_samples, n_features)\n",
        "        Training vector, where ``n_samples`` is the number of samples and\n",
        "        ``n_features`` is the number of features.\n",
        "\n",
        "    y : array-like of shape (n_samples) or (n_samples, n_features)\n",
        "        Target relative to ``X`` for classification or regression;\n",
        "        None for unsupervised learning.\n",
        "\n",
        "    axes : array-like of shape (3,), default=None\n",
        "        Axes to use for plotting the curves.\n",
        "\n",
        "    ylim : tuple of shape (2,), default=None\n",
        "        Defines minimum and maximum y-values plotted, e.g. (ymin, ymax).\n",
        "\n",
        "    cv : int, cross-validation generator or an iterable, default=None\n",
        "        Determines the cross-validation splitting strategy.\n",
        "        Possible inputs for cv are:\n",
        "\n",
        "          - None, to use the default 5-fold cross-validation,\n",
        "          - integer, to specify the number of folds.\n",
        "          - :term:`CV splitter`,\n",
        "          - An iterable yielding (train, test) splits as arrays of indices.\n",
        "\n",
        "        For integer/None inputs, if ``y`` is binary or multiclass,\n",
        "        :class:`StratifiedKFold` used. If the estimator is not a classifier\n",
        "        or if ``y`` is neither binary nor multiclass, :class:`KFold` is used.\n",
        "\n",
        "        Refer :ref:`User Guide <cross_validation>` for the various\n",
        "        cross-validators that can be used here.\n",
        "\n",
        "    n_jobs : int or None, default=None\n",
        "        Number of jobs to run in parallel.\n",
        "        ``None`` means 1 unless in a :obj:`joblib.parallel_backend` context.\n",
        "        ``-1`` means using all processors. See :term:`Glossary <n_jobs>`\n",
        "        for more details.\n",
        "\n",
        "    train_sizes : array-like of shape (n_ticks,)\n",
        "        Relative or absolute numbers of training examples that will be used to\n",
        "        generate the learning curve. If the ``dtype`` is float, it is regarded\n",
        "        as a fraction of the maximum size of the training set (that is\n",
        "        determined by the selected validation method), i.e. it has to be within\n",
        "        (0, 1]. Otherwise it is interpreted as absolute sizes of the training\n",
        "        sets. Note that for classification the number of samples usually have\n",
        "        to be big enough to contain at least one sample from each class.\n",
        "        (default: np.linspace(0.1, 1.0, 5))\n",
        "    \"\"\"\n",
        "    if axes is None:\n",
        "        _, axes = plt.subplots(1, 3, figsize=(20, 5))\n",
        "\n",
        "    axes[0].set_title(title)\n",
        "    if ylim is not None:\n",
        "        axes[0].set_ylim(*ylim)\n",
        "    axes[0].set_xlabel(\"Training examples\")\n",
        "    axes[0].set_ylabel(\"Score\")\n",
        "\n",
        "    train_sizes, train_scores, test_scores, fit_times, _ = learning_curve(\n",
        "        estimator,\n",
        "        X,\n",
        "        y,\n",
        "        cv=cv,\n",
        "        n_jobs=n_jobs,\n",
        "        train_sizes=train_sizes,\n",
        "        return_times=True,\n",
        "    )\n",
        "    train_scores_mean = np.mean(train_scores, axis=1)\n",
        "    train_scores_std = np.std(train_scores, axis=1)\n",
        "    test_scores_mean = np.mean(test_scores, axis=1)\n",
        "    test_scores_std = np.std(test_scores, axis=1)\n",
        "    fit_times_mean = np.mean(fit_times, axis=1)\n",
        "    fit_times_std = np.std(fit_times, axis=1)\n",
        "\n",
        "    # Plot learning curve\n",
        "    axes[0].grid()\n",
        "    axes[0].fill_between(\n",
        "        train_sizes,\n",
        "        train_scores_mean - train_scores_std,\n",
        "        train_scores_mean + train_scores_std,\n",
        "        alpha=0.1,\n",
        "        color=\"r\",\n",
        "    )\n",
        "    axes[0].fill_between(\n",
        "        train_sizes,\n",
        "        test_scores_mean - test_scores_std,\n",
        "        test_scores_mean + test_scores_std,\n",
        "        alpha=0.1,\n",
        "        color=\"g\",\n",
        "    )\n",
        "    axes[0].plot(\n",
        "        train_sizes, train_scores_mean, \"o-\", color=\"r\", label=\"Training score\"\n",
        "    )\n",
        "    axes[0].plot(\n",
        "        train_sizes, test_scores_mean, \"o-\", color=\"g\", label=\"Cross-validation score\"\n",
        "    )\n",
        "    axes[0].legend(loc=\"best\")\n",
        "\n",
        "    # Plot n_samples vs fit_times\n",
        "    axes[1].grid()\n",
        "    axes[1].plot(train_sizes, fit_times_mean, \"o-\")\n",
        "    axes[1].fill_between(\n",
        "        train_sizes,\n",
        "        fit_times_mean - fit_times_std,\n",
        "        fit_times_mean + fit_times_std,\n",
        "        alpha=0.1,\n",
        "    )\n",
        "    axes[1].set_xlabel(\"Training examples\")\n",
        "    axes[1].set_ylabel(\"fit_times\")\n",
        "    axes[1].set_title(\"Scalability of the model\")\n",
        "\n",
        "    # Plot fit_time vs score\n",
        "    fit_time_argsort = fit_times_mean.argsort()\n",
        "    fit_time_sorted = fit_times_mean[fit_time_argsort]\n",
        "    test_scores_mean_sorted = test_scores_mean[fit_time_argsort]\n",
        "    test_scores_std_sorted = test_scores_std[fit_time_argsort]\n",
        "    axes[2].grid()\n",
        "    axes[2].plot(fit_time_sorted, test_scores_mean_sorted, \"o-\")\n",
        "    axes[2].fill_between(\n",
        "        fit_time_sorted,\n",
        "        test_scores_mean_sorted - test_scores_std_sorted,\n",
        "        test_scores_mean_sorted + test_scores_std_sorted,\n",
        "        alpha=0.1,\n",
        "    )\n",
        "    axes[2].set_xlabel(\"fit_times\")\n",
        "    axes[2].set_ylabel(\"Score\")\n",
        "    axes[2].set_title(\"Performance of the model\")\n",
        "\n",
        "    return plt\n",
        "\n",
        "\n",
        "fig, axes = plt.subplots(3, 2, figsize=(10, 15))\n",
        "\n",
        "#X, y = load_digits(return_X_y=True)\n",
        "\n",
        "#itle = \"Learning Curves (Naive Bayes)\"\n",
        "# Cross validation with 50 iterations to get smoother mean test and train\n",
        "# score curves, each time with 20% data randomly selected as a validation set.\n",
        "#cv = ShuffleSplit(n_splits=50, test_size=0.2, random_state=0)\n",
        "\n",
        "#estimator = GaussianNB()\n",
        "#plot_learning_curve(\n",
        "#    estimator, title, X, y, axes=axes[:, 0], ylim=(0.7, 1.01), cv=cv, n_jobs=4\n",
        "#)\n",
        "\n",
        "title = r\"Learning Curves (SVM, RBF kernel, $\\gamma=0.001$)\"\n",
        "# SVC is more expensive so we do a lower number of CV iterations:\n",
        "cv = ShuffleSplit(n_splits=5, test_size=0.2, random_state=0)\n",
        "estimator = SVC(kernel='linear', probability=True)\n",
        "plot_learning_curve(\n",
        "    estimator, title, arraytrainf, arraytrainl, axes=axes[:, 1], ylim=(0.7, 1.01), cv=cv, n_jobs=4\n",
        ")\n",
        "\n",
        "plt.show()"
      ]
    },
    {
      "cell_type": "code",
      "source": [
        "import numpy as np\n",
        "import matplotlib.pyplot as plt\n",
        "from sklearn.naive_bayes import GaussianNB\n",
        "from sklearn.svm import SVC\n",
        "from sklearn.datasets import load_digits\n",
        "from sklearn.model_selection import learning_curve\n",
        "from sklearn.model_selection import ShuffleSplit\n",
        "\n",
        "\n",
        "def plot_learning_curve(\n",
        "    estimator,\n",
        "    title,\n",
        "    X,\n",
        "    y,\n",
        "    axes=None,\n",
        "    ylim=None,\n",
        "    cv=None,\n",
        "    n_jobs=None,\n",
        "    train_sizes=np.linspace(0.1, 1.0, 5),\n",
        "):\n",
        "    \"\"\"\n",
        "    Generate 3 plots: the test and training learning curve, the training\n",
        "    samples vs fit times curve, the fit times vs score curve.\n",
        "\n",
        "    Parameters\n",
        "    ----------\n",
        "    estimator : estimator instance\n",
        "        An estimator instance implementing `fit` and `predict` methods which\n",
        "        will be cloned for each validation.\n",
        "\n",
        "    title : str\n",
        "        Title for the chart.\n",
        "\n",
        "    X : array-like of shape (n_samples, n_features)\n",
        "        Training vector, where ``n_samples`` is the number of samples and\n",
        "        ``n_features`` is the number of features.\n",
        "\n",
        "    y : array-like of shape (n_samples) or (n_samples, n_features)\n",
        "        Target relative to ``X`` for classification or regression;\n",
        "        None for unsupervised learning.\n",
        "\n",
        "    axes : array-like of shape (3,), default=None\n",
        "        Axes to use for plotting the curves.\n",
        "\n",
        "    ylim : tuple of shape (2,), default=None\n",
        "        Defines minimum and maximum y-values plotted, e.g. (ymin, ymax).\n",
        "\n",
        "    cv : int, cross-validation generator or an iterable, default=None\n",
        "        Determines the cross-validation splitting strategy.\n",
        "        Possible inputs for cv are:\n",
        "\n",
        "          - None, to use the default 5-fold cross-validation,\n",
        "          - integer, to specify the number of folds.\n",
        "          - :term:`CV splitter`,\n",
        "          - An iterable yielding (train, test) splits as arrays of indices.\n",
        "\n",
        "        For integer/None inputs, if ``y`` is binary or multiclass,\n",
        "        :class:`StratifiedKFold` used. If the estimator is not a classifier\n",
        "        or if ``y`` is neither binary nor multiclass, :class:`KFold` is used.\n",
        "\n",
        "        Refer :ref:`User Guide <cross_validation>` for the various\n",
        "        cross-validators that can be used here.\n",
        "\n",
        "    n_jobs : int or None, default=None\n",
        "        Number of jobs to run in parallel.\n",
        "        ``None`` means 1 unless in a :obj:`joblib.parallel_backend` context.\n",
        "        ``-1`` means using all processors. See :term:`Glossary <n_jobs>`\n",
        "        for more details.\n",
        "\n",
        "    train_sizes : array-like of shape (n_ticks,)\n",
        "        Relative or absolute numbers of training examples that will be used to\n",
        "        generate the learning curve. If the ``dtype`` is float, it is regarded\n",
        "        as a fraction of the maximum size of the training set (that is\n",
        "        determined by the selected validation method), i.e. it has to be within\n",
        "        (0, 1]. Otherwise it is interpreted as absolute sizes of the training\n",
        "        sets. Note that for classification the number of samples usually have\n",
        "        to be big enough to contain at least one sample from each class.\n",
        "        (default: np.linspace(0.1, 1.0, 5))\n",
        "    \"\"\"\n",
        "    if axes is None:\n",
        "        _, axes = plt.subplots(1, 3, figsize=(20, 5))\n",
        "\n",
        "    axes[0].set_title(title)\n",
        "    if ylim is not None:\n",
        "        axes[0].set_ylim(*ylim)\n",
        "    axes[0].set_xlabel(\"Training examples\")\n",
        "    axes[0].set_ylabel(\"Score\")\n",
        "\n",
        "    train_sizes, train_scores, test_scores, fit_times, _ = learning_curve(\n",
        "        estimator,\n",
        "        X,\n",
        "        y,\n",
        "        cv=cv,\n",
        "        n_jobs=n_jobs,\n",
        "        train_sizes=train_sizes,\n",
        "        return_times=True,\n",
        "    )\n",
        "    train_scores_mean = np.mean(train_scores, axis=1)\n",
        "    train_scores_std = np.std(train_scores, axis=1)\n",
        "    test_scores_mean = np.mean(test_scores, axis=1)\n",
        "    test_scores_std = np.std(test_scores, axis=1)\n",
        "    fit_times_mean = np.mean(fit_times, axis=1)\n",
        "    fit_times_std = np.std(fit_times, axis=1)\n",
        "\n",
        "    # Plot learning curve\n",
        "    axes[0].grid()\n",
        "    axes[0].fill_between(\n",
        "        train_sizes,\n",
        "        train_scores_mean - train_scores_std,\n",
        "        train_scores_mean + train_scores_std,\n",
        "        alpha=0.1,\n",
        "        color=\"r\",\n",
        "    )\n",
        "    axes[0].fill_between(\n",
        "        train_sizes,\n",
        "        test_scores_mean - test_scores_std,\n",
        "        test_scores_mean + test_scores_std,\n",
        "        alpha=0.1,\n",
        "        color=\"g\",\n",
        "    )\n",
        "    axes[0].plot(\n",
        "        train_sizes, train_scores_mean, \"o-\", color=\"r\", label=\"Training score\"\n",
        "    )\n",
        "    axes[0].plot(\n",
        "        train_sizes, test_scores_mean, \"o-\", color=\"g\", label=\"Cross-validation score\"\n",
        "    )\n",
        "    axes[0].legend(loc=\"best\")\n",
        "\n",
        "    # Plot n_samples vs fit_times\n",
        "    axes[1].grid()\n",
        "    axes[1].plot(train_sizes, fit_times_mean, \"o-\")\n",
        "    axes[1].fill_between(\n",
        "        train_sizes,\n",
        "        fit_times_mean - fit_times_std,\n",
        "        fit_times_mean + fit_times_std,\n",
        "        alpha=0.1,\n",
        "    )\n",
        "    axes[1].set_xlabel(\"Training examples\")\n",
        "    axes[1].set_ylabel(\"fit_times\")\n",
        "    axes[1].set_title(\"Scalability of the model\")\n",
        "\n",
        "    # Plot fit_time vs score\n",
        "    fit_time_argsort = fit_times_mean.argsort()\n",
        "    fit_time_sorted = fit_times_mean[fit_time_argsort]\n",
        "    test_scores_mean_sorted = test_scores_mean[fit_time_argsort]\n",
        "    test_scores_std_sorted = test_scores_std[fit_time_argsort]\n",
        "    axes[2].grid()\n",
        "    axes[2].plot(fit_time_sorted, test_scores_mean_sorted, \"o-\")\n",
        "    axes[2].fill_between(\n",
        "        fit_time_sorted,\n",
        "        test_scores_mean_sorted - test_scores_std_sorted,\n",
        "        test_scores_mean_sorted + test_scores_std_sorted,\n",
        "        alpha=0.1,\n",
        "    )\n",
        "    axes[2].set_xlabel(\"fit_times\")\n",
        "    axes[2].set_ylabel(\"Score\")\n",
        "    axes[2].set_title(\"Performance of the model\")\n",
        "\n",
        "    return plt\n",
        "\n",
        "\n",
        "fig, axes = plt.subplots(3, 2, figsize=(10, 15))\n",
        "\n",
        "#X, y = load_digits(return_X_y=True)\n",
        "\n",
        "#itle = \"Learning Curves (Naive Bayes)\"\n",
        "# Cross validation with 50 iterations to get smoother mean test and train\n",
        "# score curves, each time with 20% data randomly selected as a validation set.\n",
        "#cv = ShuffleSplit(n_splits=50, test_size=0.2, random_state=0)\n",
        "\n",
        "#estimator = GaussianNB()\n",
        "#plot_learning_curve(\n",
        "#    estimator, title, X, y, axes=axes[:, 0], ylim=(0.7, 1.01), cv=cv, n_jobs=4\n",
        "#)\n",
        "\n",
        "title = r\"Learning Curves (SVM, RBF kernel, $\\gamma=0.001$)\"\n",
        "# SVC is more expensive so we do a lower number of CV iterations:\n",
        "cv = ShuffleSplit(n_splits=5, test_size=0.2, random_state=0)\n",
        "estimator = SVC(kernel='linear', probability=True)\n",
        "plot_learning_curve(\n",
        "    estimator, title, arraytrainf, arraytrainl, axes=axes[:, 1], ylim=(0.7, 1.01), cv=cv, n_jobs=4\n",
        ")\n",
        "\n",
        "plt.show()"
      ],
      "metadata": {
        "id": "Ksp3MQX_zP4s"
      },
      "execution_count": null,
      "outputs": []
    },
    {
      "cell_type": "code",
      "execution_count": null,
      "metadata": {
        "id": "HJy9QWnijtJk"
      },
      "outputs": [],
      "source": [
        "y_predlinear = classifierlinar.predict(feauter_array)"
      ]
    },
    {
      "cell_type": "code",
      "execution_count": null,
      "metadata": {
        "colab": {
          "base_uri": "https://localhost:8080/"
        },
        "id": "TYtRIkSUV7QG",
        "outputId": "80ad246a-66f6-49df-fb4f-000b01e68be7"
      },
      "outputs": [
        {
          "name": "stdout",
          "output_type": "stream",
          "text": [
            "Accuracy: 0.945580474934037\n"
          ]
        }
      ],
      "source": [
        "#Import scikit-learn metrics module for accuracy calculation\n",
        "from sklearn import metrics\n",
        "\n",
        "# Model Accuracy: how often is the classifier correct?\n",
        "print(\"Accuracy:\",metrics.accuracy_score(labels_array, y_predlinear))"
      ]
    },
    {
      "cell_type": "code",
      "execution_count": null,
      "metadata": {
        "colab": {
          "base_uri": "https://localhost:8080/"
        },
        "id": "-af8C4RNKBpl",
        "outputId": "d5c41066-052c-464f-c90c-3993fb94b5dd"
      },
      "outputs": [
        {
          "name": "stdout",
          "output_type": "stream",
          "text": [
            "Accuracy: 0.945580474934037\n"
          ]
        }
      ],
      "source": [
        "#Import scikit-learn metrics module for accuracy calculation\n",
        "from sklearn import metrics\n",
        "\n",
        "# Model Accuracy: how often is the classifier correct?\n",
        "print(\"Accuracy:\",metrics.accuracy_score(labels_array, y_predlinear))"
      ]
    },
    {
      "cell_type": "code",
      "execution_count": null,
      "metadata": {
        "colab": {
          "base_uri": "https://localhost:8080/"
        },
        "id": "beicZAKYl-z8",
        "outputId": "18142b2f-25be-430d-91c5-a0aea71fdd42"
      },
      "outputs": [
        {
          "name": "stdout",
          "output_type": "stream",
          "text": [
            "              precision    recall  f1-score   support\n",
            "\n",
            "           1       0.90      0.91      0.90       724\n",
            "           2       0.96      0.96      0.96      2040\n",
            "           3       0.94      0.94      0.94       268\n",
            "\n",
            "    accuracy                           0.95      3032\n",
            "   macro avg       0.94      0.94      0.94      3032\n",
            "weighted avg       0.95      0.95      0.95      3032\n",
            "\n"
          ]
        }
      ],
      "source": [
        "from sklearn.metrics import classification_report\n",
        "print(classification_report(labels_array, y_predlinear))\n",
        "#CAE"
      ]
    },
    {
      "cell_type": "markdown",
      "metadata": {
        "id": "1DQiCFjKA1t0"
      },
      "source": [
        "# `Save Models`"
      ]
    },
    {
      "cell_type": "code",
      "execution_count": null,
      "metadata": {
        "id": "kDbEr2dkijAU"
      },
      "outputs": [],
      "source": [
        "import pickle"
      ]
    },
    {
      "cell_type": "code",
      "execution_count": null,
      "metadata": {
        "id": "1V4Yb2gAPJkp"
      },
      "outputs": [],
      "source": [
        "filename = '/content/drive/MyDrive/files/classifierlinar_model.sav'"
      ]
    },
    {
      "cell_type": "code",
      "execution_count": null,
      "metadata": {
        "id": "JuioXcDdiIO0"
      },
      "outputs": [],
      "source": [
        "\n",
        "pickle.dump(classifierlinar, open(filename, 'wb'))"
      ]
    },
    {
      "cell_type": "markdown",
      "metadata": {
        "id": "jOf8qUBJd-8h"
      },
      "source": [
        "# **Reload model SVM**"
      ]
    },
    {
      "cell_type": "code",
      "execution_count": null,
      "metadata": {
        "id": "lFGVj-laCS5C"
      },
      "outputs": [],
      "source": [
        "import pickle\n",
        "filename = '/content/drive/MyDrive/files/classifierlinar_model.sav'\n",
        "# load the model from disk\n",
        "loaded_model = pickle.load(open(filename, 'rb'))"
      ]
    },
    {
      "cell_type": "code",
      "execution_count": null,
      "metadata": {
        "id": "VMFrtB9sCKMj"
      },
      "outputs": [],
      "source": [
        "y_loaded_modellinear = loaded_model.predict(feauter_array)"
      ]
    },
    {
      "cell_type": "code",
      "execution_count": null,
      "metadata": {
        "colab": {
          "base_uri": "https://localhost:8080/"
        },
        "id": "UGNNHgHmeHc5",
        "outputId": "961e8e6f-1a69-49da-d370-cc8daf4f5455"
      },
      "outputs": [
        {
          "name": "stdout",
          "output_type": "stream",
          "text": [
            "1\n"
          ]
        }
      ],
      "source": [
        "print(int(y_loaded_modellinear[1]))"
      ]
    },
    {
      "cell_type": "code",
      "execution_count": null,
      "metadata": {
        "colab": {
          "base_uri": "https://localhost:8080/"
        },
        "id": "7zgc5JW0CKMk",
        "outputId": "9a800b49-b328-4a39-bb1e-4e39d4fb209a"
      },
      "outputs": [
        {
          "name": "stdout",
          "output_type": "stream",
          "text": [
            "Accuracy: 0.945580474934037\n"
          ]
        }
      ],
      "source": [
        "#Import scikit-learn metrics module for accuracy calculation\n",
        "from sklearn import metrics\n",
        "\n",
        "# Model Accuracy: how often is the classifier correct?\n",
        "print(\"Accuracy:\",metrics.accuracy_score(labels_array, y_loaded_modellinear))"
      ]
    },
    {
      "cell_type": "code",
      "execution_count": null,
      "metadata": {
        "id": "0Fy8Tj_uiwgV"
      },
      "outputs": [],
      "source": [
        "import numpy as np\n",
        "import matplotlib.pyplot as plt\n"
      ]
    },
    {
      "cell_type": "code",
      "execution_count": null,
      "metadata": {
        "id": "IEMPqyUjitjl"
      },
      "outputs": [],
      "source": [
        "#Get the separating hyperplane\n",
        "w=model.coef_[0]\n",
        "a-w[0]/w[1]\n",
        "xx np.linspace(5,30)\n",
        "yy=a*xx-(model.intercept_[0])/w[1]\n",
        "#Plot the parallels to the separating hyperplane\n",
        "#that pass through the support vectors\n",
        "bmodel.support_vectors_[0]\n",
        "yy_down=a*xx+(b[1]-a*b[0])\n",
        "bmodel.support_vectors_[-1]\n",
        "yy_up=axx+(b[1]-ab[0])*"
      ]
    },
    {
      "cell_type": "code",
      "execution_count": null,
      "metadata": {
        "id": "zlZsoUPDTBnA"
      },
      "outputs": [],
      "source": [
        "\n",
        "# import some data to play with\n",
        "\n",
        "X = arraytrainf[:, :2] # we only take the first two features. We could\n",
        " # avoid this ugly slicing by using a two-dim dataset\n",
        "y = arraytrainf\n",
        "# we create an instance of SVM and fit out data. We do not scale our\n",
        "# data since we want to plot the support vectors\n",
        "C = 1.0 # SVM regularization parameter\n",
        "\n",
        "# create a mesh to plot in\n",
        "x_min, x_max = X[:, 0].min() - 1, X[:, 0].max() + 1\n",
        "y_min, y_max = X[:, 1].min() - 1, X[:, 1].max() + 1\n",
        "h = (x_max / x_min)/100\n",
        "xx, yy = np.meshgrid(np.arange(x_min, x_max, h),\n",
        " np.arange(y_min, y_max, h))\n",
        "plt.subplot(1, 1, 1)\n",
        "Z = y_predlinear\n",
        "\n",
        "plt.contourf(xx, yy, Z, cmap=plt.cm.Paired, alpha=0.8)\n",
        "plt.scatter(X[:, 0], X[:, 1], c=y, cmap=plt.cm.Paired)\n",
        "plt.xlabel('Sepal length')\n",
        "plt.ylabel('Sepal width')\n",
        "plt.xlim(xx.min(), xx.max())\n",
        "plt.title('SVC with linear kernel')\n",
        "plt.show()"
      ]
    },
    {
      "cell_type": "code",
      "execution_count": null,
      "metadata": {
        "id": "hZr2wxZWwsn8"
      },
      "outputs": [],
      "source": [
        "import pickle\n",
        "#ovolasttest1_predict_proba.pickle\n",
        "pickle_out = open(\"/content/drive/MyDrive/files/test_predictlinear.pickle\",\"wb\")\n",
        "pickle.dump(y_predlinear, pickle_out)\n",
        "pickle_out.close()"
      ]
    },
    {
      "cell_type": "code",
      "execution_count": null,
      "metadata": {
        "id": "XWRyOCfu---k"
      },
      "outputs": [],
      "source": [
        "import time\n",
        "start = time.time()\n",
        "classifierlinar.fit(arraytrainf,arraytrainl)\n",
        "stop = time.time()\n",
        "print(f\"Training time: {stop - start}s\")"
      ]
    },
    {
      "cell_type": "code",
      "execution_count": null,
      "metadata": {
        "id": "cFUvpT6rZz_X"
      },
      "outputs": [],
      "source": [
        "test_proba=classifier.predict_proba(X_test1)"
      ]
    },
    {
      "cell_type": "code",
      "execution_count": null,
      "metadata": {
        "id": "alHutqxgszn4"
      },
      "outputs": [],
      "source": [
        "test_proba=classifier.predict_proba(feauter_array)"
      ]
    },
    {
      "cell_type": "code",
      "execution_count": null,
      "metadata": {
        "colab": {
          "base_uri": "https://localhost:8080/"
        },
        "id": "TWGQG-dQZ9_3",
        "outputId": "c31fe38b-afb0-480e-fee5-cf89ac03ed67"
      },
      "outputs": [
        {
          "data": {
            "text/plain": [
              "array([[9.99567876e-01, 4.31538003e-04, 5.85656165e-07],\n",
              "       [9.50707616e-01, 4.86020921e-02, 6.90291794e-04],\n",
              "       [9.89093119e-01, 5.71403346e-03, 5.19284711e-03],\n",
              "       ...,\n",
              "       [7.03667462e-07, 7.86118422e-07, 9.99998510e-01],\n",
              "       [2.52703014e-03, 6.89965982e-03, 9.90573310e-01],\n",
              "       [9.99818872e-01, 1.61817804e-04, 1.93106462e-05]])"
            ]
          },
          "execution_count": 31,
          "metadata": {},
          "output_type": "execute_result"
        }
      ],
      "source": [
        "test_proba"
      ]
    },
    {
      "cell_type": "code",
      "execution_count": null,
      "metadata": {
        "colab": {
          "base_uri": "https://localhost:8080/"
        },
        "id": "hCUhTRInbgcP",
        "outputId": "2e8ee7f9-9b70-4585-92c5-3dcaa7066253"
      },
      "outputs": [
        {
          "data": {
            "text/plain": [
              "array([1, 2, 1, ..., 3, 3, 3])"
            ]
          },
          "execution_count": 43,
          "metadata": {},
          "output_type": "execute_result"
        }
      ],
      "source": [
        "y_pred"
      ]
    },
    {
      "cell_type": "markdown",
      "metadata": {
        "id": "BDwULEWVtR6T"
      },
      "source": [
        "# Save probability of test data 1 and Labels\n",
        "\n"
      ]
    },
    {
      "cell_type": "code",
      "execution_count": null,
      "metadata": {
        "id": "uweTiQyctR6T"
      },
      "outputs": [],
      "source": [
        "import pickle\n",
        "#ovolasttest1_predict_proba.pickle\n",
        "pickle_out = open(\"/content/drive/MyDrive/files/lasttest1_predict_proba.pickle\",\"wb\")\n",
        "pickle.dump(test_proba, pickle_out)\n",
        "pickle_out.close()"
      ]
    },
    {
      "cell_type": "code",
      "execution_count": null,
      "metadata": {
        "id": "hPholHPJtR6T"
      },
      "outputs": [],
      "source": [
        "import pickle\n",
        "\n",
        "pickle_out = open(\"/content/drive/MyDrive/files/lastLabels_test1.pickle\",\"wb\")\n",
        "pickle.dump(labels_array, pickle_out)\n",
        "pickle_out.close()"
      ]
    },
    {
      "cell_type": "code",
      "execution_count": null,
      "metadata": {
        "id": "zc6D2jX_tR6T"
      },
      "outputs": [],
      "source": [
        "import pickle\n",
        "\n",
        "pickle_out = open(\"/content/drive/MyDrive/files/lastFeature_test1.pickle\",\"wb\")\n",
        "pickle.dump(feauter_array, pickle_out)\n",
        "pickle_out.close()"
      ]
    },
    {
      "cell_type": "markdown",
      "metadata": {
        "id": "rWQ7K9mXtR6U"
      },
      "source": [
        "# Reload probability of test data 1\n",
        "\n"
      ]
    },
    {
      "cell_type": "code",
      "execution_count": null,
      "metadata": {
        "id": "VJ2EEpF04Wk3"
      },
      "outputs": [],
      "source": [
        "import pickle\n",
        "pickle_in = open(\"/content/drive/MyDrive/files/Labels_test1.pickle\",\"rb\")\n",
        "array1= pickle.load(pickle_in)"
      ]
    },
    {
      "cell_type": "code",
      "execution_count": null,
      "metadata": {
        "colab": {
          "base_uri": "https://localhost:8080/"
        },
        "id": "ZnAOcaMP5tSf",
        "outputId": "8b651214-811b-47cd-e4e8-90802f9c678a"
      },
      "outputs": [
        {
          "data": {
            "text/plain": [
              "3032"
            ]
          },
          "execution_count": 87,
          "metadata": {},
          "output_type": "execute_result"
        }
      ],
      "source": [
        "len(array1)"
      ]
    },
    {
      "cell_type": "code",
      "execution_count": null,
      "metadata": {
        "id": "_aA1mgIStR6U"
      },
      "outputs": [],
      "source": [
        "import pickle\n",
        "pickle_in = open(\"/content/drive/MyDrive/files/test1_predict_proba.pickle\",\"rb\")\n",
        "test_probability= pickle.load(pickle_in)"
      ]
    },
    {
      "cell_type": "code",
      "execution_count": null,
      "metadata": {
        "colab": {
          "base_uri": "https://localhost:8080/"
        },
        "id": "hyHBn5sdtR6U",
        "outputId": "ebf0906d-4599-4207-94c6-dd9062c36686"
      },
      "outputs": [
        {
          "data": {
            "text/plain": [
              "array([[9.99815984e-01, 1.82053311e-04, 1.96315869e-06],\n",
              "       [2.59803197e-01, 7.39507846e-01, 6.88957186e-04],\n",
              "       [9.51338392e-01, 1.14678792e-02, 3.71937288e-02],\n",
              "       ...,\n",
              "       [4.31996814e-07, 3.25944255e-07, 9.99999242e-01],\n",
              "       [3.10272229e-03, 4.51452906e-03, 9.92382749e-01],\n",
              "       [9.99928724e-01, 6.79618293e-06, 6.44801944e-05]])"
            ]
          },
          "execution_count": 145,
          "metadata": {},
          "output_type": "execute_result"
        }
      ],
      "source": [
        "test_probability"
      ]
    },
    {
      "cell_type": "markdown",
      "metadata": {
        "id": "tnAej2bZYB-h"
      },
      "source": [
        "# Save probability of test data and Labels\n",
        "\n"
      ]
    },
    {
      "cell_type": "code",
      "execution_count": null,
      "metadata": {
        "id": "UTKvvTApaM9K"
      },
      "outputs": [],
      "source": [
        "import pickle\n",
        "\n",
        "pickle_out = open(\"/content/drive/MyDrive/files/test_predict_proba.pickle\",\"wb\")\n",
        "pickle.dump(test_proba, pickle_out)\n",
        "pickle_out.close()"
      ]
    },
    {
      "cell_type": "code",
      "execution_count": null,
      "metadata": {
        "id": "Hxgllrx6a7OX"
      },
      "outputs": [],
      "source": [
        "import pickle\n",
        "\n",
        "pickle_out = open(\"/content/drive/MyDrive/files/Labels_test.pickle\",\"wb\")\n",
        "pickle.dump(y_test1, pickle_out)\n",
        "pickle_out.close()"
      ]
    },
    {
      "cell_type": "code",
      "execution_count": null,
      "metadata": {
        "id": "hLAb7zckc2DV"
      },
      "outputs": [],
      "source": [
        "import pickle\n",
        "\n",
        "pickle_out = open(\"/content/drive/MyDrive/files/Feature_test.pickle\",\"wb\")\n",
        "pickle.dump(X_test1, pickle_out)\n",
        "pickle_out.close()"
      ]
    },
    {
      "cell_type": "markdown",
      "metadata": {
        "id": "5WDndD1ZYSno"
      },
      "source": [
        "# Reload probability of test data\n",
        "\n"
      ]
    },
    {
      "cell_type": "code",
      "execution_count": null,
      "metadata": {
        "id": "w1Pw7yt-YR8T"
      },
      "outputs": [],
      "source": [
        "import pickle\n",
        "pickle_in = open(\"/content/drive/MyDrive/files/test_predict_proba.pickle\",\"rb\")\n",
        "test_probability= pickle.load(pickle_in)"
      ]
    },
    {
      "cell_type": "code",
      "execution_count": null,
      "metadata": {
        "id": "wuDuu8oVONzk"
      },
      "outputs": [],
      "source": [
        "import pickle\n",
        "pickle_in = open(\"/content/drive/MyDrive/files/test1_predict_proba.pickle\",\"rb\")\n",
        "test_probability= pickle.load(pickle_in)"
      ]
    },
    {
      "cell_type": "code",
      "execution_count": null,
      "metadata": {
        "colab": {
          "base_uri": "https://localhost:8080/"
        },
        "id": "kUXN9ueaYp9_",
        "outputId": "4ac65dcc-82ea-4189-aabf-574f64ef48be"
      },
      "outputs": [
        {
          "data": {
            "text/plain": [
              "3032"
            ]
          },
          "execution_count": 58,
          "metadata": {},
          "output_type": "execute_result"
        }
      ],
      "source": [
        "len(test_probability)"
      ]
    },
    {
      "cell_type": "markdown",
      "metadata": {
        "id": "InlE5ePhuNkC"
      },
      "source": [
        "# New popability"
      ]
    },
    {
      "cell_type": "code",
      "execution_count": null,
      "metadata": {
        "colab": {
          "base_uri": "https://localhost:8080/"
        },
        "id": "kNC_k8lae-rO",
        "outputId": "70899978-461f-4341-fdcf-f1549dae60e2"
      },
      "outputs": [
        {
          "data": {
            "text/plain": [
              "array([[9.99973706e-01, 2.31591244e-05, 3.13443203e-06],\n",
              "       [9.96637414e-01, 3.24526898e-03, 1.17317185e-04],\n",
              "       [9.99703350e-01, 2.57823166e-05, 2.70867788e-04],\n",
              "       ...,\n",
              "       [1.14169149e-02, 2.04219709e-03, 9.86540888e-01],\n",
              "       [2.45965993e-07, 2.95350409e-07, 9.99999459e-01],\n",
              "       [2.13750545e-08, 1.06856358e-08, 9.99999968e-01]])"
            ]
          },
          "execution_count": 35,
          "metadata": {},
          "output_type": "execute_result"
        }
      ],
      "source": [
        "import pickle\n",
        "pickle_in = open(\"/content/drive/MyDrive/prob.pickle\",\"rb\")\n",
        "test_probability1= pickle.load(pickle_in)\n",
        "test_probability1"
      ]
    },
    {
      "cell_type": "code",
      "execution_count": null,
      "metadata": {
        "colab": {
          "base_uri": "https://localhost:8080/"
        },
        "id": "8FAtrYrg3WP6",
        "outputId": "4a49b7ff-0b9a-4212-829a-678f8f6df1ba"
      },
      "outputs": [
        {
          "data": {
            "text/plain": [
              "3031"
            ]
          },
          "execution_count": 6,
          "metadata": {},
          "output_type": "execute_result"
        }
      ],
      "source": [
        "len(test_probability1)"
      ]
    },
    {
      "cell_type": "code",
      "execution_count": null,
      "metadata": {
        "id": "fSEbJrb1ahCu"
      },
      "outputs": [],
      "source": [
        "import pandas  as pd\n",
        "import numpy as np\n",
        "\n",
        "arraymax=[]\n",
        "arraymin=[]\n",
        "arraysom=[]\n",
        "arrayproduct=[]\n",
        "arraymean=[]\n",
        "arraymax = np.array([[max(test_probability[0][0],test_probability1[0][0]),max(test_probability[0][1],test_probability1[0][1]),max(test_probability[0][2],test_probability1[0][2])]])\n",
        "arraymin = np.array([[min(test_probability[0][0],test_probability1[0][0]),min(test_probability[0][1],test_probability1[0][1]),min(test_probability[0][2],test_probability1[0][2])]])\n",
        "arraymean = np.array([[(test_probability[0][0]+test_probability1[0][0])/2,(test_probability[0][1]+test_probability1[0][1])/2,(test_probability[0][2]+test_probability1[0][2])/2]])\n",
        "arraysom = np.array([[(test_probability[0][0]+test_probability1[0][0]),(test_probability[0][1]+test_probability1[0][1]),(test_probability[0][2]+test_probability1[0][2])]])\n",
        "arrayproduct = np.array([[(test_probability[0][0])*(test_probability1[0][0]),(test_probability[0][1])*(test_probability1[0][1]),(test_probability[0][2])*(test_probability1[0][2])]])\n",
        "\n",
        "for i in range(1,len(test_probability)-1):\n",
        "  rowmax =np.array([[max(test_probability[i][0],test_probability1[i][0]),max(test_probability[i][1],test_probability1[i][1]),max(test_probability[i][2],test_probability1[i][2])]])\n",
        "  arraymax = np.r_[arraymax,rowmax]\n",
        "  rowmin =np.array([[min(test_probability[i][0],test_probability1[i][0]),min(test_probability[i][1],test_probability1[i][1]),min(test_probability[i][2],test_probability1[i][2])]])\n",
        "  arraymin = np.r_[arraymin,rowmin]\n",
        "  rowsom =np.array([[(test_probability[i][0]+test_probability1[i][0]),(test_probability[i][1]+test_probability1[i][1]),(test_probability[i][2]+test_probability1[i][2])]])\n",
        "  arraysom = np.r_[arraysom,rowsom]\n",
        "  rowproduct =np.array([[(test_probability[i][0])*(test_probability1[i][0]),(test_probability[i][1])*(test_probability1[i][1]),(test_probability[i][2])*(test_probability1[i][2])]])\n",
        "  arrayproduct = np.r_[arrayproduct,rowproduct]\n",
        "  rowmean =np.array([[(test_probability[i][0]+test_probability1[i][0])/2,(test_probability[i][1]+test_probability1[i][1])/2,(test_probability[i][2]+test_probability1[i][2])/2]])\n",
        "  arraymean = np.r_[arraymean,rowmean]"
      ]
    },
    {
      "cell_type": "code",
      "execution_count": null,
      "metadata": {
        "colab": {
          "base_uri": "https://localhost:8080/"
        },
        "id": "0eXaCqgIcayR",
        "outputId": "78a773c6-2d42-4229-85df-94e7e42c2070"
      },
      "outputs": [
        {
          "name": "stdout",
          "output_type": "stream",
          "text": [
            "this max=3031\n",
            "this min=3031\n",
            "this som=3031\n",
            "this product=3031\n",
            "this mean=3031\n"
          ]
        }
      ],
      "source": [
        "print(\"this max=\"+str(len(arraymax)))\n",
        "print(\"this min=\"+str(len(arraymin)))\n",
        "print(\"this som=\"+str(len(arraysom)))\n",
        "print(\"this product=\"+str(len(arrayproduct)))\n",
        "print(\"this mean=\"+str(len(arraymean)))"
      ]
    },
    {
      "cell_type": "code",
      "execution_count": null,
      "metadata": {
        "id": "mxVOmhWL1H5-"
      },
      "outputs": [],
      "source": [
        "\n",
        "ar_predict_max=[]\n",
        "ar_predict_min=[]\n",
        "ar_predict_som=[]\n",
        "ar_predict_product=[]\n",
        "ar_predict_mean=[]\n",
        "j1= np.unravel_index(arraymax[0].argmax(), arraymax.shape)\n",
        "ar_predict_max = np.array([j1[1]+1])\n",
        "j2= np.unravel_index(arraymin[0].argmax(), arraymin.shape)\n",
        "ar_predict_min = np.array([j2[1]+1])\n",
        "j3= np.unravel_index(arraymean[0].argmax(), arraymean.shape)\n",
        "ar_predict_mean =  np.array([j3[1]+1])\n",
        "j4= np.unravel_index(arraysom[0].argmax(), arraysom.shape)\n",
        "ar_predict_som =  np.array([j4[1]+1])\n",
        "j5= np.unravel_index(arrayproduct[0].argmax(), arrayproduct.shape)\n",
        "ar_predict_product = np.array([j5[1]+1])\n",
        "\n",
        "for i in range(1,len(test_probability)-1):\n",
        "  j1= np.unravel_index(arraymax[i].argmax(), arraymax.shape)\n",
        "  rowmax =np.array([j1[1]+1])\n",
        "  ar_predict_max = np.r_[ar_predict_max,rowmax]\n",
        "  j2= np.unravel_index(arraymin[i].argmax(), arraymin.shape)\n",
        "  rowmin =np.array([j2[1]+1])\n",
        "  ar_predict_min = np.r_[ar_predict_min,rowmin]\n",
        "  j3= np.unravel_index(arraysom[i].argmax(), arraysom.shape)\n",
        "  rowsom =np.array([j3[1]+1])\n",
        "  ar_predict_som = np.r_[ar_predict_som,rowsom]\n",
        "  j4= np.unravel_index(arrayproduct[i].argmax(), arrayproduct.shape)\n",
        "  rowproduct =np.array([j4[1]+1])\n",
        "  ar_predict_product = np.r_[ar_predict_product,rowproduct]\n",
        "  j5= np.unravel_index(arraymean[i].argmax(), arraymean.shape)\n",
        "  rowmean =np.array([j5[1]+1])\n",
        "  ar_predict_mean = np.r_[ar_predict_mean,rowmean]\n"
      ]
    },
    {
      "cell_type": "code",
      "execution_count": null,
      "metadata": {
        "colab": {
          "base_uri": "https://localhost:8080/"
        },
        "id": "cfgEsrQA5Pmj",
        "outputId": "2606ff10-1735-46db-a841-8b568ce023de"
      },
      "outputs": [
        {
          "data": {
            "text/plain": [
              "3032"
            ]
          },
          "execution_count": 141,
          "metadata": {},
          "output_type": "execute_result"
        }
      ],
      "source": [
        "len(ar_predict_mean)"
      ]
    },
    {
      "cell_type": "code",
      "execution_count": null,
      "metadata": {
        "id": "9b_ROJCy5ajq"
      },
      "outputs": [],
      "source": [
        "import pickle\n",
        "pickle_in = open(\"/content/drive/MyDrive/files/Labels_test.pickle\",\"rb\")\n",
        "y_test1= pickle.load(pickle_in)"
      ]
    },
    {
      "cell_type": "code",
      "execution_count": null,
      "metadata": {
        "colab": {
          "base_uri": "https://localhost:8080/"
        },
        "id": "t7RjJvqHArN7",
        "outputId": "2fbf7e4e-57f9-45ce-828a-f8a7c068ed20"
      },
      "outputs": [
        {
          "data": {
            "text/plain": [
              "array([1, 1, 1, ..., 3, 3, 3])"
            ]
          },
          "execution_count": 98,
          "metadata": {},
          "output_type": "execute_result"
        }
      ],
      "source": [
        "array1"
      ]
    },
    {
      "cell_type": "code",
      "execution_count": null,
      "metadata": {
        "colab": {
          "base_uri": "https://localhost:8080/"
        },
        "id": "Ocni8tFmAsnH",
        "outputId": "b94a6f84-24a0-46b9-9461-2e7fe869ad9b"
      },
      "outputs": [
        {
          "data": {
            "text/plain": [
              "array([2, 2, 2, ..., 3, 2, 1])"
            ]
          },
          "execution_count": 110,
          "metadata": {},
          "output_type": "execute_result"
        }
      ],
      "source": [
        "ar_predict_min"
      ]
    },
    {
      "cell_type": "code",
      "execution_count": null,
      "metadata": {
        "id": "3P37Zws8Jyyn"
      },
      "outputs": [],
      "source": [
        "array=labels_array[:len(labels_array)-1]"
      ]
    },
    {
      "cell_type": "code",
      "execution_count": null,
      "metadata": {
        "colab": {
          "base_uri": "https://localhost:8080/"
        },
        "id": "-Hd7-9_65XKK",
        "outputId": "f7ad1e64-6bde-40fc-924f-387c0979b09b"
      },
      "outputs": [
        {
          "name": "stdout",
          "output_type": "stream",
          "text": [
            "Accuracy with max: 97.92147806004618 %\n",
            "Accuracy with min: 97.92147806004618 %\n",
            "Accuracy with som: 97.92147806004618 %\n",
            "Accuracywith product: 97.92147806004618 %\n",
            "Accuracy with mean: 97.92147806004618 %\n"
          ]
        }
      ],
      "source": [
        "#Import scikit-learn metrics module for accuracy calculation\n",
        "from sklearn import metrics\n",
        "\n",
        "# Model Accuracy: how often is the classifier correct?\n",
        "print(\"Accuracy with max:\",metrics.accuracy_score(array, ar_predict_max)*100,\"%\")\n",
        "print(\"Accuracy with min:\",metrics.accuracy_score(array, ar_predict_min)*100,\"%\")\n",
        "print(\"Accuracy with som:\",metrics.accuracy_score(array, ar_predict_som)*100,\"%\")\n",
        "print(\"Accuracywith product:\",metrics.accuracy_score(array, ar_predict_product)*100,\"%\")\n",
        "print(\"Accuracy with mean:\",metrics.accuracy_score(array, ar_predict_mean)*100,\"%\")\n"
      ]
    },
    {
      "cell_type": "markdown",
      "metadata": {
        "id": "ZEXeFbVzcsmu"
      },
      "source": [
        "# now type of SVM"
      ]
    },
    {
      "cell_type": "markdown",
      "metadata": {
        "id": "CChy9AX1mQV4"
      },
      "source": []
    },
    {
      "cell_type": "code",
      "execution_count": null,
      "metadata": {
        "id": "gLH0aBOArEuR"
      },
      "outputs": [],
      "source": [
        "# \"poly\", \"rbf\""
      ]
    },
    {
      "cell_type": "code",
      "execution_count": null,
      "metadata": {
        "id": "dwMpPJX0t0do"
      },
      "outputs": [],
      "source": [
        "\n",
        "from sklearn.svm import SVC,LinearSVC\n",
        "classifierrbf =SVC(C= 10, kernel='rbf',decision_function_shape='ovr', probability=True)\n",
        "#LinearSVC(),decision_function_shape='ovo'\n"
      ]
    },
    {
      "cell_type": "code",
      "execution_count": null,
      "metadata": {
        "colab": {
          "base_uri": "https://localhost:8080/"
        },
        "id": "aZDsSWl9uMxL",
        "outputId": "a8437944-7ae9-4003-9623-5c18f144e5c0"
      },
      "outputs": [
        {
          "data": {
            "text/plain": [
              "SVC(C=10, probability=True)"
            ]
          },
          "execution_count": 38,
          "metadata": {},
          "output_type": "execute_result"
        }
      ],
      "source": [
        "classifierrbf.fit(arraytrainf,arraytrainl)"
      ]
    },
    {
      "cell_type": "code",
      "source": [
        "import time\n",
        "start = time.time()\n",
        "classifierrbf.fit(arraytrainf,arraytrainl)\n",
        "stop = time.time()\n",
        "print(f\"Training time: {stop - start}s\")"
      ],
      "metadata": {
        "colab": {
          "base_uri": "https://localhost:8080/"
        },
        "id": "Zpk_G93-KCwf",
        "outputId": "b518de05-66d7-409d-efbf-3e35e79ffd01"
      },
      "execution_count": null,
      "outputs": [
        {
          "output_type": "stream",
          "name": "stdout",
          "text": [
            "Training time: 457.4901485443115s\n"
          ]
        }
      ]
    },
    {
      "cell_type": "code",
      "execution_count": null,
      "metadata": {
        "id": "1HFU3zmxuMxM"
      },
      "outputs": [],
      "source": [
        "y_predrbf = classifierrbf.predict(feauter_array)"
      ]
    },
    {
      "cell_type": "code",
      "execution_count": null,
      "metadata": {
        "colab": {
          "base_uri": "https://localhost:8080/"
        },
        "id": "0COdLs07uMxM",
        "outputId": "4366402a-04e0-4bc2-d4c4-1313fa881ab5"
      },
      "outputs": [
        {
          "name": "stdout",
          "output_type": "stream",
          "text": [
            "Accuracy: 0.9660290237467019\n"
          ]
        }
      ],
      "source": [
        "#Import scikit-learn metrics module for accuracy calculation\n",
        "from sklearn import metrics\n",
        "\n",
        "# Model Accuracy: how often is the classifier correct?\n",
        "print(\"Accuracy:\",metrics.accuracy_score(labels_array, y_predrbf))"
      ]
    },
    {
      "cell_type": "code",
      "execution_count": null,
      "metadata": {
        "colab": {
          "base_uri": "https://localhost:8080/"
        },
        "id": "I33UMHNuby4y",
        "outputId": "03f1d6fe-e7a4-48b6-daa2-caa46dac30e2"
      },
      "outputs": [
        {
          "name": "stdout",
          "output_type": "stream",
          "text": [
            "              precision    recall  f1-score   support\n",
            "\n",
            "           1       0.95      0.93      0.94       724\n",
            "           2       0.97      0.98      0.98      2040\n",
            "           3       0.96      0.96      0.96       268\n",
            "\n",
            "    accuracy                           0.97      3032\n",
            "   macro avg       0.96      0.96      0.96      3032\n",
            "weighted avg       0.97      0.97      0.97      3032\n",
            "\n"
          ]
        }
      ],
      "source": [
        "from sklearn.metrics import classification_report\n",
        "print(classification_report(labels_array, y_predrbf))\n",
        "#CAE"
      ]
    },
    {
      "cell_type": "code",
      "execution_count": null,
      "metadata": {
        "id": "AH3eAOb_2JI1"
      },
      "outputs": [],
      "source": [
        "import pickle\n",
        "\n",
        "pickle_out = open(\"/content/drive/MyDrive/files/RDF_pred.pickle\",\"wb\")\n",
        "pickle.dump(y_predrbf, pickle_out)\n",
        "pickle_out.close()"
      ]
    },
    {
      "cell_type": "code",
      "execution_count": null,
      "metadata": {
        "id": "nFgEEr_711TN"
      },
      "outputs": [],
      "source": [
        "test_proba=classifierrbf.predict_proba(feauter_array)"
      ]
    },
    {
      "cell_type": "code",
      "execution_count": null,
      "metadata": {
        "id": "26WfBd2-1vGi"
      },
      "outputs": [],
      "source": [
        "import pickle\n",
        "\n",
        "pickle_out = open(\"/content/drive/MyDrive/files/RDF_proba.pickle\",\"wb\")\n",
        "pickle.dump(test_proba, pickle_out)\n",
        "pickle_out.close()"
      ]
    },
    {
      "cell_type": "code",
      "execution_count": null,
      "metadata": {
        "id": "OP7zPYsZ2TWL"
      },
      "outputs": [],
      "source": []
    },
    {
      "cell_type": "markdown",
      "metadata": {
        "id": "jc82t8dbsnPH"
      },
      "source": [
        "# New propabil 4 fa"
      ]
    },
    {
      "cell_type": "code",
      "execution_count": null,
      "metadata": {
        "id": "418T23CNstxq"
      },
      "outputs": [],
      "source": [
        "import pickle\n",
        "pickle_in = open(\"/content/drive/MyDrive/dia/lianear_prob.pickle\",\"rb\")\n",
        "\n",
        "test_probabilityliner2= pickle.load(pickle_in)"
      ]
    },
    {
      "cell_type": "code",
      "execution_count": null,
      "metadata": {
        "id": "97nyjbZU01za"
      },
      "outputs": [],
      "source": [
        "import pickle\n",
        "pickle_in = open(\"/content/drive/MyDrive/dia/prob_rbf_ova.pickle\",\"rb\")\n",
        "test_probabilityrdf2= pickle.load(pickle_in)"
      ]
    },
    {
      "cell_type": "code",
      "execution_count": null,
      "metadata": {
        "id": "KCu5Jiry01nK"
      },
      "outputs": [],
      "source": [
        "import pickle\n",
        "pickle_in = open(\"/content/drive/MyDrive/files/test1_predict_proba.pickle\",\"rb\")\n",
        "test_probabilityliner1= pickle.load(pickle_in)"
      ]
    },
    {
      "cell_type": "code",
      "execution_count": null,
      "metadata": {
        "colab": {
          "base_uri": "https://localhost:8080/"
        },
        "id": "vS9LzYDo2XLW",
        "outputId": "5fc8304b-6d8c-4169-e6f3-ce771157e166"
      },
      "outputs": [
        {
          "data": {
            "text/plain": [
              "3032"
            ]
          },
          "execution_count": 5,
          "metadata": {},
          "output_type": "execute_result"
        }
      ],
      "source": [
        "import pickle\n",
        "pickle_in = open(\"/content/drive/MyDrive/files/RDF_proba.pickle\",\"rb\")\n",
        "test_probabilityrdf1= pickle.load(pickle_in)\n",
        "len(test_probabilityrdf1)"
      ]
    },
    {
      "cell_type": "code",
      "execution_count": null,
      "metadata": {
        "id": "PK5V-nwAsuLX"
      },
      "outputs": [],
      "source": [
        "import pandas  as pd\n",
        "import numpy as np\n",
        "\n",
        "arraymax=[]\n",
        "arraymin=[]\n",
        "arraysom=[]\n",
        "arrayproduct=[]\n",
        "arraymean=[]\n",
        "arraymax = np.array([[max(test_probabilityliner1[0][0],test_probabilityliner2[0][0],test_probabilityrdf1[0][0],test_probabilityrdf2[0][0]),max(test_probabilityliner1[0][1],test_probabilityliner2[0][1],test_probabilityrdf1[0][1],test_probabilityrdf2[0][1]),max(test_probabilityliner1[0][2],test_probabilityliner2[0][2],test_probabilityrdf1[0][2],test_probabilityrdf2[0][2])]])\n",
        "\n",
        "arraymin = np.array([[min(test_probabilityliner1[0][0],test_probabilityliner2[0][0],test_probabilityrdf1[0][0],test_probabilityrdf2[0][0]),min(test_probabilityliner1[0][1],test_probabilityliner2[0][1],test_probabilityrdf1[0][1],test_probabilityrdf2[0][1]),min(test_probabilityliner1[0][2],test_probabilityliner2[0][2],test_probabilityrdf1[0][2],test_probabilityrdf2[0][2])]])\n",
        "\n",
        "arraymean = np.array([[(test_probabilityliner1[0][0]+test_probabilityliner2[0][0]+test_probabilityrdf1[0][0]+test_probabilityrdf2[0][0])/4,(test_probabilityliner1[0][1]+test_probabilityliner2[0][1]+test_probabilityrdf1[0][1]+test_probabilityrdf2[0][1])/4,(test_probabilityliner1[0][2]+test_probabilityliner2[0][2]+test_probabilityrdf1[0][2]+test_probabilityrdf2[0][2])/4]])\n",
        "\n",
        "arraysom = np.array([[(test_probabilityliner1[0][0]+test_probabilityliner2[0][0]+test_probabilityrdf1[0][0]+test_probabilityrdf2[0][0]),(test_probabilityliner1[0][1]+test_probabilityliner2[0][1]+test_probabilityrdf1[0][1]+test_probabilityrdf2[0][1]),(test_probabilityliner1[0][2]+test_probabilityliner2[0][2]+test_probabilityrdf1[0][2]+test_probabilityrdf2[0][2])]])\n",
        "\n",
        "arrayproduct = np.array([[(test_probabilityliner1[0][0]+test_probabilityliner2[0][0]+test_probabilityrdf1[0][0]+test_probabilityrdf2[0][0]),(test_probabilityliner1[0][1]+test_probabilityliner2[0][1]+test_probabilityrdf1[0][1]+test_probabilityrdf2[0][1]),(test_probabilityliner1[0][2]+test_probabilityliner2[0][2]+test_probabilityrdf1[0][2]+test_probabilityrdf2[0][2])]])\n",
        "\n",
        "for i in range(1,len(test_probabilityliner1)-1):\n",
        "  rowmax =np.array([[max(test_probabilityliner1[i][0],test_probabilityliner2[i][0],test_probabilityrdf1[i][0],test_probabilityrdf2[i][0]),max(test_probabilityliner1[i][1],test_probabilityliner2[i][1],test_probabilityrdf1[i][1],test_probabilityrdf2[i][1]),max(test_probabilityliner1[i][2],test_probabilityliner2[i][2],test_probabilityrdf1[i][2],test_probabilityrdf2[i][2])]])\n",
        "\n",
        "  arraymax = np.r_[arraymax,rowmax]\n",
        "  rowmin =np.array([[min(test_probabilityliner1[i][0],test_probabilityliner2[i][0],test_probabilityrdf1[i][0],test_probabilityrdf2[i][0]),min(test_probabilityliner1[i][1],test_probabilityliner2[i][1],test_probabilityrdf1[i][1],test_probabilityrdf2[i][1]), min(test_probabilityliner1[i][2],test_probabilityliner2[i][2],test_probabilityrdf1[i][2],test_probabilityrdf2[i][2])]])\n",
        "\n",
        "  arraymin = np.r_[arraymin,rowmin]\n",
        "  rowsom =np.array([[(test_probabilityliner1[i][0]+test_probabilityliner2[i][0]+test_probabilityrdf1[i][0]+test_probabilityrdf2[i][0]),(test_probabilityliner1[i][1]+test_probabilityliner2[i][1]+test_probabilityrdf1[i][1]+test_probabilityrdf2[i][1]),(test_probabilityliner1[i][2]+test_probabilityliner2[i][2]+test_probabilityrdf1[i][2]+test_probabilityrdf2[i][2])]])\n",
        "\n",
        "  arraysom = np.r_[arraysom,rowsom]\n",
        "  rowproduct =np.array([[(test_probabilityliner1[i][0]+test_probabilityliner2[i][0]+test_probabilityrdf1[i][0]+test_probabilityrdf2[i][0]),(test_probabilityliner1[i][1]+test_probabilityliner2[i][1]+test_probabilityrdf1[i][1]+test_probabilityrdf2[i][1]),(test_probabilityliner1[i][2]+test_probabilityliner2[i][2]+test_probabilityrdf1[i][2]+test_probabilityrdf2[i][2])]])\n",
        "\n",
        "  arrayproduct = np.r_[arrayproduct,rowproduct]\n",
        "  rowmean =np.array([[(test_probabilityliner1[i][0]+test_probabilityliner2[i][0]+test_probabilityrdf1[i][0]+test_probabilityrdf2[i][0])/4,(test_probabilityliner1[i][1]+test_probabilityliner2[i][1]+test_probabilityrdf1[i][1]+test_probabilityrdf2[i][1])/4,(test_probabilityliner1[i][2]+test_probabilityliner2[i][2]+test_probabilityrdf1[i][2]+test_probabilityrdf2[i][2])/4]])\n",
        "\n",
        "  arraymean = np.r_[arraymean,rowmean]"
      ]
    },
    {
      "cell_type": "code",
      "execution_count": null,
      "metadata": {
        "colab": {
          "base_uri": "https://localhost:8080/"
        },
        "id": "oTEvjmHTsuLY",
        "outputId": "6a636eb5-b693-4a02-b6f6-0ff55f9a4b87"
      },
      "outputs": [
        {
          "name": "stdout",
          "output_type": "stream",
          "text": [
            "this max=3031\n",
            "this min=3031\n",
            "this som=3031\n",
            "this product=3031\n",
            "this mean=3031\n"
          ]
        }
      ],
      "source": [
        "print(\"this max=\"+str(len(arraymax)))\n",
        "print(\"this min=\"+str(len(arraymin)))\n",
        "print(\"this som=\"+str(len(arraysom)))\n",
        "print(\"this product=\"+str(len(arrayproduct)))\n",
        "print(\"this mean=\"+str(len(arraymean)))"
      ]
    },
    {
      "cell_type": "code",
      "execution_count": null,
      "metadata": {
        "id": "I0FXzijvsuLY"
      },
      "outputs": [],
      "source": [
        "\n",
        "ar_predict_max=[]\n",
        "ar_predict_min=[]\n",
        "ar_predict_som=[]\n",
        "ar_predict_product=[]\n",
        "ar_predict_mean=[]\n",
        "j1= np.unravel_index(arraymax[0].argmax(), arraymax.shape)\n",
        "ar_predict_max = np.array([j1[1]+1])\n",
        "j2= np.unravel_index(arraymin[0].argmax(), arraymin.shape)\n",
        "ar_predict_min = np.array([j2[1]+1])\n",
        "j3= np.unravel_index(arraymean[0].argmax(), arraymean.shape)\n",
        "ar_predict_mean =  np.array([j3[1]+1])\n",
        "j4= np.unravel_index(arraysom[0].argmax(), arraysom.shape)\n",
        "ar_predict_som =  np.array([j4[1]+1])\n",
        "j5= np.unravel_index(arrayproduct[0].argmax(), arrayproduct.shape)\n",
        "ar_predict_product = np.array([j5[1]+1])\n",
        "\n",
        "for i in range(1,len(test_probabilityliner1)-1):\n",
        "  j1= np.unravel_index(arraymax[i].argmax(), arraymax.shape)\n",
        "  rowmax =np.array([j1[1]+1])\n",
        "  ar_predict_max = np.r_[ar_predict_max,rowmax]\n",
        "  j2= np.unravel_index(arraymin[i].argmax(), arraymin.shape)\n",
        "  rowmin =np.array([j2[1]+1])\n",
        "  ar_predict_min = np.r_[ar_predict_min,rowmin]\n",
        "  j3= np.unravel_index(arraysom[i].argmax(), arraysom.shape)\n",
        "  rowsom =np.array([j3[1]+1])\n",
        "  ar_predict_som = np.r_[ar_predict_som,rowsom]\n",
        "  j4= np.unravel_index(arrayproduct[i].argmax(), arrayproduct.shape)\n",
        "  rowproduct =np.array([j4[1]+1])\n",
        "  ar_predict_product = np.r_[ar_predict_product,rowproduct]\n",
        "  j5= np.unravel_index(arraymean[i].argmax(), arraymean.shape)\n",
        "  rowmean =np.array([j5[1]+1])\n",
        "  ar_predict_mean = np.r_[ar_predict_mean,rowmean]\n"
      ]
    },
    {
      "cell_type": "code",
      "execution_count": null,
      "metadata": {
        "colab": {
          "base_uri": "https://localhost:8080/"
        },
        "id": "3FdKZEyTsuLZ",
        "outputId": "d87b72bc-35e3-41ed-a98e-854cc2502d25"
      },
      "outputs": [
        {
          "data": {
            "text/plain": [
              "3031"
            ]
          },
          "execution_count": 20,
          "metadata": {},
          "output_type": "execute_result"
        }
      ],
      "source": [
        "len(ar_predict_mean)"
      ]
    },
    {
      "cell_type": "code",
      "execution_count": null,
      "metadata": {
        "id": "UcI5YXL_suLa"
      },
      "outputs": [],
      "source": [
        "array=labels_array[:len(labels_array)-1]"
      ]
    },
    {
      "cell_type": "code",
      "execution_count": null,
      "metadata": {
        "colab": {
          "base_uri": "https://localhost:8080/"
        },
        "id": "Ta-Jnq5QsuLb",
        "outputId": "8bac1075-b3e6-4376-a133-b2e64fae1d5a"
      },
      "outputs": [
        {
          "name": "stdout",
          "output_type": "stream",
          "text": [
            "Accuracy with max: 98.31738700098978 %\n",
            "Accuracy with min: 98.41636423622568 %\n",
            "Accuracy with som: 98.74628835367865 %\n",
            "Accuracywith product: 98.74628835367865 %\n",
            "Accuracy with mean: 98.74628835367865 %\n"
          ]
        }
      ],
      "source": [
        "#Import scikit-learn metrics module for accuracy calculation\n",
        "from sklearn import metrics\n",
        "\n",
        "# Model Accuracy: how often is the classifier correct?\n",
        "print(\"Accuracy with max:\",metrics.accuracy_score(array, ar_predict_max)*100,\"%\")\n",
        "print(\"Accuracy with min:\",metrics.accuracy_score(array, ar_predict_min)*100,\"%\")\n",
        "print(\"Accuracy with som:\",metrics.accuracy_score(array, ar_predict_som)*100,\"%\")\n",
        "print(\"Accuracywith product:\",metrics.accuracy_score(array, ar_predict_product)*100,\"%\")\n",
        "print(\"Accuracy with mean:\",metrics.accuracy_score(array, ar_predict_mean)*100,\"%\")\n"
      ]
    },
    {
      "cell_type": "markdown",
      "metadata": {
        "id": "9w1qcuaAtOPf"
      },
      "source": [
        "# old svm"
      ]
    },
    {
      "cell_type": "code",
      "execution_count": null,
      "metadata": {
        "colab": {
          "base_uri": "https://localhost:8080/"
        },
        "id": "PeNM_flcuMxM",
        "outputId": "69b43c44-6263-4631-ebcb-07de4baae040"
      },
      "outputs": [
        {
          "name": "stdout",
          "output_type": "stream",
          "text": [
            "              precision    recall  f1-score   support\n",
            "\n",
            "           1       0.95      0.93      0.94       724\n",
            "           2       0.97      0.98      0.98      2040\n",
            "           3       0.96      0.96      0.96       268\n",
            "\n",
            "    accuracy                           0.97      3032\n",
            "   macro avg       0.96      0.96      0.96      3032\n",
            "weighted avg       0.97      0.97      0.97      3032\n",
            "\n"
          ]
        }
      ],
      "source": [
        "from sklearn.metrics import classification_report\n",
        "print(classification_report(labels_array, y_pred))\n",
        "#CAE #C= 10, kernel='rbf',"
      ]
    },
    {
      "cell_type": "code",
      "execution_count": null,
      "metadata": {
        "id": "TBRc9wBqPW5U"
      },
      "outputs": [],
      "source": [
        "from sklearn import svm, datasets\n",
        "from sklearn.model_selection import GridSearchCV"
      ]
    },
    {
      "cell_type": "code",
      "execution_count": null,
      "metadata": {
        "id": "49XWzwrtRLk8"
      },
      "outputs": [],
      "source": [
        "parameters = {'kernel':('linear', 'rbf'),'C': [ 10, 100],\n",
        "              'gamma': [ 0.001, 0.0001]}\n"
      ]
    },
    {
      "cell_type": "code",
      "execution_count": null,
      "metadata": {
        "id": "p8cI7-GHdc0-"
      },
      "outputs": [],
      "source": [
        "parameters = {'kernel':('linear', 'rbf'),'C': [0.1, 1, 10, 100, 1000],\n",
        "              'gamma': [1, 0.1, 0.01, 0.001, 0.0001]}"
      ]
    },
    {
      "cell_type": "code",
      "execution_count": null,
      "metadata": {
        "id": "b8weUmtErJgi"
      },
      "outputs": [],
      "source": [
        "from sklearn.svm import SVC,LinearSVC\n",
        "classifier =SVC( probability=True)\n",
        "#LinearSVC(),decision_function_shape='ovo'\n",
        "\n",
        "\n"
      ]
    },
    {
      "cell_type": "markdown",
      "metadata": {
        "id": "M6G7-iy2t2Ud"
      },
      "source": []
    },
    {
      "cell_type": "code",
      "execution_count": null,
      "metadata": {
        "id": "4U8MbMBBxP96"
      },
      "outputs": [],
      "source": [
        "clf = GridSearchCV(classifier, parameters)"
      ]
    },
    {
      "cell_type": "code",
      "execution_count": null,
      "metadata": {
        "id": "jFyavNsrRImK"
      },
      "outputs": [],
      "source": [
        "\n",
        "clf.fit(arraytrainf, arraytrainl)"
      ]
    },
    {
      "cell_type": "markdown",
      "metadata": {
        "id": "A7dxOsMrBfX6"
      },
      "source": [
        "gknokgennknerkf"
      ]
    },
    {
      "cell_type": "code",
      "execution_count": null,
      "metadata": {
        "id": "w79GYI22RTED"
      },
      "outputs": [],
      "source": [
        "\n",
        "sorted(clf.cv_results_.keys())\n"
      ]
    },
    {
      "cell_type": "code",
      "execution_count": null,
      "metadata": {
        "id": "UJ3_ZkSVKqUN"
      },
      "outputs": [],
      "source": [
        "print(\" Results from Grid Search \" )\n",
        "print(\"\\n The best estimator across ALL searched params:\\n\",clf.best_estimator_)\n",
        "print(\"\\n The best score across ALL searched params:\\n\",clf.best_score_)\n",
        "print(\"\\n The best parameters across ALL searched params:\\n\",clf.best_params_)"
      ]
    },
    {
      "cell_type": "code",
      "execution_count": null,
      "metadata": {
        "id": "aSIPKpQcnKsj"
      },
      "outputs": [],
      "source": [
        " Results from Grid Search\n",
        "\n",
        " The best estimator across ALL searched params:\n",
        " SVC(C=100, gamma=0.001, probability=True)\n",
        "\n",
        " The best score across ALL searched params:\n",
        " 0.9501709434274928\n",
        "\n",
        " The best parameters across ALL searched params:\n",
        " {'C': 100, 'gamma': 0.001, 'kernel': 'rbf'}\n",
        " Results from Grid Search\n",
        "\n",
        " The best estimator across ALL searched params:\n",
        " SVC(C=100, gamma=0.001, probability=True)\n",
        "\n",
        " The best score across ALL searched params:\n",
        " 0.9501709434274928\n",
        "\n",
        " The best parameters across ALL searched params:\n",
        " {'C': 100, 'gamma': 0.001, 'kernel': 'rbf'}"
      ]
    },
    {
      "cell_type": "code",
      "execution_count": null,
      "metadata": {
        "id": "_0k6iOuymtdJ"
      },
      "outputs": [],
      "source": [
        "'''\n",
        "Results from Grid Search\n",
        "\n",
        " The best estimator across ALL searched params:\n",
        " SVC(C=10, probability=True)\n",
        "\n",
        " The best score across ALL searched params:\n",
        " 0.9606212023071468\n",
        "\n",
        " The best parameters across ALL searched params:\n",
        " {'C': 10, 'kernel': 'rbf'}'''"
      ]
    },
    {
      "cell_type": "code",
      "execution_count": null,
      "metadata": {
        "id": "AWMnBijbaTUG"
      },
      "outputs": [],
      "source": []
    },
    {
      "cell_type": "code",
      "execution_count": null,
      "metadata": {
        "id": "VG-0NaXCaTbK"
      },
      "outputs": [],
      "source": [
        "#, gamma=0.01\n",
        "from sklearn.svm import SVC,LinearSVC\n",
        "classifier =SVC(C= 50, kernel='linear', probability=True)\n",
        "#LinearSVC(),decision_function_shape='ovo'\n"
      ]
    },
    {
      "cell_type": "code",
      "execution_count": null,
      "metadata": {
        "colab": {
          "base_uri": "https://localhost:8080/"
        },
        "id": "Vln5oOtQaTbK",
        "outputId": "0fd90e94-7bee-4e34-9f13-2b2cb75bc2c5"
      },
      "outputs": [
        {
          "data": {
            "text/plain": [
              "SVC(C=50, kernel='linear', probability=True)"
            ]
          },
          "execution_count": 16,
          "metadata": {},
          "output_type": "execute_result"
        }
      ],
      "source": [
        "classifier.fit(arraytrainf,arraytrainl)"
      ]
    },
    {
      "cell_type": "code",
      "execution_count": null,
      "metadata": {
        "id": "xl7lF4_saTbL"
      },
      "outputs": [],
      "source": [
        "y_pred = classifier.predict(feauter_array)"
      ]
    },
    {
      "cell_type": "code",
      "execution_count": null,
      "metadata": {
        "colab": {
          "base_uri": "https://localhost:8080/"
        },
        "id": "zp7Fg5i1aTbL",
        "outputId": "52f7fbcc-01f0-4b11-d8d9-88e77fb64eed"
      },
      "outputs": [
        {
          "name": "stdout",
          "output_type": "stream",
          "text": [
            "Accuracy: 0.9436015831134564\n"
          ]
        }
      ],
      "source": [
        "#Import scikit-learn metrics module for accuracy calculation\n",
        "from sklearn import metrics\n",
        "\n",
        "# Model Accuracy: how often is the classifier correct?\n",
        "print(\"Accuracy:\",metrics.accuracy_score(labels_array, y_pred))"
      ]
    },
    {
      "cell_type": "code",
      "execution_count": null,
      "metadata": {
        "colab": {
          "base_uri": "https://localhost:8080/"
        },
        "id": "ZNAfB-95aTbL",
        "outputId": "7167cb59-1343-4354-821f-af47e557a505"
      },
      "outputs": [
        {
          "name": "stdout",
          "output_type": "stream",
          "text": [
            "              precision    recall  f1-score   support\n",
            "\n",
            "           1       0.90      0.90      0.90       724\n",
            "           2       0.96      0.96      0.96      2040\n",
            "           3       0.93      0.93      0.93       268\n",
            "\n",
            "    accuracy                           0.94      3032\n",
            "   macro avg       0.93      0.93      0.93      3032\n",
            "weighted avg       0.94      0.94      0.94      3032\n",
            "\n"
          ]
        }
      ],
      "source": [
        "from sklearn.metrics import classification_report\n",
        "print(classification_report(labels_array, y_pred))\n",
        "#CAE"
      ]
    },
    {
      "cell_type": "code",
      "execution_count": null,
      "metadata": {
        "colab": {
          "base_uri": "https://localhost:8080/"
        },
        "id": "GfnjG_FnrJgj",
        "outputId": "6d845098-ebb8-4de9-e0e5-d7eb85100607"
      },
      "outputs": [
        {
          "data": {
            "text/plain": [
              "SVC(kernel='poly', probability=True)"
            ]
          },
          "execution_count": 47,
          "metadata": {},
          "output_type": "execute_result"
        }
      ],
      "source": [
        "classifier.fit(array0,array1)"
      ]
    },
    {
      "cell_type": "code",
      "execution_count": null,
      "metadata": {
        "id": "gE8om6S_rPSo"
      },
      "outputs": [],
      "source": [
        "y_pred = classifier.predict(feauter_array)"
      ]
    },
    {
      "cell_type": "code",
      "execution_count": null,
      "metadata": {
        "colab": {
          "base_uri": "https://localhost:8080/"
        },
        "id": "ohxS2ppPrPSo",
        "outputId": "e6f6cd98-0b75-4b0a-e7a2-0068495a778e"
      },
      "outputs": [
        {
          "name": "stdout",
          "output_type": "stream",
          "text": [
            "Accuracy: 0.954155672823219\n"
          ]
        }
      ],
      "source": [
        "#Import scikit-learn metrics module for accuracy calculation\n",
        "from sklearn import metrics\n",
        "\n",
        "# Model Accuracy: how often is the classifier correct?\n",
        "print(\"Accuracy:\",metrics.accuracy_score(labels_array, y_pred))"
      ]
    },
    {
      "cell_type": "code",
      "execution_count": null,
      "metadata": {
        "colab": {
          "base_uri": "https://localhost:8080/"
        },
        "id": "qCEIJPZ_rPSp",
        "outputId": "e462091b-297e-48dc-8899-3ae8e90a6b56"
      },
      "outputs": [
        {
          "name": "stdout",
          "output_type": "stream",
          "text": [
            "              precision    recall  f1-score   support\n",
            "\n",
            "           1       0.92      0.92      0.92       724\n",
            "           2       0.97      0.97      0.97      2040\n",
            "           3       0.94      0.94      0.94       268\n",
            "\n",
            "    accuracy                           0.95      3032\n",
            "   macro avg       0.94      0.94      0.94      3032\n",
            "weighted avg       0.95      0.95      0.95      3032\n",
            "\n"
          ]
        }
      ],
      "source": [
        "from sklearn.metrics import classification_report\n",
        "print(classification_report(labels_array, y_pred))\n",
        "#CAE"
      ]
    },
    {
      "cell_type": "code",
      "execution_count": null,
      "metadata": {
        "id": "3sHPJVZLryRu"
      },
      "outputs": [],
      "source": [
        "from sklearn.svm import SVC,LinearSVC\n",
        "classifier =SVC(kernel='rbf', probability=True)\n",
        "#LinearSVC(),decision_function_shape='ovo'\n",
        "\n",
        "\n"
      ]
    },
    {
      "cell_type": "code",
      "execution_count": null,
      "metadata": {
        "colab": {
          "base_uri": "https://localhost:8080/"
        },
        "id": "8Mk_U8LDryRu",
        "outputId": "43a31cbb-bf93-4204-aac2-c4551d0091f1"
      },
      "outputs": [
        {
          "data": {
            "text/plain": [
              "SVC(probability=True)"
            ]
          },
          "execution_count": 52,
          "metadata": {},
          "output_type": "execute_result"
        }
      ],
      "source": [
        "classifier.fit(array0,array1)"
      ]
    },
    {
      "cell_type": "code",
      "execution_count": null,
      "metadata": {
        "id": "hwr_RZxJryRv"
      },
      "outputs": [],
      "source": [
        "y_pred = classifier.predict(feauter_array)"
      ]
    },
    {
      "cell_type": "code",
      "execution_count": null,
      "metadata": {
        "colab": {
          "base_uri": "https://localhost:8080/"
        },
        "id": "lNQkC2_IryRv",
        "outputId": "a40e8a9c-f345-4b04-a241-47cee8575d85"
      },
      "outputs": [
        {
          "name": "stdout",
          "output_type": "stream",
          "text": [
            "Accuracy: 0.9564643799472295\n"
          ]
        }
      ],
      "source": [
        "#Import scikit-learn metrics module for accuracy calculation\n",
        "from sklearn import metrics\n",
        "\n",
        "# Model Accuracy: how often is the classifier correct?\n",
        "print(\"Accuracy:\",metrics.accuracy_score(labels_array, y_pred))"
      ]
    },
    {
      "cell_type": "code",
      "execution_count": null,
      "metadata": {
        "colab": {
          "base_uri": "https://localhost:8080/"
        },
        "id": "s8vJzcNxryRw",
        "outputId": "9ef9726f-fb35-46e5-e593-0f2cb2434a23"
      },
      "outputs": [
        {
          "name": "stdout",
          "output_type": "stream",
          "text": [
            "              precision    recall  f1-score   support\n",
            "\n",
            "           1       0.95      0.90      0.92       724\n",
            "           2       0.96      0.98      0.97      2040\n",
            "           3       0.96      0.94      0.95       268\n",
            "\n",
            "    accuracy                           0.96      3032\n",
            "   macro avg       0.95      0.94      0.95      3032\n",
            "weighted avg       0.96      0.96      0.96      3032\n",
            "\n"
          ]
        }
      ],
      "source": [
        "from sklearn.metrics import classification_report\n",
        "print(classification_report(labels_array, y_pred))\n",
        "#CAE"
      ]
    },
    {
      "cell_type": "code",
      "execution_count": null,
      "metadata": {
        "id": "KS3wyOtEw7fw"
      },
      "outputs": [],
      "source": [
        "from sklearn.svm import SVC,LinearSVC\n",
        "classifier =SVC(C=1.0, kernel='rbf', degree=3, gamma='auto', probability=True)\n",
        "#(kernel='precomputed', probability=True)\n",
        "#LinearSVC(),decision_function_shape='ovo'\n",
        "\n",
        "\n"
      ]
    },
    {
      "cell_type": "code",
      "execution_count": null,
      "metadata": {
        "id": "tyHdI2aj7WRH"
      },
      "outputs": [],
      "source": [
        "# (C=1.0, kernel='rbf', degree=3, gamma='auto')"
      ]
    },
    {
      "cell_type": "code",
      "execution_count": null,
      "metadata": {
        "colab": {
          "base_uri": "https://localhost:8080/"
        },
        "id": "OlOUV7oGw7fx",
        "outputId": "83abccd9-0c99-44a0-9627-596d83769ee8"
      },
      "outputs": [
        {
          "data": {
            "text/plain": [
              "SVC(gamma='auto', probability=True)"
            ]
          },
          "execution_count": 41,
          "metadata": {},
          "output_type": "execute_result"
        }
      ],
      "source": [
        "classifier.fit(array0,array1)"
      ]
    },
    {
      "cell_type": "code",
      "execution_count": null,
      "metadata": {
        "id": "4cF8ycjzw7fy"
      },
      "outputs": [],
      "source": [
        "y_pred = classifier.predict(feauter_array)"
      ]
    },
    {
      "cell_type": "code",
      "execution_count": null,
      "metadata": {
        "colab": {
          "base_uri": "https://localhost:8080/"
        },
        "id": "p1exosVIw7fz",
        "outputId": "c5e1c973-088d-4d08-bfa0-6b9b3fc74793"
      },
      "outputs": [
        {
          "name": "stdout",
          "output_type": "stream",
          "text": [
            "Accuracy: 0.8479551451187335\n"
          ]
        }
      ],
      "source": [
        "#Import scikit-learn metrics module for accuracy calculation\n",
        "from sklearn import metrics\n",
        "\n",
        "# Model Accuracy: how often is the classifier correct?\n",
        "print(\"Accuracy:\",metrics.accuracy_score(labels_array, y_pred))"
      ]
    },
    {
      "cell_type": "code",
      "execution_count": null,
      "metadata": {
        "colab": {
          "base_uri": "https://localhost:8080/"
        },
        "id": "PneE5YNDw7fz",
        "outputId": "4d2389bd-b2dc-4e9b-ec59-33d0bf522c8d"
      },
      "outputs": [
        {
          "name": "stdout",
          "output_type": "stream",
          "text": [
            "              precision    recall  f1-score   support\n",
            "\n",
            "           1       0.92      0.49      0.64       724\n",
            "           2       0.83      0.99      0.90      2040\n",
            "           3       0.95      0.74      0.83       268\n",
            "\n",
            "    accuracy                           0.85      3032\n",
            "   macro avg       0.90      0.74      0.79      3032\n",
            "weighted avg       0.86      0.85      0.83      3032\n",
            "\n"
          ]
        }
      ],
      "source": [
        "from sklearn.metrics import classification_report\n",
        "print(classification_report(labels_array, y_pred))\n",
        "#CAE"
      ]
    },
    {
      "cell_type": "markdown",
      "metadata": {
        "id": "n1shA5PGFMgg"
      },
      "source": [
        "# LEN TRAIN DATA AND TEST DATA"
      ]
    },
    {
      "cell_type": "code",
      "execution_count": null,
      "metadata": {
        "id": "PwxaGtuZO_Xl"
      },
      "outputs": [],
      "source": [
        "import pickle\n",
        "pickle_in = open(\"/content/drive/MyDrive/trainGen.pickle\",\"rb\")\n",
        "arraytrain2= pickle.load(pickle_in)"
      ]
    },
    {
      "cell_type": "code",
      "execution_count": null,
      "metadata": {
        "colab": {
          "base_uri": "https://localhost:8080/"
        },
        "id": "jD5uuZ36hyVV",
        "outputId": "ec3f098f-8491-4400-de55-e3df868d46de"
      },
      "outputs": [
        {
          "data": {
            "text/plain": [
              "(9091, 2048)"
            ]
          },
          "execution_count": 35,
          "metadata": {},
          "output_type": "execute_result"
        }
      ],
      "source": [
        "(arraytrain2.shape)"
      ]
    },
    {
      "cell_type": "code",
      "execution_count": null,
      "metadata": {
        "id": "nUuofcZ3hA_3"
      },
      "outputs": [],
      "source": [
        "import pickle\n",
        "pickle_in = open(\"/content/drive/MyDrive/featurs/trainGeny.pickle\",\"rb\")\n",
        "arraytrainalb= pickle.load(pickle_in)"
      ]
    },
    {
      "cell_type": "code",
      "execution_count": null,
      "metadata": {
        "id": "rlnFQInwgw-Q"
      },
      "outputs": [],
      "source": [
        "import pickle\n",
        "pickle_in = open(\"/content/drive/MyDrive/featurs/testGen.pickle\",\"rb\")\n",
        "arraytest2= pickle.load(pickle_in)"
      ]
    },
    {
      "cell_type": "code",
      "execution_count": null,
      "metadata": {
        "id": "sfpeCbUsjG6e"
      },
      "outputs": [],
      "source": [
        "a=arraytrain2.remove(arraytest2)\n",
        "len(a)"
      ]
    },
    {
      "cell_type": "code",
      "execution_count": null,
      "metadata": {
        "id": "GSkPoGaTPIvT"
      },
      "outputs": [],
      "source": [
        "import numpy as np"
      ]
    },
    {
      "cell_type": "code",
      "execution_count": null,
      "metadata": {
        "colab": {
          "base_uri": "https://localhost:8080/"
        },
        "id": "Z-34bkuhQY44",
        "outputId": "31775c05-a6e0-465f-a224-dd6a64ebc8cc"
      },
      "outputs": [
        {
          "data": {
            "text/plain": [
              "(9091, 4096)"
            ]
          },
          "execution_count": 15,
          "metadata": {},
          "output_type": "execute_result"
        }
      ],
      "source": [
        "arraytrainf.shape"
      ]
    },
    {
      "cell_type": "code",
      "execution_count": null,
      "metadata": {
        "colab": {
          "base_uri": "https://localhost:8080/"
        },
        "id": "N1kQnd5SO8OL",
        "outputId": "aa3fde0a-f526-4c66-bde2-b86f3011f20b"
      },
      "outputs": [
        {
          "data": {
            "text/plain": [
              "6144"
            ]
          },
          "execution_count": 36,
          "metadata": {},
          "output_type": "execute_result"
        }
      ],
      "source": [
        "allarraytrain=[]\n",
        "allarraytrain=np.insert(arraytrainf[0],len(allarraytrain)-1,arraytrain2[0],axis=0)\n",
        "len(allarraytrain)"
      ]
    },
    {
      "cell_type": "code",
      "execution_count": null,
      "metadata": {
        "colab": {
          "base_uri": "https://localhost:8080/"
        },
        "id": "6odwz8B0Pz85",
        "outputId": "e9704717-8b07-46f3-a8ef-508448bc103e"
      },
      "outputs": [
        {
          "data": {
            "text/plain": [
              "(8192,)"
            ]
          },
          "execution_count": 43,
          "metadata": {},
          "output_type": "execute_result"
        }
      ],
      "source": [
        "all.shape"
      ]
    },
    {
      "cell_type": "code",
      "execution_count": null,
      "metadata": {
        "id": "jB6mhe3aRfXa"
      },
      "outputs": [],
      "source": [
        "allarraytrain=[]\n",
        "row=[]"
      ]
    },
    {
      "cell_type": "code",
      "execution_count": null,
      "metadata": {
        "colab": {
          "base_uri": "https://localhost:8080/"
        },
        "id": "Y6L80MtOSTsL",
        "outputId": "1a9705c3-517d-4496-daf6-d21e5c6069ea"
      },
      "outputs": [
        {
          "name": "stdout",
          "output_type": "stream",
          "text": [
            "(1, 6144)\n"
          ]
        }
      ],
      "source": [
        "allarraytrain = np.array([np.append(arraytrainf[0], arraytrain2[0])])\n",
        "print(allarraytrain.shape)"
      ]
    },
    {
      "cell_type": "code",
      "execution_count": null,
      "metadata": {
        "colab": {
          "base_uri": "https://localhost:8080/"
        },
        "id": "KmyR9NsUTGf8",
        "outputId": "30a32e64-a7e8-436f-8069-15f51b7435b3"
      },
      "outputs": [
        {
          "name": "stdout",
          "output_type": "stream",
          "text": [
            "9091\n"
          ]
        }
      ],
      "source": [
        "print(len(arraytrainf))"
      ]
    },
    {
      "cell_type": "code",
      "execution_count": null,
      "metadata": {
        "colab": {
          "base_uri": "https://localhost:8080/"
        },
        "id": "l7SzHx6aRTMj",
        "outputId": "12a6264d-7955-4787-8830-8157437a9a94"
      },
      "outputs": [
        {
          "name": "stdout",
          "output_type": "stream",
          "text": [
            "\n",
            "Result after appending x and y:  (9091, 6144)\n"
          ]
        }
      ],
      "source": [
        "\n",
        "\n",
        "for i in range(1,len(arraytrainf)):\n",
        "  row =np.array([np.append(arraytrainf[i], arraytrain2[i])])\n",
        "  allarraytrain = np.r_[allarraytrain,row]\n",
        "\n",
        "print(\"\\nResult after appending x and y: \", allarraytrain.shape)"
      ]
    },
    {
      "cell_type": "code",
      "execution_count": null,
      "metadata": {
        "id": "Qvbodn07qvte"
      },
      "outputs": [],
      "source": [
        "allarraytest=[]\n",
        "rowtest=[]"
      ]
    },
    {
      "cell_type": "code",
      "execution_count": null,
      "metadata": {
        "colab": {
          "base_uri": "https://localhost:8080/"
        },
        "id": "vo3zHb1xnZ0Q",
        "outputId": "11e48363-2c92-44a7-8bb7-57e44db0bdfd"
      },
      "outputs": [
        {
          "name": "stdout",
          "output_type": "stream",
          "text": [
            "(1, 6144)\n",
            "\n",
            "Result after appending x and y:  (3031, 6144)\n"
          ]
        }
      ],
      "source": [
        "\n",
        "allarraytest = np.array([np.append(feauter_array[0], arraytest2[0])])\n",
        "print(allarraytest.shape)\n",
        "\n",
        "for i in range(1,len(feauter_array)-1):\n",
        "  rowtest =np.array([np.append(feauter_array[i], arraytest2[i])])\n",
        "  allarraytest = np.r_[allarraytest,rowtest]\n",
        "\n",
        "print(\"\\nResult after appending x and y: \", allarraytest.shape)"
      ]
    },
    {
      "cell_type": "markdown",
      "metadata": {
        "id": "mTb7nFswrVnT"
      },
      "source": [
        "# New Save len data"
      ]
    },
    {
      "cell_type": "code",
      "execution_count": null,
      "metadata": {
        "id": "7VNzQQWnrcUg"
      },
      "outputs": [],
      "source": [
        "import pickle\n",
        "\n",
        "pickle_out = open(\"/content/drive/MyDrive/files/lentrainfeauter_array.pickle\",\"wb\")\n",
        "pickle.dump(allarraytrain, pickle_out)\n",
        "pickle_out.close()"
      ]
    },
    {
      "cell_type": "code",
      "execution_count": null,
      "metadata": {
        "id": "U-rKVZ2BrcUh"
      },
      "outputs": [],
      "source": [
        "import pickle\n",
        "\n",
        "pickle_out = open(\"/content/drive/MyDrive/files/lentest_array.pickle\",\"wb\")\n",
        "pickle.dump(allarraytest, pickle_out)\n",
        "pickle_out.close()"
      ]
    },
    {
      "cell_type": "code",
      "execution_count": null,
      "metadata": {
        "id": "KwjfTJlc9QW6"
      },
      "outputs": [],
      "source": [
        "\n",
        "from sklearn.svm import SVC,LinearSVC\n",
        "classifier =SVC(C= 10, kernel='rbf',decision_function_shape='ovr', probability=True)\n",
        "#LinearSVC(),decision_function_shape='ovo'\n"
      ]
    },
    {
      "cell_type": "code",
      "execution_count": null,
      "metadata": {
        "colab": {
          "base_uri": "https://localhost:8080/"
        },
        "id": "98GsBGYR9QW7",
        "outputId": "6d2d75fb-f3ca-40a9-ed2a-7569325e26af"
      },
      "outputs": [
        {
          "data": {
            "text/plain": [
              "SVC(C=10, probability=True)"
            ]
          },
          "execution_count": 95,
          "metadata": {},
          "output_type": "execute_result"
        }
      ],
      "source": [
        "classifier.fit(allarraytrain,arraytrainl)"
      ]
    },
    {
      "cell_type": "code",
      "execution_count": null,
      "metadata": {
        "id": "XmBy8gs89QW7"
      },
      "outputs": [],
      "source": [
        "y_pred = classifier.predict(allarraytest)"
      ]
    },
    {
      "cell_type": "code",
      "execution_count": null,
      "metadata": {
        "colab": {
          "base_uri": "https://localhost:8080/"
        },
        "id": "a3Cd6SpK9QW8",
        "outputId": "0d58dd54-bc41-4278-df2e-2f7b75bafd99"
      },
      "outputs": [
        {
          "name": "stdout",
          "output_type": "stream",
          "text": [
            "Accuracy: 0.9815242494226328\n"
          ]
        }
      ],
      "source": [
        "#Import scikit-learn metrics module for accuracy calculation\n",
        "from sklearn import metrics\n",
        "\n",
        "# Model Accuracy: how often is the classifier correct?\n",
        "print(\"Accuracy:\",metrics.accuracy_score(labels_array[:len(labels_array)-1], y_pred))"
      ]
    },
    {
      "cell_type": "code",
      "execution_count": null,
      "metadata": {
        "colab": {
          "base_uri": "https://localhost:8080/"
        },
        "id": "UGXu7Lpd9QW8",
        "outputId": "866efcf6-66a2-4414-aa77-252c840bf9fc"
      },
      "outputs": [
        {
          "name": "stdout",
          "output_type": "stream",
          "text": [
            "              precision    recall  f1-score   support\n",
            "\n",
            "           1       0.97      0.97      0.97       724\n",
            "           2       0.99      0.98      0.99      2040\n",
            "           3       0.95      0.98      0.97       267\n",
            "\n",
            "    accuracy                           0.98      3031\n",
            "   macro avg       0.97      0.98      0.98      3031\n",
            "weighted avg       0.98      0.98      0.98      3031\n",
            "\n"
          ]
        }
      ],
      "source": [
        "from sklearn.metrics import classification_report\n",
        "print(classification_report(labels_array[:len(labels_array)-1], y_pred))\n",
        "#CAE"
      ]
    },
    {
      "cell_type": "code",
      "execution_count": null,
      "metadata": {
        "id": "H2nm4cLo9V74"
      },
      "outputs": [],
      "source": [
        "from sklearn.svm import SVC,LinearSVC\n",
        "classifier =SVC(kernel='linear', probability=True)\n",
        "#LinearSVC(),decision_function_shape='ovo'\n",
        "\n",
        "\n"
      ]
    },
    {
      "cell_type": "code",
      "execution_count": null,
      "metadata": {
        "colab": {
          "base_uri": "https://localhost:8080/"
        },
        "id": "1fCkyU3B9V74",
        "outputId": "09aa82d2-8281-4ae9-dabc-603788b4e984"
      },
      "outputs": [
        {
          "data": {
            "text/plain": [
              "SVC(kernel='linear', probability=True)"
            ]
          },
          "execution_count": 101,
          "metadata": {},
          "output_type": "execute_result"
        }
      ],
      "source": [
        "classifier.fit(allarraytrain,arraytrainl)"
      ]
    },
    {
      "cell_type": "code",
      "execution_count": null,
      "metadata": {
        "id": "8eMu5rWB9V75"
      },
      "outputs": [],
      "source": [
        "y_pred = classifier.predict(allarraytest)"
      ]
    },
    {
      "cell_type": "code",
      "execution_count": null,
      "metadata": {
        "colab": {
          "base_uri": "https://localhost:8080/"
        },
        "id": "1IjaZmkd9V76",
        "outputId": "c9aa1100-dd7c-4dd2-983d-52776107c5fe"
      },
      "outputs": [
        {
          "name": "stdout",
          "output_type": "stream",
          "text": [
            "Accuracy: 0.974925767073573\n"
          ]
        }
      ],
      "source": [
        "#Import scikit-learn metrics module for accuracy calculation\n",
        "from sklearn import metrics\n",
        "\n",
        "# Model Accuracy: how often is the classifier correct?\n",
        "print(\"Accuracy:\",metrics.accuracy_score(labels_array[:len(labels_array)-1], y_pred))"
      ]
    },
    {
      "cell_type": "code",
      "execution_count": null,
      "metadata": {
        "colab": {
          "base_uri": "https://localhost:8080/"
        },
        "id": "z88FuzhZ9V76",
        "outputId": "a47b81c6-172f-4b5f-ea95-e07a4f17cbd1"
      },
      "outputs": [
        {
          "name": "stdout",
          "output_type": "stream",
          "text": [
            "              precision    recall  f1-score   support\n",
            "\n",
            "           1       0.97      0.96      0.96       724\n",
            "           2       0.98      0.98      0.98      2040\n",
            "           3       0.94      0.97      0.96       267\n",
            "\n",
            "    accuracy                           0.97      3031\n",
            "   macro avg       0.96      0.97      0.97      3031\n",
            "weighted avg       0.98      0.97      0.97      3031\n",
            "\n"
          ]
        }
      ],
      "source": [
        "from sklearn.metrics import classification_report\n",
        "print(classification_report(labels_array[:len(labels_array)-1], y_pred))\n",
        "#CAE"
      ]
    },
    {
      "cell_type": "markdown",
      "metadata": {
        "id": "FynJI5RUnb7G"
      },
      "source": [
        "# Voting"
      ]
    },
    {
      "cell_type": "code",
      "execution_count": null,
      "metadata": {
        "id": "LJ0T0m_gvkf_"
      },
      "outputs": [],
      "source": []
    },
    {
      "cell_type": "code",
      "execution_count": null,
      "metadata": {
        "id": "O1JxOeOnvkrC"
      },
      "outputs": [],
      "source": [
        "import pickle\n",
        "pickle_in = open(\"/content/drive/MyDrive/dia/lianear_pred.pickle\",\"rb\")\n",
        "\n",
        "test_probabilityliner2= pickle.load(pickle_in)"
      ]
    },
    {
      "cell_type": "code",
      "execution_count": null,
      "metadata": {
        "id": "92CNngtZvkrD"
      },
      "outputs": [],
      "source": [
        "import pickle\n",
        "pickle_in = open(\"/content/drive/MyDrive/dia/pred_rbf_ova.pickle\",\"rb\")\n",
        "test_prerdf2= pickle.load(pickle_in)"
      ]
    },
    {
      "cell_type": "code",
      "execution_count": null,
      "metadata": {
        "id": "n0f24bmqvkrE"
      },
      "outputs": [],
      "source": [
        "import pickle\n",
        "pickle_in = open(\"/content/drive/MyDrive/files/test_predictlinear.pickle\",\"rb\")\n",
        "test_preliner1= pickle.load(pickle_in)"
      ]
    },
    {
      "cell_type": "code",
      "execution_count": null,
      "metadata": {
        "colab": {
          "base_uri": "https://localhost:8080/"
        },
        "id": "YkectpeNvkrF",
        "outputId": "25aab9f7-8a71-41a3-ff71-8879af863813"
      },
      "outputs": [
        {
          "data": {
            "text/plain": [
              "3032"
            ]
          },
          "execution_count": 27,
          "metadata": {},
          "output_type": "execute_result"
        }
      ],
      "source": [
        "import pickle\n",
        "pickle_in = open(\"/content/drive/MyDrive/files/RDF_pred.pickle\",\"rb\")\n",
        "test_prerdf1= pickle.load(pickle_in)\n",
        "len(test_prerdf1)"
      ]
    },
    {
      "cell_type": "code",
      "execution_count": null,
      "metadata": {
        "colab": {
          "base_uri": "https://localhost:8080/"
        },
        "id": "oa3FzEIP-sXx",
        "outputId": "5c687abe-1901-431e-86a7-5b1966b08885"
      },
      "outputs": [
        {
          "data": {
            "text/plain": [
              "array([1, 1, 1, ..., 3, 3, 1])"
            ]
          },
          "execution_count": 43,
          "metadata": {},
          "output_type": "execute_result"
        }
      ],
      "source": [
        "test_prerdf1"
      ]
    },
    {
      "cell_type": "code",
      "execution_count": null,
      "metadata": {
        "id": "WVXtiBAt-Ztt"
      },
      "outputs": [],
      "source": [
        "test_probabilityliner2=test_probabilityliner2.astype(\"int\")\n",
        "test_prerdf2=test_prerdf2.astype(\"int\")"
      ]
    },
    {
      "cell_type": "code",
      "execution_count": null,
      "metadata": {
        "colab": {
          "base_uri": "https://localhost:8080/"
        },
        "id": "RhEr9cWY_Bzr",
        "outputId": "e56e953a-3b65-4f41-bf0f-7b9fc3c9bda9"
      },
      "outputs": [
        {
          "data": {
            "text/plain": [
              "array([1, 1, 1, ..., 3, 3, 3])"
            ]
          },
          "execution_count": 47,
          "metadata": {},
          "output_type": "execute_result"
        }
      ],
      "source": [
        "test_probabilityliner2+1"
      ]
    },
    {
      "cell_type": "code",
      "execution_count": null,
      "metadata": {
        "id": "Nb-juNfk8gpZ"
      },
      "outputs": [],
      "source": [
        "test_probabilityliner2=test_probabilityliner2+1\n",
        "test_prerdf2=test_prerdf2+1\n",
        "\n"
      ]
    },
    {
      "cell_type": "code",
      "execution_count": null,
      "metadata": {
        "id": "SUbUb9--9HUI"
      },
      "outputs": [],
      "source": [
        "import numpy as np\n",
        "def voting(t1,t2,t3,t4):\n",
        "  finpr=[[0,0,0]]\n",
        "\n",
        "  for i in range(len(t1)-1) :\n",
        "    pr=[0,0,0]\n",
        "    if t1[i]==1:\n",
        "      pr[0]=pr[0]+1\n",
        "    elif t1[i]==2:\n",
        "      pr[1]=pr[1]+1\n",
        "    elif t1[i]==3:\n",
        "      pr[2]=pr[2]+1\n",
        "    if t2[i]==1:\n",
        "      pr[0]=pr[0]+1\n",
        "    if t2[i]==2:\n",
        "      pr[1]=pr[1]+1\n",
        "    if t2[i]==3:\n",
        "      pr[2]=pr[2]+1\n",
        "    if t3[i]==1:\n",
        "      pr[0]=pr[0]+1\n",
        "    if t3[i]==2:\n",
        "      pr[1]=pr[1]+1\n",
        "    if t3[i]==3:\n",
        "      pr[2]=pr[2]+1\n",
        "    if t4[i]==1:\n",
        "      pr[0]=pr[0]+1\n",
        "    if t4[i]==2:\n",
        "      pr[1]=pr[1]+1\n",
        "    if t4[i]==3:\n",
        "      pr[2]=pr[2]+1\n",
        "    finpr = np.r_[finpr,[pr]]\n",
        "\n",
        "  return finpr\n",
        "\n",
        "\n"
      ]
    },
    {
      "cell_type": "code",
      "execution_count": null,
      "metadata": {
        "id": "vLiBOTIR_bhA"
      },
      "outputs": [],
      "source": [
        "f=voting(test_preliner1,test_prerdf1,test_prerdf2,test_probabilityliner2)"
      ]
    },
    {
      "cell_type": "code",
      "execution_count": null,
      "metadata": {
        "colab": {
          "base_uri": "https://localhost:8080/"
        },
        "id": "NLCDMemEKkbf",
        "outputId": "8d6b20b2-4175-4b9a-a0d8-6fd3270a48b3"
      },
      "outputs": [
        {
          "data": {
            "text/plain": [
              "(3032, 3)"
            ]
          },
          "execution_count": 52,
          "metadata": {},
          "output_type": "execute_result"
        }
      ],
      "source": [
        "f.shape"
      ]
    },
    {
      "cell_type": "code",
      "execution_count": null,
      "metadata": {
        "id": "_kjuZahRLH-7"
      },
      "outputs": [],
      "source": [
        "import random\n",
        "\n",
        "def get_pri(finpr):\n",
        "  res=[]\n",
        "  if finpr[0][0]>finpr[0][1] and finpr[0][0]>finpr[0][2] :\n",
        "    res = np.array(1)\n",
        "    #print(res)\n",
        "  elif finpr[0][0]<finpr[0][1] and finpr[0][2]<finpr[0][1]:\n",
        "     res = np.array(2)\n",
        "     #print(res)\n",
        "  elif finpr[0][0]<finpr[0][2] and finpr[0][2]>finpr[0][1]:\n",
        "     res = np.array(3)\n",
        "     print(res)\n",
        "  elif finpr[0][0]==finpr[0][2] and finpr[0][2]==finpr[0][1]:\n",
        "    res = np.array(random.choice([1,2,3]))\n",
        "    #print(res)\n",
        "  for i in range(1,len(finpr)):\n",
        "      if finpr[i][0]>finpr[i][1] and finpr[i][0]>finpr[i][2] :\n",
        "        res = np.append(res,1)\n",
        "        #print(res)\n",
        "      elif finpr[i][0]<finpr[i][1] and finpr[i][2]<finpr[i][1]:\n",
        "        res = np.append(res,2)\n",
        "        #print(res)\n",
        "      elif finpr[i][0]<finpr[i][2] and finpr[i][2]>finpr[i][1]:\n",
        "        res = np.append(res,3)\n",
        "        #print(res)\n",
        "      else:\n",
        "        res = np.append(res,random.choice([1,2,3]))\n",
        "\n",
        "  return res\n",
        "\n",
        "\n",
        "\n",
        "\n",
        "\n",
        "\n"
      ]
    },
    {
      "cell_type": "code",
      "execution_count": null,
      "metadata": {
        "id": "z-fEyNgWVNT5"
      },
      "outputs": [],
      "source": [
        "g=get_pri(f[1:])"
      ]
    },
    {
      "cell_type": "code",
      "execution_count": null,
      "metadata": {
        "colab": {
          "base_uri": "https://localhost:8080/"
        },
        "id": "48Y8q9aBWgIe",
        "outputId": "7e2d2500-0ecb-49cc-cf95-e2c4e8dc5655"
      },
      "outputs": [
        {
          "data": {
            "text/plain": [
              "array([1, 1, 1, ..., 3, 3, 3])"
            ]
          },
          "execution_count": 57,
          "metadata": {},
          "output_type": "execute_result"
        }
      ],
      "source": [
        "g"
      ]
    },
    {
      "cell_type": "code",
      "execution_count": null,
      "metadata": {
        "colab": {
          "base_uri": "https://localhost:8080/"
        },
        "id": "r7MyJsh0Vun5",
        "outputId": "b6d3db96-e447-4091-bc06-eff35ca5072c"
      },
      "outputs": [
        {
          "name": "stdout",
          "output_type": "stream",
          "text": [
            "              precision    recall  f1-score   support\n",
            "\n",
            "           1       0.97      0.94      0.95       724\n",
            "           2       0.98      0.98      0.98      2040\n",
            "           3       0.90      0.95      0.92       267\n",
            "\n",
            "    accuracy                           0.97      3031\n",
            "   macro avg       0.95      0.96      0.95      3031\n",
            "weighted avg       0.97      0.97      0.97      3031\n",
            "\n"
          ]
        }
      ],
      "source": [
        "#Voting\n",
        "from sklearn.metrics import classification_report\n",
        "print(classification_report(labels_array[:len(labels_array)-1], g))"
      ]
    },
    {
      "cell_type": "markdown",
      "metadata": {
        "id": "H3uhTiYHjTMt"
      },
      "source": [
        "\n",
        "\n",
        "\n",
        "# Grad-CAM: Visual Explanations from Deep Networks\n",
        "\n",
        "\n"
      ]
    },
    {
      "cell_type": "code",
      "execution_count": null,
      "metadata": {
        "id": "XGuQA95slLkO"
      },
      "outputs": [],
      "source": [
        "import numpy as np\n",
        "import tensorflow as tf\n",
        "from tensorflow import keras\n",
        "\n",
        "# Display\n",
        "from IPython.display import Image, display\n",
        "import matplotlib.pyplot as plt\n",
        "import matplotlib.cm as cm"
      ]
    },
    {
      "cell_type": "code",
      "execution_count": null,
      "metadata": {
        "colab": {
          "base_uri": "https://localhost:8080/"
        },
        "id": "tcmS7tc8mocF",
        "outputId": "341750bb-cb3e-4603-95a7-49313174c9c7"
      },
      "outputs": [
        {
          "name": "stdout",
          "output_type": "stream",
          "text": [
            "Looking in indexes: https://pypi.org/simple, https://us-python.pkg.dev/colab-wheels/public/simple/\n",
            "Collecting grad-cam\n",
            "  Downloading grad-cam-1.3.9.tar.gz (16.8 MB)\n",
            "\u001b[K     |████████████████████████████████| 16.8 MB 54 kB/s \n",
            "\u001b[?25h  Installing build dependencies ... \u001b[?25l\u001b[?25hdone\n",
            "  Getting requirements to build wheel ... \u001b[?25l\u001b[?25hdone\n",
            "    Preparing wheel metadata ... \u001b[?25l\u001b[?25hdone\n",
            "Requirement already satisfied: torchvision>=0.8.2 in /usr/local/lib/python3.7/dist-packages (from grad-cam) (0.12.0+cu113)\n",
            "Requirement already satisfied: opencv-python in /usr/local/lib/python3.7/dist-packages (from grad-cam) (4.1.2.30)\n",
            "Requirement already satisfied: numpy in /usr/local/lib/python3.7/dist-packages (from grad-cam) (1.21.6)\n",
            "Collecting ttach\n",
            "  Downloading ttach-0.0.3-py3-none-any.whl (9.8 kB)\n",
            "Requirement already satisfied: tqdm in /usr/local/lib/python3.7/dist-packages (from grad-cam) (4.64.0)\n",
            "Requirement already satisfied: torch>=1.7.1 in /usr/local/lib/python3.7/dist-packages (from grad-cam) (1.11.0+cu113)\n",
            "Requirement already satisfied: Pillow in /usr/local/lib/python3.7/dist-packages (from grad-cam) (7.1.2)\n",
            "Requirement already satisfied: typing-extensions in /usr/local/lib/python3.7/dist-packages (from torch>=1.7.1->grad-cam) (4.2.0)\n",
            "Requirement already satisfied: requests in /usr/local/lib/python3.7/dist-packages (from torchvision>=0.8.2->grad-cam) (2.23.0)\n",
            "Requirement already satisfied: idna<3,>=2.5 in /usr/local/lib/python3.7/dist-packages (from requests->torchvision>=0.8.2->grad-cam) (2.10)\n",
            "Requirement already satisfied: certifi>=2017.4.17 in /usr/local/lib/python3.7/dist-packages (from requests->torchvision>=0.8.2->grad-cam) (2022.5.18.1)\n",
            "Requirement already satisfied: chardet<4,>=3.0.2 in /usr/local/lib/python3.7/dist-packages (from requests->torchvision>=0.8.2->grad-cam) (3.0.4)\n",
            "Requirement already satisfied: urllib3!=1.25.0,!=1.25.1,<1.26,>=1.21.1 in /usr/local/lib/python3.7/dist-packages (from requests->torchvision>=0.8.2->grad-cam) (1.24.3)\n",
            "Building wheels for collected packages: grad-cam\n",
            "  Building wheel for grad-cam (PEP 517) ... \u001b[?25l\u001b[?25hdone\n",
            "  Created wheel for grad-cam: filename=grad_cam-1.3.9-py3-none-any.whl size=25984 sha256=79bfd78fe585ad3be5b063fe1a35ed295652a4a4f0523ee708b5bab6eefa0f5b\n",
            "  Stored in directory: /root/.cache/pip/wheels/65/e8/6e/6eedfbe3f0007dfd8116e6820b69691c4103d89ad2ae8c69ff\n",
            "Successfully built grad-cam\n",
            "Installing collected packages: ttach, grad-cam\n",
            "Successfully installed grad-cam-1.3.9 ttach-0.0.3\n"
          ]
        }
      ],
      "source": [
        "pip install grad-cam\n"
      ]
    },
    {
      "cell_type": "code",
      "execution_count": null,
      "metadata": {
        "id": "BNPYQJqar2_W"
      },
      "outputs": [],
      "source": [
        "!unzip /content/pytorch-grad-cam-master.zip -d /content/pytorch-grad-cam-master"
      ]
    },
    {
      "cell_type": "code",
      "execution_count": null,
      "metadata": {
        "id": "MoooxKABqwRB"
      },
      "outputs": [],
      "source": [
        "from pytorch_grad_cam import GradCAM, ScoreCAM, GradCAMPlusPlus, AblationCAM, XGradCAM, EigenCAM, FullGrad\n",
        "from pytorch_grad_cam.utils.model_targets import ClassifierOutputTarget\n",
        "from pytorch_grad_cam.utils.image import show_cam_on_image"
      ]
    },
    {
      "cell_type": "code",
      "execution_count": null,
      "metadata": {
        "colab": {
          "base_uri": "https://localhost:8080/",
          "height": 246
        },
        "id": "2z1MJyr9jSzZ",
        "outputId": "5ba5b745-6405-468b-f140-d902fe0a85af"
      },
      "outputs": [
        {
          "ename": "NameError",
          "evalue": "ignored",
          "output_type": "error",
          "traceback": [
            "\u001b[0;31m---------------------------------------------------------------------------\u001b[0m",
            "\u001b[0;31mNameError\u001b[0m                                 Traceback (most recent call last)",
            "\u001b[0;32m<ipython-input-26-853bc2005016>\u001b[0m in \u001b[0;36m<module>\u001b[0;34m()\u001b[0m\n\u001b[1;32m      9\u001b[0m \u001b[0;34m\u001b[0m\u001b[0m\n\u001b[1;32m     10\u001b[0m \u001b[0;31m# Construct the CAM object once, and then re-use it on many images:\u001b[0m\u001b[0;34m\u001b[0m\u001b[0;34m\u001b[0m\u001b[0;34m\u001b[0m\u001b[0m\n\u001b[0;32m---> 11\u001b[0;31m \u001b[0mcam\u001b[0m \u001b[0;34m=\u001b[0m \u001b[0mGradCAM\u001b[0m\u001b[0;34m(\u001b[0m\u001b[0mmodel\u001b[0m\u001b[0;34m=\u001b[0m\u001b[0mmodel\u001b[0m\u001b[0;34m,\u001b[0m \u001b[0mtarget_layers\u001b[0m\u001b[0;34m=\u001b[0m\u001b[0mtarget_layers\u001b[0m\u001b[0;34m,\u001b[0m \u001b[0muse_cuda\u001b[0m\u001b[0;34m=\u001b[0m\u001b[0margs\u001b[0m\u001b[0;34m.\u001b[0m\u001b[0muse_cuda\u001b[0m\u001b[0;34m)\u001b[0m\u001b[0;34m\u001b[0m\u001b[0;34m\u001b[0m\u001b[0m\n\u001b[0m\u001b[1;32m     12\u001b[0m \u001b[0;34m\u001b[0m\u001b[0m\n\u001b[1;32m     13\u001b[0m \u001b[0;31m# You can also use it within a with statement, to make sure it is freed,\u001b[0m\u001b[0;34m\u001b[0m\u001b[0;34m\u001b[0m\u001b[0;34m\u001b[0m\u001b[0m\n",
            "\u001b[0;31mNameError\u001b[0m: name 'args' is not defined"
          ]
        }
      ],
      "source": [
        "\n",
        "from torchvision.models import resnet50\n",
        "\n",
        "model = resnet50(pretrained=True)\n",
        "target_layers = [model.layer4[-1]]\n",
        "input_tensor\n",
        " # Create an input tensor image for your model..\n",
        "# Note: input_tensor can be a batch tensor with several images!\n",
        "\n",
        "# Construct the CAM object once, and then re-use it on many images:\n",
        "cam = GradCAM(model=model, target_layers=target_layers, use_cuda=args.use_cuda)\n",
        "\n",
        "# You can also use it within a with statement, to make sure it is freed,\n",
        "# In case you need to re-create it inside an outer loop:\n",
        "# with GradCAM(model=model, target_layers=target_layers, use_cuda=args.use_cuda) as cam:\n",
        "#   ...\n",
        "\n",
        "# We have to specify the target we want to generate\n",
        "# the Class Activation Maps for.\n",
        "# If targets is None, the highest scoring category\n",
        "# will be used for every image in the batch.\n",
        "# Here we use ClassifierOutputTarget, but you can define your own custom targets\n",
        "# That are, for example, combinations of categories, or specific outputs in a non standard model.\n",
        "#e.g ClassifierOutputTarget(281)\n",
        "targets = [ClassifierOutputTarget(281)]\n",
        "\n",
        "# You can also pass aug_smooth=True and eigen_smooth=True, to apply smoothing.\n",
        "grayscale_cam = cam(input_tensor=input_tensor, targets=targets)\n",
        "\n",
        "# In this example grayscale_cam has only one image in the batch:\n",
        "grayscale_cam = grayscale_cam[0, :]\n",
        "visualization = show_cam_on_image(rgb_img, grayscale_cam, use_rgb=True)"
      ]
    }
  ],
  "metadata": {
    "accelerator": "GPU",
    "colab": {
      "collapsed_sections": [
        "8kpIi0dTS4sk",
        "fTufZLwElc7m"
      ],
      "provenance": [],
      "include_colab_link": true
    },
    "kernelspec": {
      "display_name": "Python 3",
      "language": "python",
      "name": "python3"
    },
    "language_info": {
      "codemirror_mode": {
        "name": "ipython",
        "version": 3
      },
      "file_extension": ".py",
      "mimetype": "text/x-python",
      "name": "python",
      "nbconvert_exporter": "python",
      "pygments_lexer": "ipython3",
      "version": "3.8.5"
    }
  },
  "nbformat": 4,
  "nbformat_minor": 0
}